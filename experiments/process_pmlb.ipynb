{
 "cells": [
  {
   "cell_type": "markdown",
   "metadata": {},
   "source": [
    "##### Imports"
   ]
  },
  {
   "cell_type": "code",
   "execution_count": 1,
   "metadata": {},
   "outputs": [],
   "source": [
    "from pathlib import Path\n",
    "from typing import Callable\n",
    "\n",
    "import numpy as np\n",
    "import requests\n",
    "import yaml\n",
    "from pmlb import classification_dataset_names, fetch_data, regression_dataset_names\n",
    "from sklearn.model_selection import train_test_split\n",
    "from tqdm import tqdm\n",
    "\n",
    "round_digits = 3\n",
    "\n",
    "r = lambda x: round(x, round_digits)\n",
    "\n",
    "METADATA_URL = \"https://raw.githubusercontent.com/EpistasisLab/pmlb/master/datasets/{}/metadata.yaml\""
   ]
  },
  {
   "cell_type": "code",
   "execution_count": 2,
   "metadata": {},
   "outputs": [
    {
     "data": {
      "text/plain": [
       "284"
      ]
     },
     "execution_count": 2,
     "metadata": {},
     "output_type": "execute_result"
    }
   ],
   "source": [
    "# total number of datasets\n",
    "len(classification_dataset_names) + len(regression_dataset_names)"
   ]
  },
  {
   "cell_type": "markdown",
   "metadata": {},
   "source": [
    "##### Function definitions"
   ]
  },
  {
   "cell_type": "code",
   "execution_count": 3,
   "metadata": {},
   "outputs": [
    {
     "name": "stdout",
     "output_type": "stream",
     "text": [
      "{'shuffle': True, 'train_size': 0.9, 'test_size': 0.1}\n",
      "{'shuffle': True, 'train_size': 0.778, 'test_size': 0.222}\n"
     ]
    }
   ],
   "source": [
    "train_frac, val_frac, test_frac = 0.7, 0.2, 0.1\n",
    "\n",
    "sum_frac = round(train_frac + val_frac + test_frac, 10)\n",
    "assert sum_frac == 1.0, sum_frac\n",
    "\n",
    "random_state = np.random.RandomState(0)\n",
    "\n",
    "# Note that this random state is used for all splits, so it changes over time\n",
    "shared_params = {\n",
    "    \"shuffle\": True,\n",
    "}\n",
    "\n",
    "train_test_params = {\n",
    "    **shared_params,\n",
    "    \"train_size\": r(train_frac + val_frac),\n",
    "    \"test_size\": r(test_frac),\n",
    "}\n",
    "\n",
    "train_val_test_params = {\n",
    "    **shared_params,\n",
    "    \"train_size\": r(train_frac / (1 - test_frac)),\n",
    "    \"test_size\": r(val_frac / (1 - test_frac)),\n",
    "}\n",
    "\n",
    "print(train_test_params)\n",
    "print(train_val_test_params)"
   ]
  },
  {
   "cell_type": "code",
   "execution_count": 4,
   "metadata": {},
   "outputs": [],
   "source": [
    "def get_state(random_state: np.random.RandomState) -> list:\n",
    "    state = random_state.get_state()\n",
    "\n",
    "    # cast the state to something that is yaml serializable\n",
    "    return [\n",
    "        str(state[0]),\n",
    "        list(map(int, state[1])),\n",
    "        int(state[2]),\n",
    "        int(state[3]),\n",
    "        float(state[4]),\n",
    "    ]\n",
    "\n",
    "\n",
    "def preprocess(\n",
    "    x: np.ndarray,\n",
    "    y: np.ndarray,\n",
    "    path: Path,\n",
    "    stratify: bool,\n",
    ") -> None:\n",
    "    tts_random_state = get_state(random_state)\n",
    "    x_train, x_test, y_train, y_test = train_test_split(\n",
    "        x,\n",
    "        y,\n",
    "        **train_test_params,\n",
    "        stratify=y if stratify else None,\n",
    "        random_state=random_state,\n",
    "    )\n",
    "\n",
    "    tvs_random_state = get_state(random_state)\n",
    "    x_train, x_val, y_train, y_val = train_test_split(\n",
    "        x_train,\n",
    "        y_train,\n",
    "        **train_val_test_params,\n",
    "        stratify=y_train if stratify else None,\n",
    "        random_state=random_state,\n",
    "    )\n",
    "\n",
    "    path.mkdir(parents=True, exist_ok=True)\n",
    "\n",
    "    np.savetxt(path / \"x_train.csv\", x_train, delimiter=\",\")\n",
    "    np.savetxt(path / \"y_train.csv\", y_train, delimiter=\",\")\n",
    "    np.savetxt(path / \"x_val.csv\", x_val, delimiter=\",\")\n",
    "    np.savetxt(path / \"y_val.csv\", y_val, delimiter=\",\")\n",
    "    np.savetxt(path / \"x_test.csv\", x_test, delimiter=\",\")\n",
    "    np.savetxt(path / \"y_test.csv\", y_test, delimiter=\",\")\n",
    "\n",
    "    with open(path / \"metadata.yaml\", \"w\") as f:\n",
    "        yaml.dump(\n",
    "            {\n",
    "                \"train_split\": train_test_params,\n",
    "                \"val_split\": train_val_test_params,\n",
    "                \"scaler\": None,\n",
    "                \"stratify\": stratify,\n",
    "                \"n_train\": len(set(y_train)),\n",
    "                \"n_val\": len(set(y_val)),\n",
    "                \"n_test\": len(set(y_test)),\n",
    "                \"n_total\": x.shape[0],\n",
    "                \"n_features\": x.shape[1],\n",
    "                \"tts_random_state\": tts_random_state,\n",
    "                \"tvs_random_state\": tvs_random_state,\n",
    "            },\n",
    "            f,\n",
    "        )\n",
    "\n",
    "\n",
    "def cache_data(pmlb_path: Path, bl_class: bool) -> None:\n",
    "    metadata = {}\n",
    "    method_name = \"class\" if bl_class else \"reg\"\n",
    "\n",
    "    dataset_names = (\n",
    "        classification_dataset_names if bl_class else regression_dataset_names\n",
    "    )\n",
    "\n",
    "    for dataset in tqdm(dataset_names):\n",
    "        x, y = fetch_data(\n",
    "            dataset,\n",
    "            return_X_y=True,\n",
    "            local_cache_dir=pmlb_path / \"raw\" / method_name,\n",
    "        )\n",
    "\n",
    "        metadata[dataset] = {\n",
    "            \"n_samples\": x.shape[0],\n",
    "            \"n_features\": x.shape[1],\n",
    "        }\n",
    "\n",
    "        if bl_class:\n",
    "            metadata[dataset][\"n_classes\"] = len(set(y))\n",
    "        else:\n",
    "            metadata[dataset][\"y_range\"] = [float(min(y)), float(max(y))]\n",
    "\n",
    "        tmp_metadata = yaml.safe_load(requests.get(METADATA_URL.format(dataset)).text)\n",
    "        metadata[dataset][\"pmlb_metadata\"] = tmp_metadata\n",
    "        metadata[dataset][\"feature_type\"] = [\n",
    "            f[\"type\"] for f in tmp_metadata[\"features\"]\n",
    "        ]\n",
    "\n",
    "        if not bl_class or len(set(y)) == 2:\n",
    "            preprocess(\n",
    "                x, y, pmlb_path / \"processed\" / method_name / dataset, stratify=bl_class\n",
    "            )\n",
    "\n",
    "    with open(pmlb_path / f\"{method_name}_metadata.yaml\", \"w\") as f:\n",
    "        yaml.dump(metadata, f)\n",
    "\n",
    "\n",
    "def load_and_callback(\n",
    "    pmlb_path: Path,\n",
    "    metadata_path: Path,\n",
    "    skip_callback: Callable[[dict], bool],\n",
    ") -> dict[str, np.ndarray | dict]:\n",
    "    datasets = {}\n",
    "\n",
    "    metadata = yaml.load(\n",
    "        open(metadata_path, \"r\"),\n",
    "        Loader=yaml.FullLoader,\n",
    "    )\n",
    "\n",
    "    for dataset in tqdm(metadata.keys()):\n",
    "        if skip_callback(metadata[dataset]):\n",
    "            continue\n",
    "\n",
    "        x_data, y_data = [], []\n",
    "\n",
    "        for split in [\"train\", \"val\", \"test\"]:\n",
    "            x = np.loadtxt(\n",
    "                pmlb_path / dataset / f\"x_{split}.csv\",\n",
    "                delimiter=\",\",\n",
    "            )\n",
    "            y = np.loadtxt(\n",
    "                pmlb_path / dataset / f\"y_{split}.csv\",\n",
    "                delimiter=\",\",\n",
    "            )\n",
    "\n",
    "            x_data.append(x)\n",
    "            y_data.append(y)\n",
    "\n",
    "        datasets[dataset] = {\n",
    "            \"x_train\": x_data[0],\n",
    "            \"y_train\": y_data[0],\n",
    "            \"x_val\": x_data[1],\n",
    "            \"y_val\": y_data[1],\n",
    "            \"x_test\": x_data[2],\n",
    "            \"y_test\": y_data[2],\n",
    "            \"metadata\": metadata[dataset],\n",
    "        }\n",
    "\n",
    "    return datasets\n",
    "\n",
    "\n",
    "def load(pmlb_path: Path, bl_class: bool) -> dict[str, np.ndarray | dict]:\n",
    "    \"\"\"\n",
    "    Load cached classification datasets that are binary classification.\n",
    "    \"\"\"\n",
    "    method_name = \"class\" if bl_class else \"reg\"\n",
    "\n",
    "    datasets = load_and_callback(\n",
    "        pmlb_path / \"processed\" / method_name,\n",
    "        pmlb_path / f\"{method_name}_metadata.yaml\",\n",
    "        lambda x: (x[\"n_classes\"] != 2 if bl_class else False),\n",
    "    )\n",
    "\n",
    "    return datasets"
   ]
  },
  {
   "cell_type": "markdown",
   "metadata": {},
   "source": [
    "##### Preprocess datasets"
   ]
  },
  {
   "cell_type": "code",
   "execution_count": 5,
   "metadata": {},
   "outputs": [
    {
     "name": "stderr",
     "output_type": "stream",
     "text": [
      "100%|██████████| 162/162 [00:41<00:00,  3.93it/s]\n",
      "100%|██████████| 122/122 [00:51<00:00,  2.36it/s]\n"
     ]
    }
   ],
   "source": [
    "pmlb_path = Path(\"..\") / \"datasets\" / \"pmlb\"\n",
    "\n",
    "cache_data(pmlb_path, bl_class=True)\n",
    "cache_data(pmlb_path, bl_class=False)"
   ]
  },
  {
   "cell_type": "code",
   "execution_count": 6,
   "metadata": {},
   "outputs": [
    {
     "name": "stderr",
     "output_type": "stream",
     "text": [
      "100%|██████████| 162/162 [00:00<00:00, 209.23it/s]\n",
      "100%|██████████| 122/122 [00:05<00:00, 21.14it/s]"
     ]
    },
    {
     "name": "stdout",
     "output_type": "stream",
     "text": [
      "Number of binary classification datasets: 90\n",
      "Number of regression datasets: 122\n"
     ]
    },
    {
     "name": "stderr",
     "output_type": "stream",
     "text": [
      "\n"
     ]
    }
   ],
   "source": [
    "class_datasets = load(pmlb_path, bl_class=True)\n",
    "reg_datasets = load(pmlb_path, bl_class=False)\n",
    "\n",
    "# This number does not account for datasets that may be too large for our GPU\n",
    "print(f\"Number of binary classification datasets: {len(class_datasets)}\")\n",
    "print(f\"Number of regression datasets: {len(reg_datasets)}\")"
   ]
  }
 ],
 "metadata": {
  "kernelspec": {
   "display_name": "Python 3",
   "language": "python",
   "name": "python3"
  },
  "language_info": {
   "codemirror_mode": {
    "name": "ipython",
    "version": 3
   },
   "file_extension": ".py",
   "mimetype": "text/x-python",
   "name": "python",
   "nbconvert_exporter": "python",
   "pygments_lexer": "ipython3",
   "version": "3.11.7"
  }
 },
 "nbformat": 4,
 "nbformat_minor": 2
}
