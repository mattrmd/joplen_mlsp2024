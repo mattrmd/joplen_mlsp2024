{
 "cells": [
  {
   "cell_type": "markdown",
   "metadata": {},
   "source": [
    "## Imports"
   ]
  },
  {
   "cell_type": "code",
   "execution_count": 81,
   "metadata": {},
   "outputs": [],
   "source": [
    "import os\n",
    "\n",
    "os.environ[\"TF_CPP_MIN_LOG_LEVEL\"] = \"2\"\n",
    "\n",
    "\n",
    "import numpy as np\n",
    "from sklearn import datasets\n",
    "from JOPLEn.singletask import JOPLEn\n",
    "from JOPLEn.enums import *\n",
    "from sklearn.ensemble import (\n",
    "    ExtraTreesRegressor,\n",
    "    RandomForestRegressor,\n",
    "    GradientBoostingRegressor,\n",
    "    AdaBoostRegressor,\n",
    ")\n",
    "from sklearn.linear_model import LinearRegression\n",
    "from lineartree import (\n",
    "    LinearForestRegressor,\n",
    "    LinearBoostRegressor,\n",
    ")\n",
    "from JOPLEn.ablation import Booster\n",
    "import lineartree as lt\n",
    "from sklearn.model_selection import train_test_split\n",
    "from sklearn.metrics import mean_squared_error\n",
    "from sklearn.dummy import DummyRegressor, DummyClassifier\n",
    "from itertools import product\n",
    "import warnings\n",
    "from collections import defaultdict\n",
    "from linear_operator.utils.warnings import NumericalWarning\n",
    "from sklearn.linear_model import Ridge\n",
    "\n",
    "# Hide future warnings because ax uses deprecated functions from pandas\n",
    "warnings.simplefilter(action=\"ignore\", category=FutureWarning)\n",
    "# Hide unfixable warning from ax (warns about default behavior but there isn't\n",
    "# a clear way to turn the warning off)\n",
    "warnings.simplefilter(action=\"ignore\", category=UserWarning)\n",
    "# Ax gives warning about non PSD matrix.\n",
    "# TODO: Should I fix this?\n",
    "warnings.simplefilter(action=\"ignore\", category=NumericalWarning)\n",
    "from ax import optimize\n",
    "from pathlib import Path\n",
    "from copy import copy, deepcopy\n",
    "import yaml\n",
    "import time\n",
    "from pprint import pprint\n",
    "from ax.service.ax_client import AxClient, ObjectiveProperties\n",
    "from tqdm.notebook import tqdm, trange\n",
    "import matplotlib.pyplot as plt\n",
    "import logging\n",
    "from ax.utils.common.logger import ROOT_STREAM_HANDLER\n",
    "from JOPLEn.partitioner import (\n",
    "    VPartition,\n",
    "    GBPartition,\n",
    "    RFPartition,\n",
    "    VarMaxForestPartition,\n",
    "    LinearForestPartition,\n",
    "    LinearBoostPartition,\n",
    ")\n",
    "from JOPLEn.enums import CellModel\n",
    "import matplotlib.pyplot as plt\n",
    "from lightgbm import LGBMRegressor\n",
    "from sklearn.pipeline import Pipeline\n",
    "from sklearn.preprocessing import StandardScaler\n",
    "from nn import NN\n",
    "\n",
    "import sys\n",
    "\n",
    "fastel_path = Path().resolve().parent\n",
    "sys.path.append(str(fastel_path))\n",
    "\n",
    "from FASTEL.src.engine import MultiTaskTrees\n",
    "\n",
    "ROOT_STREAM_HANDLER.setLevel(logging.ERROR)\n",
    "\n",
    "CACHE_DIR = Path(\"ax_runs\") / \"prediction\"\n",
    "CACHE_DIR.mkdir(parents=True, exist_ok=True)\n",
    "\n",
    "DS_PATH = Path(\"..\") / \"datasets\" / \"pmlb\" / \"processed\"\n",
    "PARAM_PATH = Path(\".\") / \"parameters\"\n",
    "PLOT_PATH = Path(\".\") / \"plots\""
   ]
  },
  {
   "cell_type": "code",
   "execution_count": 126,
   "metadata": {},
   "outputs": [],
   "source": [
    "\n",
    "# too many samples, causes JOPLEn to crash\n",
    "EXCLUDE = [\n",
    "    \"1191_BNG_pbc\",\n",
    "    \"215_2dplanes\",\n",
    "    \"1201_BNG_breastTumor\",\n",
    "    \"1196_BNG_pharynx\",\n",
    "    \"1595_poker\",\n",
    "    \"1203_BNG_pwLinear\",\n",
    "    \"594_fri_c2_100_5\",\n",
    "    \"218_house_8L\",\n",
    "    \"1193_BNG_lowbwt\",\n",
    "    \"537_houses\",\n",
    "    \"564_fried\",\n",
    "    \"344_mv\",\n",
    "    \"574_house_16H\",\n",
    "    \"573_cpu_act\",\n",
    "    \"562_cpu_small\",\n",
    "    \"1199_BNG_echoMonths\",\n",
    "    \"294_satellite_image\",\n",
    "    \"197_cpu_act\",\n",
    "    \"201_pol\",\n",
    "    \"227_cpu_small\",\n",
    "    \"503_wind\",\n",
    "    # # 10000 estimators\n",
    "    # \"225_puma8NH\",\n",
    "    # \"529_pollen\",\n",
    "    # \"622_fri_c2_1000_50\",\n",
    "    # \"banana\",\n",
    "]"
   ]
  },
  {
   "cell_type": "markdown",
   "metadata": {},
   "source": [
    "## Parameters"
   ]
  },
  {
   "cell_type": "code",
   "execution_count": 83,
   "metadata": {},
   "outputs": [],
   "source": [
    "model_info = {}\n",
    "\n",
    "for file in PARAM_PATH.glob(\"*.yaml\"):\n",
    "    model_info[file.stem] = yaml.safe_load(open(file, \"r\"))"
   ]
  },
  {
   "cell_type": "markdown",
   "metadata": {},
   "source": [
    "## Training Functions"
   ]
  },
  {
   "cell_type": "code",
   "execution_count": 84,
   "metadata": {},
   "outputs": [],
   "source": [
    "def rmse(y_true, y_pred):\n",
    "    return mean_squared_error(y_true, y_pred, squared=False)\n",
    "\n",
    "\n",
    "def timer_decorator(func):\n",
    "    def wrapper(*args, **kwargs):\n",
    "        start_time = time.time()\n",
    "        result = func(*args, **kwargs)\n",
    "        end_time = time.time()\n",
    "        elapsed_time = end_time - start_time\n",
    "\n",
    "        return (result, start_time, end_time, elapsed_time)\n",
    "\n",
    "    return wrapper\n",
    "\n",
    "\n",
    "@timer_decorator\n",
    "def train_lgbm(params, x_train, y_train, x_val, y_val, x_test=None, y_test=None):\n",
    "    model = LGBMRegressor(**params)\n",
    "    model.fit(\n",
    "        x_train,\n",
    "        y_train.flatten(),\n",
    "        # TODO: Need to re-enable validation set\n",
    "        eval_set=[(x_val, y_val.flatten())],\n",
    "        # verbose=-1,\n",
    "        callbacks=[],\n",
    "    )\n",
    "\n",
    "    val_error = float(rmse(y_val.flatten(), model.predict(x_val)))\n",
    "\n",
    "    if x_test is not None and y_test is not None:\n",
    "        test_error = float(rmse(y_test.flatten(), model.predict(x_test)))\n",
    "        return val_error, test_error, model, {}\n",
    "    else:\n",
    "        return val_error, model\n",
    "\n",
    "\n",
    "@timer_decorator\n",
    "def train_sklearn(\n",
    "    ModelClass,\n",
    "    params,\n",
    "    x_train,\n",
    "    y_train,\n",
    "    x_val,\n",
    "    y_val,\n",
    "    x_test=None,\n",
    "    y_test=None,\n",
    "    rescale=False,\n",
    "):\n",
    "    if rescale:\n",
    "        model = Pipeline(\n",
    "            [(\"scaler\", StandardScaler()), (\"model\", ModelClass(**params))]\n",
    "        )\n",
    "    else:\n",
    "        model = ModelClass(**params)\n",
    "    model.fit(x_train, y_train.flatten())\n",
    "\n",
    "    val_error = float(rmse(y_val.flatten(), model.predict(x_val)))\n",
    "\n",
    "    if x_test is not None and y_test is not None:\n",
    "        test_error = float(rmse(y_test.flatten(), model.predict(x_test)))\n",
    "        return val_error, test_error, model, {}\n",
    "    else:\n",
    "        return val_error, model\n",
    "\n",
    "\n",
    "def train_gbr(params, x_train, y_train, x_val, y_val, x_test=None, y_test=None):\n",
    "    return train_sklearn(\n",
    "        GradientBoostingRegressor,\n",
    "        params,\n",
    "        x_train,\n",
    "        y_train,\n",
    "        x_val,\n",
    "        y_val,\n",
    "        x_test,\n",
    "        y_test,\n",
    "    )\n",
    "\n",
    "\n",
    "def train_rfr(params, x_train, y_train, x_val, y_val, x_test=None, y_test=None):\n",
    "    return train_sklearn(\n",
    "        RandomForestRegressor,\n",
    "        params,\n",
    "        x_train,\n",
    "        y_train,\n",
    "        x_val,\n",
    "        y_val,\n",
    "        x_test,\n",
    "        y_test,\n",
    "    )\n",
    "\n",
    "\n",
    "def train_etr(params, x_train, y_train, x_val, y_val, x_test=None, y_test=None):\n",
    "    return train_sklearn(\n",
    "        ExtraTreesRegressor,\n",
    "        params,\n",
    "        x_train,\n",
    "        y_train,\n",
    "        x_val,\n",
    "        y_val,\n",
    "        x_test,\n",
    "        y_test,\n",
    "    )\n",
    "\n",
    "\n",
    "def train_abr(params, x_train, y_train, x_val, y_val, x_test=None, y_test=None):\n",
    "    return train_sklearn(\n",
    "        AdaboostRegressor,\n",
    "        params,\n",
    "        x_train,\n",
    "        y_train,\n",
    "        x_val,\n",
    "        y_val,\n",
    "        x_test,\n",
    "        y_test,\n",
    "    )\n",
    "\n",
    "\n",
    "def train_lb(params, x_train, y_train, x_val, y_val, x_test=None, y_test=None):\n",
    "    return train_sklearn(\n",
    "        LinearBoostRegressor,\n",
    "        {**params, \"base_estimator\": LinearRegression()},\n",
    "        x_train,\n",
    "        y_train,\n",
    "        x_val,\n",
    "        y_val,\n",
    "        x_test,\n",
    "        y_test,\n",
    "    )\n",
    "\n",
    "\n",
    "def train_lf(params, x_train, y_train, x_val, y_val, x_test=None, y_test=None):\n",
    "    return train_sklearn(\n",
    "        LinearForestRegressor,\n",
    "        {**params, \"base_estimator\": LinearRegression()},\n",
    "        x_train,\n",
    "        y_train,\n",
    "        x_val,\n",
    "        y_val,\n",
    "        x_test,\n",
    "        y_test,\n",
    "    )\n",
    "\n",
    "\n",
    "def train_ridge(params, x_train, y_train, x_val, y_val, x_test=None, y_test=None):\n",
    "    return train_sklearn(\n",
    "        Ridge,\n",
    "        params,\n",
    "        x_train,\n",
    "        y_train,\n",
    "        x_val,\n",
    "        y_val,\n",
    "        x_test,\n",
    "        y_test,\n",
    "        rescale=True,\n",
    "    )\n",
    "\n",
    "\n",
    "@timer_decorator\n",
    "def train_pen(\n",
    "    ModelType,\n",
    "    params,\n",
    "    x_train,\n",
    "    y_train,\n",
    "    x_val,\n",
    "    y_val,\n",
    "    x_test=None,\n",
    "    y_test=None,\n",
    "):\n",
    "    params = deepcopy(params)\n",
    "\n",
    "    initial_params = {\n",
    "        \"partitioner\": eval(params.pop(\"partitioner\")),\n",
    "        \"n_cells\": params.pop(\"n_cells\"),\n",
    "        \"n_partitions\": params.pop(\"n_partitions\"),\n",
    "        \"random_state\": params.pop(\"random_state\"),\n",
    "    }\n",
    "\n",
    "    if \"cell_model\" in params:\n",
    "        initial_params[\"cell_model\"] = eval(params.pop(\"cell_model\"))\n",
    "\n",
    "    model = ModelType(**initial_params)\n",
    "\n",
    "    if \"norm_type\" in params:\n",
    "        params[\"norm_type\"] = eval(params[\"norm_type\"])\n",
    "\n",
    "    history = model.fit(\n",
    "        x_train,\n",
    "        y_train,\n",
    "        val_x=x_val,\n",
    "        val_y=y_val,\n",
    "        **params,\n",
    "    )\n",
    "\n",
    "    val_error = float(rmse(y_val, model.predict(x_val)))\n",
    "\n",
    "    if x_test is not None and y_test is not None:\n",
    "        test_error = float(rmse(y_test, model.predict(x_test)))\n",
    "        return (\n",
    "            val_error,\n",
    "            test_error,\n",
    "            model,\n",
    "            {\"n_epochs\": len(history[\"objective\"]) if \"objective\" in history else None},\n",
    "        )\n",
    "    else:\n",
    "        return val_error, model\n",
    "\n",
    "\n",
    "def train_joplen(params, x_train, y_train, x_val, y_val, x_test=None, y_test=None):\n",
    "    return train_pen(JOPLEn, params, x_train, y_train, x_val, y_val, x_test, y_test)\n",
    "\n",
    "\n",
    "def train_booster(params, x_train, y_train, x_val, y_val, x_test=None, y_test=None):\n",
    "    return train_pen(Booster, params, x_train, y_train, x_val, y_val, x_test, y_test)\n",
    "\n",
    "\n",
    "@timer_decorator\n",
    "def train_fastel(params, x_train, y_train, x_val, y_val, x_test=None, y_test=None):\n",
    "    xs = StandardScaler().fit(x_train)\n",
    "    ys = StandardScaler().fit(y_train.reshape(-1, 1))\n",
    "\n",
    "    model = MultiTaskTrees(input_shape=x_train.shape[1:], **params)\n",
    "\n",
    "    model.train(\n",
    "        xs.transform(x_train),\n",
    "        ys.transform(y_train.reshape(-1, 1)),\n",
    "        np.ones((y_train.shape[0], 1)),\n",
    "        xs.transform(x_val),\n",
    "        ys.transform(y_val.reshape(-1, 1)),\n",
    "        np.ones((y_val.shape[0], 1)),\n",
    "    )\n",
    "\n",
    "    y_val_pred = ys.inverse_transform(model.predict(xs.transform(x_val))[:, None])\n",
    "    val_error = float(rmse(y_val, y_val_pred.flatten()))\n",
    "\n",
    "    if x_test is not None and y_test is not None:\n",
    "        y_test_pred = ys.inverse_transform(model.predict(xs.transform(x_test))[:, None])\n",
    "        test_error = float(rmse(y_test, y_test_pred.flatten()))\n",
    "        return val_error, test_error, model, {}\n",
    "    else:\n",
    "        return val_error, model\n",
    "\n",
    "\n",
    "@timer_decorator\n",
    "def train_nn(params, x_train, y_train, x_val, y_val, x_test=None, y_test=None):\n",
    "    xs = StandardScaler().fit(x_train)\n",
    "\n",
    "    tmp_params = deepcopy(params)\n",
    "\n",
    "    model = NN(\n",
    "        hidden_layer_size=tmp_params.pop(\"hidden_layer_size\"),\n",
    "        n_hidden_layers=tmp_params.pop(\"n_hidden_layers\"),\n",
    "        activation=tmp_params.pop(\"activation\"),\n",
    "        sel_feat=False,\n",
    "    )\n",
    "    model.fit(\n",
    "        xs.transform(x_train),\n",
    "        y_train,\n",
    "        xs.transform(x_val),\n",
    "        y_val,\n",
    "        **tmp_params,\n",
    "    )\n",
    "\n",
    "    y_val_pred = model.predict(xs.transform(x_val))\n",
    "    val_error = float(rmse(y_val, y_val_pred.flatten()))\n",
    "\n",
    "    if x_test is not None and y_test is not None:\n",
    "        y_test_pred = model.predict(xs.transform(x_test))\n",
    "        test_error = float(rmse(y_test, y_test_pred.flatten()))\n",
    "        return val_error, test_error, model, {}\n",
    "    else:\n",
    "        return val_error, model"
   ]
  },
  {
   "cell_type": "code",
   "execution_count": 85,
   "metadata": {},
   "outputs": [],
   "source": [
    "def dummy_regressor(x_train, x_val, x_test, y_train, y_val, y_test, indent=False):\n",
    "    dummy = DummyRegressor(strategy=\"mean\")\n",
    "    dummy.fit(x_train, y_train)\n",
    "    y_pred = dummy.predict(x_test)\n",
    "\n",
    "    res = {\n",
    "        \"model_name\": dummy.__class__.__name__,\n",
    "        \"rmse\": float(rmse(y_test, y_pred)),\n",
    "    }\n",
    "\n",
    "    return res"
   ]
  },
  {
   "cell_type": "markdown",
   "metadata": {},
   "source": [
    "## Run Experiments"
   ]
  },
  {
   "cell_type": "code",
   "execution_count": 86,
   "metadata": {},
   "outputs": [],
   "source": [
    "def contains_categorical(arr: np.ndarray) -> bool:\n",
    "    \"\"\"Checks if an array contains categorical, ordinal, binary, or nominal features\"\"\"\n",
    "    return np.any(np.all(np.mod(arr, 1) == 0, axis=0))\n",
    "\n",
    "\n",
    "train_fn = {\n",
    "    LGBMRegressor.__name__: train_lgbm,\n",
    "    GradientBoostingRegressor.__name__: train_gbr,\n",
    "    RandomForestRegressor.__name__: train_rfr,\n",
    "    ExtraTreesRegressor.__name__: train_etr,\n",
    "    JOPLEn.__name__: train_joplen,\n",
    "    LinearBoostRegressor.__name__: train_lb,\n",
    "    LinearForestRegressor.__name__: train_lf,\n",
    "    Booster.__name__: train_booster,\n",
    "    Ridge.__name__: train_ridge,\n",
    "    MultiTaskTrees.__name__: train_fastel,\n",
    "    NN.__name__: train_nn,\n",
    "}\n",
    "\n",
    "\n",
    "def optimize_model(model_info, ds_path, n_trials, minimize, loss_type, overwrite=False, skip_categorical=True):\n",
    "    ds_name = ds_path.name\n",
    "    params = model_info[\"parameters\"]\n",
    "\n",
    "    dir_path = CACHE_DIR / model_info[\"dir_name\"] / ds_name\n",
    "    exp_path = dir_path / \"experiment.json\"\n",
    "    metadata_path = dir_path / \"metadata.yaml\"\n",
    "\n",
    "    if metadata_path.exists() and not overwrite:\n",
    "        with open(metadata_path, \"r\") as f:\n",
    "            metadata = yaml.load(f, Loader=yaml.FullLoader)\n",
    "        return metadata\n",
    "\n",
    "    x_train = np.loadtxt(ds_path / \"x_train.csv\", delimiter=\",\")\n",
    "    x_val = np.loadtxt(ds_path / \"x_val.csv\", delimiter=\",\")\n",
    "    x_test = np.loadtxt(ds_path / \"x_test.csv\", delimiter=\",\")\n",
    "    y_train = np.loadtxt(ds_path / \"y_train.csv\", delimiter=\",\")\n",
    "    y_val = np.loadtxt(ds_path / \"y_val.csv\", delimiter=\",\")\n",
    "    y_test = np.loadtxt(ds_path / \"y_test.csv\", delimiter=\",\")\n",
    "\n",
    "    cell_model = [param[\"value\"] for param in params if param[\"name\"]==\"cell_model\"]\n",
    "    if len(cell_model) > 0 and cell_model[0] == \"CellModel.constant\":\n",
    "        is_constant_joplen = True\n",
    "    else:\n",
    "        is_constant_joplen = False\n",
    "\n",
    "    parts = set(model_info[\"dir_name\"].split(\"_\"))\n",
    "\n",
    "    if parts.intersection([\"gb\", \"lgbm\", \"rf\", \"et\"]):\n",
    "        const_part = (len(parts)==1) or is_constant_joplen\n",
    "    else:\n",
    "        const_part = False\n",
    "\n",
    "    if contains_categorical(x_train) and skip_categorical:\n",
    "        return None\n",
    "\n",
    "    if contains_categorical(x_train) and not const_part:\n",
    "        return None\n",
    "\n",
    "    dummy_info = dummy_regressor(\n",
    "        x_train, x_val, x_test, y_train, y_val, y_test, indent=True\n",
    "    )\n",
    "\n",
    "    if not exp_path.exists() or overwrite:\n",
    "        ax_client = AxClient(\n",
    "            random_seed=0,\n",
    "            verbose_logging=False,\n",
    "        )\n",
    "\n",
    "        ax_client.create_experiment(\n",
    "            name=f\"{model_info['model']}_{ds_name}\",\n",
    "            parameters=params,\n",
    "            objectives={loss_type: ObjectiveProperties(minimize=minimize)},\n",
    "            overwrite_existing_experiment=True,\n",
    "        )\n",
    "\n",
    "        for _ in trange(n_trials, leave=False, position=1):\n",
    "            round_params, trial_index = ax_client.get_next_trial()\n",
    "\n",
    "            try:\n",
    "                val_error, _ = train_fn[model_info[\"model\"]](\n",
    "                    round_params,\n",
    "                    x_train=x_train,\n",
    "                    y_train=y_train,\n",
    "                    x_val=x_val,\n",
    "                    y_val=y_val,\n",
    "                )[0]\n",
    "                ax_client.complete_trial(\n",
    "                    trial_index=trial_index, raw_data=float(val_error)\n",
    "                )\n",
    "            except ValueError as e:\n",
    "                print(e)\n",
    "                ax_client.abandon_trial(\n",
    "                    trial_index=trial_index,\n",
    "                    reason=str(e),\n",
    "                )\n",
    "    else:\n",
    "        ax_client = AxClient.load_from_json_file(filepath=exp_path)\n",
    "\n",
    "    best_parameters, values = ax_client.get_best_parameters()\n",
    "\n",
    "    (val_error, test_error, _, metadata), _, _, train_time = train_fn[\n",
    "        model_info[\"model\"]\n",
    "    ](\n",
    "        best_parameters,\n",
    "        x_train=x_train,\n",
    "        y_train=y_train,\n",
    "        x_val=x_val,\n",
    "        y_val=y_val,\n",
    "        x_test=x_test,\n",
    "        y_test=y_test,\n",
    "    )\n",
    "\n",
    "    exp_path.parent.mkdir(parents=True, exist_ok=True)\n",
    "\n",
    "    ax_client.save_to_json_file(\n",
    "        filepath=exp_path,\n",
    "    )\n",
    "\n",
    "    metadata = {\n",
    "        \"model_name\": model_info[\"model\"],\n",
    "        \"val_score\": float(val_error),\n",
    "        \"test_score\": float(test_error),\n",
    "        \"train_time\": float(train_time),\n",
    "        \"params\": best_parameters,\n",
    "        \"dummy_loss\": float(dummy_info[\"rmse\"]),\n",
    "        **metadata,\n",
    "    }\n",
    "\n",
    "    with open(metadata_path, \"w\") as f:\n",
    "        yaml.dump(metadata, f)\n",
    "\n",
    "    return metadata"
   ]
  },
  {
   "cell_type": "code",
   "execution_count": 130,
   "metadata": {},
   "outputs": [
    {
     "data": {
      "application/vnd.jupyter.widget-view+json": {
       "model_id": "f0b695ce4f354b7ab8df2e0c65bacaef",
       "version_major": 2,
       "version_minor": 0
      },
      "text/plain": [
       "  0%|          | 0/122 [00:00<?, ?it/s]"
      ]
     },
     "metadata": {},
     "output_type": "display_data"
    },
    {
     "data": {
      "application/vnd.jupyter.widget-view+json": {
       "model_id": "947db43c6a3b43d7944a2486f44f3a38",
       "version_major": 2,
       "version_minor": 0
      },
      "text/plain": [
       "  0%|          | 0/50 [00:00<?, ?it/s]"
      ]
     },
     "metadata": {},
     "output_type": "display_data"
    },
    {
     "data": {
      "application/vnd.jupyter.widget-view+json": {
       "model_id": "21b7ef1f968a4ffabd8b7918a69118aa",
       "version_major": 2,
       "version_minor": 0
      },
      "text/plain": [
       "  0%|          | 0/50 [00:00<?, ?it/s]"
      ]
     },
     "metadata": {},
     "output_type": "display_data"
    },
    {
     "data": {
      "application/vnd.jupyter.widget-view+json": {
       "model_id": "4735b0a5699047e5bdc86ad976b73dd6",
       "version_major": 2,
       "version_minor": 0
      },
      "text/plain": [
       "  0%|          | 0/50 [00:00<?, ?it/s]"
      ]
     },
     "metadata": {},
     "output_type": "display_data"
    },
    {
     "data": {
      "application/vnd.jupyter.widget-view+json": {
       "model_id": "db4528b9f097459589827ee7d8d8bead",
       "version_major": 2,
       "version_minor": 0
      },
      "text/plain": [
       "  0%|          | 0/50 [00:00<?, ?it/s]"
      ]
     },
     "metadata": {},
     "output_type": "display_data"
    },
    {
     "data": {
      "application/vnd.jupyter.widget-view+json": {
       "model_id": "fb6010d6ab854ed798948701d5a3c3fd",
       "version_major": 2,
       "version_minor": 0
      },
      "text/plain": [
       "  0%|          | 0/50 [00:00<?, ?it/s]"
      ]
     },
     "metadata": {},
     "output_type": "display_data"
    },
    {
     "data": {
      "application/vnd.jupyter.widget-view+json": {
       "model_id": "587d9ed02cb44a8f9f7fb5f9a60a27a0",
       "version_major": 2,
       "version_minor": 0
      },
      "text/plain": [
       "  0%|          | 0/50 [00:00<?, ?it/s]"
      ]
     },
     "metadata": {},
     "output_type": "display_data"
    },
    {
     "data": {
      "application/vnd.jupyter.widget-view+json": {
       "model_id": "94fbf0de48134cc19516a826a11e5b54",
       "version_major": 2,
       "version_minor": 0
      },
      "text/plain": [
       "  0%|          | 0/50 [00:00<?, ?it/s]"
      ]
     },
     "metadata": {},
     "output_type": "display_data"
    },
    {
     "data": {
      "application/vnd.jupyter.widget-view+json": {
       "model_id": "c43c104b6e57435c83dbe3d573010474",
       "version_major": 2,
       "version_minor": 0
      },
      "text/plain": [
       "  0%|          | 0/50 [00:00<?, ?it/s]"
      ]
     },
     "metadata": {},
     "output_type": "display_data"
    },
    {
     "data": {
      "application/vnd.jupyter.widget-view+json": {
       "model_id": "80a24b3487234a4fa41141473f728dbe",
       "version_major": 2,
       "version_minor": 0
      },
      "text/plain": [
       "  0%|          | 0/50 [00:00<?, ?it/s]"
      ]
     },
     "metadata": {},
     "output_type": "display_data"
    },
    {
     "data": {
      "application/vnd.jupyter.widget-view+json": {
       "model_id": "cd90ae1b3ade437d990f437c2f4e9c09",
       "version_major": 2,
       "version_minor": 0
      },
      "text/plain": [
       "  0%|          | 0/50 [00:00<?, ?it/s]"
      ]
     },
     "metadata": {},
     "output_type": "display_data"
    },
    {
     "data": {
      "application/vnd.jupyter.widget-view+json": {
       "model_id": "6522a5b59e0744039a4bb282ab861383",
       "version_major": 2,
       "version_minor": 0
      },
      "text/plain": [
       "  0%|          | 0/50 [00:00<?, ?it/s]"
      ]
     },
     "metadata": {},
     "output_type": "display_data"
    },
    {
     "data": {
      "application/vnd.jupyter.widget-view+json": {
       "model_id": "93f88e17800547e3804aae6dbc7f0b1b",
       "version_major": 2,
       "version_minor": 0
      },
      "text/plain": [
       "  0%|          | 0/50 [00:00<?, ?it/s]"
      ]
     },
     "metadata": {},
     "output_type": "display_data"
    },
    {
     "data": {
      "application/vnd.jupyter.widget-view+json": {
       "model_id": "1dcc6cf5f99d4fd7bafd567dc46ccc35",
       "version_major": 2,
       "version_minor": 0
      },
      "text/plain": [
       "  0%|          | 0/50 [00:00<?, ?it/s]"
      ]
     },
     "metadata": {},
     "output_type": "display_data"
    },
    {
     "data": {
      "application/vnd.jupyter.widget-view+json": {
       "model_id": "37925cd7b82f40388ba20f9f54271109",
       "version_major": 2,
       "version_minor": 0
      },
      "text/plain": [
       "  0%|          | 0/50 [00:00<?, ?it/s]"
      ]
     },
     "metadata": {},
     "output_type": "display_data"
    },
    {
     "data": {
      "application/vnd.jupyter.widget-view+json": {
       "model_id": "6b18ee24857d499a856990838780bb3d",
       "version_major": 2,
       "version_minor": 0
      },
      "text/plain": [
       "  0%|          | 0/50 [00:00<?, ?it/s]"
      ]
     },
     "metadata": {},
     "output_type": "display_data"
    },
    {
     "data": {
      "application/vnd.jupyter.widget-view+json": {
       "model_id": "34dc74829e8947f587a5fd1482e8eebe",
       "version_major": 2,
       "version_minor": 0
      },
      "text/plain": [
       "  0%|          | 0/50 [00:00<?, ?it/s]"
      ]
     },
     "metadata": {},
     "output_type": "display_data"
    },
    {
     "name": "stderr",
     "output_type": "stream",
     "text": [
      "/home/matt/code/school/joplen/code/joplen-tests/my_env311/lib/python3.11/site-packages/botorch/optim/initializers.py:403: BadInitialCandidatesWarning: Unable to find non-zero acquisition function values - initial conditions are being selected randomly.\n",
      "  warnings.warn(\n",
      "/home/matt/code/school/joplen/code/joplen-tests/my_env311/lib/python3.11/site-packages/botorch/optim/initializers.py:403: BadInitialCandidatesWarning: Unable to find non-zero acquisition function values - initial conditions are being selected randomly.\n",
      "  warnings.warn(\n",
      "/home/matt/code/school/joplen/code/joplen-tests/my_env311/lib/python3.11/site-packages/botorch/optim/initializers.py:403: BadInitialCandidatesWarning: Unable to find non-zero acquisition function values - initial conditions are being selected randomly.\n",
      "  warnings.warn(\n"
     ]
    },
    {
     "data": {
      "application/vnd.jupyter.widget-view+json": {
       "model_id": "557ffaf3b2c8405f84ad62eb9e0f68ea",
       "version_major": 2,
       "version_minor": 0
      },
      "text/plain": [
       "  0%|          | 0/50 [00:00<?, ?it/s]"
      ]
     },
     "metadata": {},
     "output_type": "display_data"
    },
    {
     "data": {
      "application/vnd.jupyter.widget-view+json": {
       "model_id": "f988ff28b47f49d2831778e87ee288ce",
       "version_major": 2,
       "version_minor": 0
      },
      "text/plain": [
       "  0%|          | 0/50 [00:00<?, ?it/s]"
      ]
     },
     "metadata": {},
     "output_type": "display_data"
    },
    {
     "data": {
      "application/vnd.jupyter.widget-view+json": {
       "model_id": "99c330528f9a443898f3d32d14f5d9b2",
       "version_major": 2,
       "version_minor": 0
      },
      "text/plain": [
       "  0%|          | 0/50 [00:00<?, ?it/s]"
      ]
     },
     "metadata": {},
     "output_type": "display_data"
    },
    {
     "data": {
      "application/vnd.jupyter.widget-view+json": {
       "model_id": "18657b068b5942979d4b7ae349d01363",
       "version_major": 2,
       "version_minor": 0
      },
      "text/plain": [
       "  0%|          | 0/50 [00:00<?, ?it/s]"
      ]
     },
     "metadata": {},
     "output_type": "display_data"
    },
    {
     "data": {
      "application/vnd.jupyter.widget-view+json": {
       "model_id": "8677034a7dbc4994a3ad655e1f3b631e",
       "version_major": 2,
       "version_minor": 0
      },
      "text/plain": [
       "  0%|          | 0/50 [00:00<?, ?it/s]"
      ]
     },
     "metadata": {},
     "output_type": "display_data"
    },
    {
     "data": {
      "application/vnd.jupyter.widget-view+json": {
       "model_id": "72a7aba23f6548adb260f74c3135173f",
       "version_major": 2,
       "version_minor": 0
      },
      "text/plain": [
       "  0%|          | 0/50 [00:00<?, ?it/s]"
      ]
     },
     "metadata": {},
     "output_type": "display_data"
    },
    {
     "data": {
      "application/vnd.jupyter.widget-view+json": {
       "model_id": "cd78bc11c83246be83e6b8bf448bd957",
       "version_major": 2,
       "version_minor": 0
      },
      "text/plain": [
       "  0%|          | 0/50 [00:00<?, ?it/s]"
      ]
     },
     "metadata": {},
     "output_type": "display_data"
    },
    {
     "data": {
      "application/vnd.jupyter.widget-view+json": {
       "model_id": "d76cb9d9ac384983ac92f3ee1743edec",
       "version_major": 2,
       "version_minor": 0
      },
      "text/plain": [
       "  0%|          | 0/50 [00:00<?, ?it/s]"
      ]
     },
     "metadata": {},
     "output_type": "display_data"
    },
    {
     "data": {
      "application/vnd.jupyter.widget-view+json": {
       "model_id": "8b48f8e927f14f56a08b52094ab33194",
       "version_major": 2,
       "version_minor": 0
      },
      "text/plain": [
       "  0%|          | 0/50 [00:00<?, ?it/s]"
      ]
     },
     "metadata": {},
     "output_type": "display_data"
    },
    {
     "data": {
      "application/vnd.jupyter.widget-view+json": {
       "model_id": "9c3c60cdd0bd4191be455fc977854330",
       "version_major": 2,
       "version_minor": 0
      },
      "text/plain": [
       "  0%|          | 0/50 [00:00<?, ?it/s]"
      ]
     },
     "metadata": {},
     "output_type": "display_data"
    },
    {
     "data": {
      "application/vnd.jupyter.widget-view+json": {
       "model_id": "7b74e57d4fdb41a2a741b880e451f61a",
       "version_major": 2,
       "version_minor": 0
      },
      "text/plain": [
       "  0%|          | 0/50 [00:00<?, ?it/s]"
      ]
     },
     "metadata": {},
     "output_type": "display_data"
    },
    {
     "data": {
      "application/vnd.jupyter.widget-view+json": {
       "model_id": "d40aeb93cdae492e89a8de43c25b6668",
       "version_major": 2,
       "version_minor": 0
      },
      "text/plain": [
       "  0%|          | 0/50 [00:00<?, ?it/s]"
      ]
     },
     "metadata": {},
     "output_type": "display_data"
    },
    {
     "name": "stderr",
     "output_type": "stream",
     "text": [
      "/home/matt/code/school/joplen/code/joplen-tests/my_env311/lib/python3.11/site-packages/botorch/optim/initializers.py:403: BadInitialCandidatesWarning: Unable to find non-zero acquisition function values - initial conditions are being selected randomly.\n",
      "  warnings.warn(\n",
      "/home/matt/code/school/joplen/code/joplen-tests/my_env311/lib/python3.11/site-packages/botorch/optim/initializers.py:403: BadInitialCandidatesWarning: Unable to find non-zero acquisition function values - initial conditions are being selected randomly.\n",
      "  warnings.warn(\n",
      "/home/matt/code/school/joplen/code/joplen-tests/my_env311/lib/python3.11/site-packages/botorch/optim/initializers.py:403: BadInitialCandidatesWarning: Unable to find non-zero acquisition function values - initial conditions are being selected randomly.\n",
      "  warnings.warn(\n",
      "/home/matt/code/school/joplen/code/joplen-tests/my_env311/lib/python3.11/site-packages/botorch/optim/initializers.py:403: BadInitialCandidatesWarning: Unable to find non-zero acquisition function values - initial conditions are being selected randomly.\n",
      "  warnings.warn(\n",
      "/home/matt/code/school/joplen/code/joplen-tests/my_env311/lib/python3.11/site-packages/botorch/optim/initializers.py:403: BadInitialCandidatesWarning: Unable to find non-zero acquisition function values - initial conditions are being selected randomly.\n",
      "  warnings.warn(\n"
     ]
    },
    {
     "data": {
      "application/vnd.jupyter.widget-view+json": {
       "model_id": "526ce17457a24b388285514fa7358003",
       "version_major": 2,
       "version_minor": 0
      },
      "text/plain": [
       "  0%|          | 0/50 [00:00<?, ?it/s]"
      ]
     },
     "metadata": {},
     "output_type": "display_data"
    },
    {
     "data": {
      "application/vnd.jupyter.widget-view+json": {
       "model_id": "216e59cc7ed5433f8cd64fff61d6b9d4",
       "version_major": 2,
       "version_minor": 0
      },
      "text/plain": [
       "  0%|          | 0/50 [00:00<?, ?it/s]"
      ]
     },
     "metadata": {},
     "output_type": "display_data"
    },
    {
     "data": {
      "application/vnd.jupyter.widget-view+json": {
       "model_id": "a9a9cbfd663a42479a411623a4f1711d",
       "version_major": 2,
       "version_minor": 0
      },
      "text/plain": [
       "  0%|          | 0/50 [00:00<?, ?it/s]"
      ]
     },
     "metadata": {},
     "output_type": "display_data"
    },
    {
     "data": {
      "application/vnd.jupyter.widget-view+json": {
       "model_id": "747060bdb241403992c48ef425e31c37",
       "version_major": 2,
       "version_minor": 0
      },
      "text/plain": [
       "  0%|          | 0/50 [00:00<?, ?it/s]"
      ]
     },
     "metadata": {},
     "output_type": "display_data"
    },
    {
     "data": {
      "application/vnd.jupyter.widget-view+json": {
       "model_id": "1a3f470c226147a2959642bc8c19d8ea",
       "version_major": 2,
       "version_minor": 0
      },
      "text/plain": [
       "  0%|          | 0/50 [00:00<?, ?it/s]"
      ]
     },
     "metadata": {},
     "output_type": "display_data"
    },
    {
     "data": {
      "application/vnd.jupyter.widget-view+json": {
       "model_id": "1d3a7ac514cb415e83567d72b727f8ea",
       "version_major": 2,
       "version_minor": 0
      },
      "text/plain": [
       "  0%|          | 0/50 [00:00<?, ?it/s]"
      ]
     },
     "metadata": {},
     "output_type": "display_data"
    },
    {
     "data": {
      "application/vnd.jupyter.widget-view+json": {
       "model_id": "f1420bba7a6c437a983b2a353c3cecb8",
       "version_major": 2,
       "version_minor": 0
      },
      "text/plain": [
       "  0%|          | 0/50 [00:00<?, ?it/s]"
      ]
     },
     "metadata": {},
     "output_type": "display_data"
    },
    {
     "data": {
      "application/vnd.jupyter.widget-view+json": {
       "model_id": "b110382bf80047a5bff73a0e4d53cafa",
       "version_major": 2,
       "version_minor": 0
      },
      "text/plain": [
       "  0%|          | 0/50 [00:00<?, ?it/s]"
      ]
     },
     "metadata": {},
     "output_type": "display_data"
    },
    {
     "data": {
      "application/vnd.jupyter.widget-view+json": {
       "model_id": "08315606ab9244faaaa028c63e492d83",
       "version_major": 2,
       "version_minor": 0
      },
      "text/plain": [
       "  0%|          | 0/50 [00:00<?, ?it/s]"
      ]
     },
     "metadata": {},
     "output_type": "display_data"
    },
    {
     "data": {
      "application/vnd.jupyter.widget-view+json": {
       "model_id": "8e059c5c86944dcc9637f09224740ba9",
       "version_major": 2,
       "version_minor": 0
      },
      "text/plain": [
       "  0%|          | 0/50 [00:00<?, ?it/s]"
      ]
     },
     "metadata": {},
     "output_type": "display_data"
    },
    {
     "data": {
      "application/vnd.jupyter.widget-view+json": {
       "model_id": "5162a6dd11fd4e67996ab2fa3dd0a6db",
       "version_major": 2,
       "version_minor": 0
      },
      "text/plain": [
       "  0%|          | 0/50 [00:00<?, ?it/s]"
      ]
     },
     "metadata": {},
     "output_type": "display_data"
    },
    {
     "data": {
      "application/vnd.jupyter.widget-view+json": {
       "model_id": "bcf4347f229f4e08ac1832d1ac708e73",
       "version_major": 2,
       "version_minor": 0
      },
      "text/plain": [
       "  0%|          | 0/50 [00:00<?, ?it/s]"
      ]
     },
     "metadata": {},
     "output_type": "display_data"
    },
    {
     "data": {
      "application/vnd.jupyter.widget-view+json": {
       "model_id": "d3ea581b98e541ea9cb118c898520f4a",
       "version_major": 2,
       "version_minor": 0
      },
      "text/plain": [
       "  0%|          | 0/50 [00:00<?, ?it/s]"
      ]
     },
     "metadata": {},
     "output_type": "display_data"
    },
    {
     "data": {
      "application/vnd.jupyter.widget-view+json": {
       "model_id": "d2017f67c3ba4264a6afb45659d8e7bf",
       "version_major": 2,
       "version_minor": 0
      },
      "text/plain": [
       "  0%|          | 0/50 [00:00<?, ?it/s]"
      ]
     },
     "metadata": {},
     "output_type": "display_data"
    },
    {
     "data": {
      "application/vnd.jupyter.widget-view+json": {
       "model_id": "e0089b4a268c43a08fc415bb5d5c9674",
       "version_major": 2,
       "version_minor": 0
      },
      "text/plain": [
       "  0%|          | 0/50 [00:00<?, ?it/s]"
      ]
     },
     "metadata": {},
     "output_type": "display_data"
    },
    {
     "data": {
      "application/vnd.jupyter.widget-view+json": {
       "model_id": "ed5ae5cd92db48928febfa5fd15c6147",
       "version_major": 2,
       "version_minor": 0
      },
      "text/plain": [
       "  0%|          | 0/50 [00:00<?, ?it/s]"
      ]
     },
     "metadata": {},
     "output_type": "display_data"
    },
    {
     "data": {
      "application/vnd.jupyter.widget-view+json": {
       "model_id": "6ffbb9198d604e2d9b977c175dfc827f",
       "version_major": 2,
       "version_minor": 0
      },
      "text/plain": [
       "  0%|          | 0/50 [00:00<?, ?it/s]"
      ]
     },
     "metadata": {},
     "output_type": "display_data"
    },
    {
     "data": {
      "application/vnd.jupyter.widget-view+json": {
       "model_id": "46e178467d204a4db154dc04e78e3e7b",
       "version_major": 2,
       "version_minor": 0
      },
      "text/plain": [
       "  0%|          | 0/50 [00:00<?, ?it/s]"
      ]
     },
     "metadata": {},
     "output_type": "display_data"
    },
    {
     "data": {
      "application/vnd.jupyter.widget-view+json": {
       "model_id": "72cf3e53e29b477182ef47682388a0d2",
       "version_major": 2,
       "version_minor": 0
      },
      "text/plain": [
       "  0%|          | 0/50 [00:00<?, ?it/s]"
      ]
     },
     "metadata": {},
     "output_type": "display_data"
    },
    {
     "data": {
      "application/vnd.jupyter.widget-view+json": {
       "model_id": "3689a82059b048c39f9590bcb36c8215",
       "version_major": 2,
       "version_minor": 0
      },
      "text/plain": [
       "  0%|          | 0/50 [00:00<?, ?it/s]"
      ]
     },
     "metadata": {},
     "output_type": "display_data"
    },
    {
     "name": "stderr",
     "output_type": "stream",
     "text": [
      "/home/matt/code/school/joplen/code/joplen-tests/my_env311/lib/python3.11/site-packages/botorch/optim/initializers.py:403: BadInitialCandidatesWarning: Unable to find non-zero acquisition function values - initial conditions are being selected randomly.\n",
      "  warnings.warn(\n",
      "/home/matt/code/school/joplen/code/joplen-tests/my_env311/lib/python3.11/site-packages/botorch/optim/initializers.py:403: BadInitialCandidatesWarning: Unable to find non-zero acquisition function values - initial conditions are being selected randomly.\n",
      "  warnings.warn(\n",
      "/home/matt/code/school/joplen/code/joplen-tests/my_env311/lib/python3.11/site-packages/botorch/optim/initializers.py:403: BadInitialCandidatesWarning: Unable to find non-zero acquisition function values - initial conditions are being selected randomly.\n",
      "  warnings.warn(\n",
      "/home/matt/code/school/joplen/code/joplen-tests/my_env311/lib/python3.11/site-packages/botorch/optim/initializers.py:403: BadInitialCandidatesWarning: Unable to find non-zero acquisition function values - initial conditions are being selected randomly.\n",
      "  warnings.warn(\n",
      "/home/matt/code/school/joplen/code/joplen-tests/my_env311/lib/python3.11/site-packages/botorch/optim/initializers.py:403: BadInitialCandidatesWarning: Unable to find non-zero acquisition function values - initial conditions are being selected randomly.\n",
      "  warnings.warn(\n"
     ]
    },
    {
     "data": {
      "application/vnd.jupyter.widget-view+json": {
       "model_id": "3e358e195c784916b03c75728a903da0",
       "version_major": 2,
       "version_minor": 0
      },
      "text/plain": [
       "  0%|          | 0/50 [00:00<?, ?it/s]"
      ]
     },
     "metadata": {},
     "output_type": "display_data"
    },
    {
     "data": {
      "application/vnd.jupyter.widget-view+json": {
       "model_id": "8b9cae7acf944c45b21a1d7ff3d85714",
       "version_major": 2,
       "version_minor": 0
      },
      "text/plain": [
       "  0%|          | 0/50 [00:00<?, ?it/s]"
      ]
     },
     "metadata": {},
     "output_type": "display_data"
    },
    {
     "data": {
      "application/vnd.jupyter.widget-view+json": {
       "model_id": "41aeef401c0f48efab80dd43c3431bd4",
       "version_major": 2,
       "version_minor": 0
      },
      "text/plain": [
       "  0%|          | 0/50 [00:00<?, ?it/s]"
      ]
     },
     "metadata": {},
     "output_type": "display_data"
    },
    {
     "data": {
      "application/vnd.jupyter.widget-view+json": {
       "model_id": "da18f76c15224496bff700a4593201d8",
       "version_major": 2,
       "version_minor": 0
      },
      "text/plain": [
       "  0%|          | 0/50 [00:00<?, ?it/s]"
      ]
     },
     "metadata": {},
     "output_type": "display_data"
    },
    {
     "data": {
      "application/vnd.jupyter.widget-view+json": {
       "model_id": "fbccc0aa280c4759bb627d30d55e6058",
       "version_major": 2,
       "version_minor": 0
      },
      "text/plain": [
       "  0%|          | 0/50 [00:00<?, ?it/s]"
      ]
     },
     "metadata": {},
     "output_type": "display_data"
    },
    {
     "data": {
      "application/vnd.jupyter.widget-view+json": {
       "model_id": "98a0a044c8fe4f8fb5b41d386824cb51",
       "version_major": 2,
       "version_minor": 0
      },
      "text/plain": [
       "  0%|          | 0/50 [00:00<?, ?it/s]"
      ]
     },
     "metadata": {},
     "output_type": "display_data"
    },
    {
     "data": {
      "application/vnd.jupyter.widget-view+json": {
       "model_id": "e8ca109d01584a29ba891f6f0c45bc11",
       "version_major": 2,
       "version_minor": 0
      },
      "text/plain": [
       "  0%|          | 0/50 [00:00<?, ?it/s]"
      ]
     },
     "metadata": {},
     "output_type": "display_data"
    },
    {
     "data": {
      "application/vnd.jupyter.widget-view+json": {
       "model_id": "624b2d916dd94fa6a2d2d5a22e7a1726",
       "version_major": 2,
       "version_minor": 0
      },
      "text/plain": [
       "  0%|          | 0/50 [00:00<?, ?it/s]"
      ]
     },
     "metadata": {},
     "output_type": "display_data"
    },
    {
     "data": {
      "application/vnd.jupyter.widget-view+json": {
       "model_id": "52195b1415d94b6bafebd14d6c1bd172",
       "version_major": 2,
       "version_minor": 0
      },
      "text/plain": [
       "  0%|          | 0/50 [00:00<?, ?it/s]"
      ]
     },
     "metadata": {},
     "output_type": "display_data"
    },
    {
     "data": {
      "application/vnd.jupyter.widget-view+json": {
       "model_id": "a567a464d085444895f93bbfc2c8b335",
       "version_major": 2,
       "version_minor": 0
      },
      "text/plain": [
       "  0%|          | 0/50 [00:00<?, ?it/s]"
      ]
     },
     "metadata": {},
     "output_type": "display_data"
    },
    {
     "data": {
      "application/vnd.jupyter.widget-view+json": {
       "model_id": "373c86f4cbd7485aa8abd73df99b8fab",
       "version_major": 2,
       "version_minor": 0
      },
      "text/plain": [
       "  0%|          | 0/50 [00:00<?, ?it/s]"
      ]
     },
     "metadata": {},
     "output_type": "display_data"
    },
    {
     "data": {
      "application/vnd.jupyter.widget-view+json": {
       "model_id": "68c021eaae6e452689092782d00ec6c7",
       "version_major": 2,
       "version_minor": 0
      },
      "text/plain": [
       "  0%|          | 0/50 [00:00<?, ?it/s]"
      ]
     },
     "metadata": {},
     "output_type": "display_data"
    },
    {
     "data": {
      "application/vnd.jupyter.widget-view+json": {
       "model_id": "baf2bc7751ed4a7e8e641115dbcce577",
       "version_major": 2,
       "version_minor": 0
      },
      "text/plain": [
       "  0%|          | 0/50 [00:00<?, ?it/s]"
      ]
     },
     "metadata": {},
     "output_type": "display_data"
    },
    {
     "data": {
      "application/vnd.jupyter.widget-view+json": {
       "model_id": "b0fd1baab8c841dd8e671021c52fe30a",
       "version_major": 2,
       "version_minor": 0
      },
      "text/plain": [
       "  0%|          | 0/50 [00:00<?, ?it/s]"
      ]
     },
     "metadata": {},
     "output_type": "display_data"
    },
    {
     "data": {
      "application/vnd.jupyter.widget-view+json": {
       "model_id": "80583b71f0da49b3b6a8189e9de38272",
       "version_major": 2,
       "version_minor": 0
      },
      "text/plain": [
       "  0%|          | 0/50 [00:00<?, ?it/s]"
      ]
     },
     "metadata": {},
     "output_type": "display_data"
    },
    {
     "data": {
      "application/vnd.jupyter.widget-view+json": {
       "model_id": "4eaca02007584696a150f39434440f5f",
       "version_major": 2,
       "version_minor": 0
      },
      "text/plain": [
       "  0%|          | 0/50 [00:00<?, ?it/s]"
      ]
     },
     "metadata": {},
     "output_type": "display_data"
    }
   ],
   "source": [
    "ignored_models = [\n",
    "    \"joplen_linear_lingb_part\",\n",
    "    \"joplen_linear_maxvar_part\",\n",
    "    \"lb\",\n",
    "    # \"joplen_const_gb_part_l2\",\n",
    "    # \"joplen_const_gb_part_sl2\",\n",
    "    \"joplen_const_gb_part_l1\",\n",
    "]\n",
    "\n",
    "reg_datasets = [d for d in (DS_PATH / \"reg\").iterdir() if d.is_dir()]\n",
    "\n",
    "reg_res = defaultdict(dict)\n",
    "\n",
    "itr = tqdm(reg_datasets, position=0)\n",
    "\n",
    "for ds_path in itr:\n",
    "    if ds_path.name in EXCLUDE:\n",
    "        continue\n",
    "\n",
    "    for file_name, info in model_info.items():\n",
    "        if \"prediction\" not in info[\"experiments\"]:\n",
    "            continue\n",
    "\n",
    "        # if file_name not in [\"joplen_const_gb_part\", \"gb\", \"joplen_linear_gb_part\", \"joplen_linear_linforest_part\"]:\n",
    "        #     continue\n",
    "\n",
    "        if file_name in ignored_models:\n",
    "            continue\n",
    "\n",
    "        model_str = f\"{file_name} on {ds_path.name}\"\n",
    "        itr.set_description(f\"Running {model_str : <50}\")\n",
    "        res = optimize_model(info, ds_path, 50, True, \"rmse\", skip_categorical=False)\n",
    "\n",
    "        if res is not None:\n",
    "            reg_res[info[\"name\"]][ds_path.name] = res\n",
    "\n",
    "reg_res = dict(reg_res)"
   ]
  },
  {
   "cell_type": "code",
   "execution_count": 131,
   "metadata": {},
   "outputs": [],
   "source": [
    "models = [\n",
    "    # 'JOPLEn (linear, GB partitions)',\n",
    "    'JOPLEn (constant, RF partitions)',\n",
    "    'JOPLEn (constant, GB partitions)',\n",
    "    'JOPLEn (constant, GB partitions, l2)',\n",
    "    'JOPLEn (constant, GB partitions, l2^2)',\n",
    "    'JOPLEn (constant, GB partitions, l1)',\n",
    "    # 'Linear forest',\n",
    "    # 'JOPLEn (const 100)',\n",
    "    'Random forest',\n",
    "    # 'JOPLEn (linear, LinearForest partitions)',\n",
    "    # 'JOPLEn (const greedy)',\n",
    "    'Extra trees',\n",
    "    'Gradient Boosting',\n",
    "    # 'NN',\n",
    "    'LightGBM',\n",
    "    # 'JOPLEn (linear, RF partitions)',\n",
    "    # 'JOPLEn (linear 100)',\n",
    "    # 'JOPLEn (constant, LinearForest partitions)',\n",
    "    # 'Ridge Regression',\n",
    "    # 'Gradient Boosting (defaults)',\n",
    "    # 'FASTEL',\n",
    "]\n",
    "\n",
    "# Only use datasets that are in reg_res[\"joplen_linear_gb_part\"]\n",
    "keys = [set(v.keys()) for k,v in reg_res.items() if k in models]\n",
    "keys = set.intersection(*keys)\n",
    "reg_res = {\n",
    "    k: {kk: vv for kk, vv in v.items() if kk in keys}\n",
    "    for k, v in reg_res.items() if k in models\n",
    "}"
   ]
  },
  {
   "cell_type": "code",
   "execution_count": 132,
   "metadata": {},
   "outputs": [
    {
     "name": "stdout",
     "output_type": "stream",
     "text": [
      "{'Extra trees': 0.7654384904243826, 'Random forest': 0.48881360302771587, 'LightGBM': 0.45802721191143475, 'JOPLEn (constant, RF partitions)': 0.4278008001730667, 'Gradient Boosting': 0.4157853107027402, 'JOPLEn (constant, GB partitions, l2^2)': 0.4029938273452611, 'JOPLEn (constant, GB partitions)': 0.3953306491785809, 'JOPLEn (constant, GB partitions, l2)': 0.38159364899514925}\n"
     ]
    },
    {
     "data": {
      "image/png": "[encoded data removed]",
      "text/plain": [
       "<Figure size 1000x1000 with 1 Axes>"
      ]
     },
     "metadata": {},
     "output_type": "display_data"
    }
   ],
   "source": [
    "def plot_strip(\n",
    "    arr: list[np.ndarray],\n",
    "    jitter: float = 0.2,\n",
    "    random_state: int = 0,\n",
    "    plot_kwargs: dict = {},\n",
    "    scatter_kwargs: dict = {},\n",
    "):\n",
    "    \"\"\"\n",
    "    Create a strip plot based on the list of y-values.\n",
    "    \"\"\"\n",
    "    fig, ax = plt.subplots(**plot_kwargs)\n",
    "\n",
    "    for x_idx, x_values in enumerate(arr):\n",
    "        np.random.seed(random_state)\n",
    "        # Apply jitter to x-axis positions\n",
    "        y_values = [x_idx + np.random.uniform(-jitter, jitter) for _ in x_values]\n",
    "        ax.scatter(x_values, y_values, **scatter_kwargs)\n",
    "\n",
    "    x_lim = ax.get_xlim()\n",
    "\n",
    "    for x_idx, x_values in enumerate(arr[:-1]):\n",
    "        ax.hlines(x_idx + 1 / 2, *x_lim, color=\"k\", alpha=0.25)\n",
    "\n",
    "    # plot vertical line for mean for each model\n",
    "    means = [np.mean(list(x_values)) for x_values in arr]\n",
    "    for x_value, mean in zip(range(len(arr)), means):\n",
    "        ax.vlines(mean, x_value - 1 / 2, x_value + 1 / 2, color=\"k\")\n",
    "\n",
    "    ax.set_xlim(x_lim)\n",
    "\n",
    "    return ax, means\n",
    "\n",
    "\n",
    "x_values = []\n",
    "y_labels = []\n",
    "\n",
    "# reg_res = {k: reg_res[k] for k in sorted(reg_res.keys())}\n",
    "rescaled_res = {\n",
    "    k: {kk: (vv[\"test_score\"] / vv[\"dummy_loss\"]) for kk, vv in v.items()}\n",
    "    for k, v in reg_res.items()\n",
    "}\n",
    "\n",
    "mean_res = {k: np.mean(list(v.values())) for k, v in rescaled_res.items()}\n",
    "\n",
    "sorted_dict = {k: rescaled_res[k] for k in sorted(mean_res, key=mean_res.get)[::-1]}\n",
    "\n",
    "for k, v in sorted_dict.items():\n",
    "    x_values.append(v.values())\n",
    "    y_labels.append(k)\n",
    "\n",
    "ax, means = plot_strip(\n",
    "    x_values, plot_kwargs={\"figsize\": (10, 10)}, scatter_kwargs={\"alpha\": 0.5, \"s\": 20}\n",
    ")\n",
    "\n",
    "print({k: v for k, v in zip(y_labels, means)})\n",
    "\n",
    "ax.set_yticks(range(len(y_labels)))\n",
    "ax.set_yticklabels(y_labels)\n",
    "\n",
    "y_lim = ax.get_ylim()\n",
    "ax.vlines(1, -1, len(y_labels) + 1, color=\"k\", linestyle=\"--\")\n",
    "ax.set_ylim(-1 / 2, len(y_labels) - 1 / 2)\n",
    "\n",
    "plt.xlabel(\"Normalized Loss\")\n",
    "\n",
    "plt.tight_layout()\n",
    "plt.savefig(PLOT_PATH / \"reg_strip.png\", dpi=300)\n",
    "\n",
    "plt.show()"
   ]
  },
  {
   "cell_type": "code",
   "execution_count": 134,
   "metadata": {},
   "outputs": [
    {
     "name": "stdout",
     "output_type": "stream",
     "text": [
      "MannwhitneyuResult(statistic=4345.0, pvalue=0.034572290896945045)\n",
      "WilcoxonResult(statistic=967.0, pvalue=2.532496584226348e-08)\n"
     ]
    }
   ],
   "source": [
    "# compute non-parametic distribution test\n",
    "from scipy.stats import mannwhitneyu\n",
    "from scipy.stats import wilcoxon\n",
    "\n",
    "ours = np.array(list(rescaled_res[\"JOPLEn (constant, GB partitions, l2)\"].values()))\n",
    "theirs = np.array(list(rescaled_res[\"Gradient Boosting\"].values()))\n",
    "\n",
    "print(mannwhitneyu(ours, theirs, alternative=\"less\"))\n",
    "print(wilcoxon(ours, theirs, alternative=\"less\"))"
   ]
  },
  {
   "cell_type": "code",
   "execution_count": null,
   "metadata": {},
   "outputs": [
    {
     "data": {
      "image/png": "[encoded data removed]",
      "text/plain": [
       "<Figure size 640x480 with 1 Axes>"
      ]
     },
     "metadata": {},
     "output_type": "display_data"
    }
   ],
   "source": [
    "plt.scatter(ours, theirs)\n",
    "plt.plot([0, 1], [0, 1], color=\"k\", linestyle=\"--\")\n",
    "plt.xlabel(\"JOPLEn\")\n",
    "plt.ylabel(\"Gradient Boosting\")\n",
    "plt.tight_layout()\n",
    "plt.show()"
   ]
  },
  {
   "cell_type": "code",
   "execution_count": null,
   "metadata": {},
   "outputs": [
    {
     "data": {
      "image/png": "[encoded data removed]",
      "text/plain": [
       "<Figure size 640x480 with 1 Axes>"
      ]
     },
     "metadata": {},
     "output_type": "display_data"
    },
    {
     "name": "stdout",
     "output_type": "stream",
     "text": [
      "We do much worse on these datasets\n",
      "['645_fri_c3_500_50', '192_vineyard']\n"
     ]
    }
   ],
   "source": [
    "datasets = list(list(rescaled_res.values())[0].keys())\n",
    "\n",
    "ratio = ours / theirs\n",
    "args = np.argsort(ratio)[::-1]\n",
    "\n",
    "plt.scatter(range(len(ratio)), ratio[args])\n",
    "plt.hlines(1, 0, len(ratio), color=\"k\", linestyle=\"--\")\n",
    "\n",
    "plt.xlabel(\"Dataset\")\n",
    "plt.ylabel(\"JOPLEn / Gradient Boosting\")\n",
    "\n",
    "plt.show()\n",
    "\n",
    "print(\"We do much worse on these datasets\")\n",
    "print([datasets[i] for i in args[:2]])"
   ]
  },
  {
   "cell_type": "markdown",
   "metadata": {},
   "source": [
    "- [192_vineyard](https://github.com/EpistasisLab/pmlb/blob/master/datasets/192_vineyard/metadata.yaml): Small dataset, 52 samples, 2 features. May be that we just needed to use a better GB model for selecting splits\n",
    "- 645_fri_c3_500_50: Not sure what's wrong with this dataset"
   ]
  },
  {
   "cell_type": "code",
   "execution_count": null,
   "metadata": {},
   "outputs": [
    {
     "data": {
      "image/png": "[encoded data removed]",
      "text/plain": [
       "<Figure size 640x480 with 1 Axes>"
      ]
     },
     "metadata": {},
     "output_type": "display_data"
    }
   ],
   "source": [
    "shapes = []\n",
    "\n",
    "for ds_path in reg_datasets:\n",
    "    if ds_path.name in EXCLUDE:\n",
    "        continue\n",
    "\n",
    "    x_train = np.loadtxt(ds_path / \"x_train.csv\", delimiter=\",\")\n",
    "    shapes.append(x_train.shape[1])\n",
    "\n",
    "plt.hist(shapes, bins=20)\n",
    "plt.ylabel(\"# features\")\n",
    "plt.xlabel(\"Frequency\")\n",
    "plt.show()"
   ]
  }
 ],
 "metadata": {
  "kernelspec": {
   "display_name": "Python 3",
   "language": "python",
   "name": "python3"
  },
  "language_info": {
   "codemirror_mode": {
    "name": "ipython",
    "version": 3
   },
   "file_extension": ".py",
   "mimetype": "text/x-python",
   "name": "python",
   "nbconvert_exporter": "python",
   "pygments_lexer": "ipython3",
   "version": "3.11.7"
  }
 },
 "nbformat": 4,
 "nbformat_minor": 2
}
