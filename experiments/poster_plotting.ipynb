{
 "cells": [
  {
   "cell_type": "code",
   "execution_count": 13,
   "metadata": {},
   "outputs": [],
   "source": [
    "from collections import defaultdict\n",
    "from itertools import product\n",
    "from pathlib import Path\n",
    "from pprint import pprint\n",
    "\n",
    "import numpy as np\n",
    "import pandas as pd\n",
    "import yaml\n",
    "from matplotlib import pyplot as plt\n",
    "from scipy.stats import wilcoxon\n",
    "\n",
    "PRED_PATH = Path().resolve() / \"ax_runs\" / \"prediction\"\n",
    "STFS_PATH = Path().resolve() / \"ax_runs\" / \"st_selection\"\n",
    "PLOT_PATH = Path().resolve() / \"plots\""
   ]
  },
  {
   "cell_type": "markdown",
   "metadata": {},
   "source": [
    "##### Plot 1: Regression performance"
   ]
  },
  {
   "cell_type": "code",
   "execution_count": 14,
   "metadata": {},
   "outputs": [
    {
     "name": "stdout",
     "output_type": "stream",
     "text": [
      "Collecting git+https://github.com/jhultman/matplotlib-curly-brace\n",
      "  Cloning https://github.com/jhultman/matplotlib-curly-brace to /tmp/pip-req-build-tnt7i_fz\n",
      "  Running command git clone --filter=blob:none --quiet https://github.com/jhultman/matplotlib-curly-brace /tmp/pip-req-build-tnt7i_fz\n",
      "  Resolved https://github.com/jhultman/matplotlib-curly-brace to commit 2a757496756080ca683f618d3afdd480dd814989\n",
      "  Preparing metadata (setup.py) ... \u001b[?25ldone\n",
      "\u001b[?25h"
     ]
    }
   ],
   "source": [
    "! pip install git+https://github.com/jhultman/matplotlib-curly-brace"
   ]
  },
  {
   "cell_type": "code",
   "execution_count": 21,
   "metadata": {},
   "outputs": [
    {
     "name": "stdout",
     "output_type": "stream",
     "text": [
      "1.0\n",
      "-1.0\n",
      "0.5\n"
     ]
    },
    {
     "data": {
      "image/png": "[encoded data removed]",
      "text/plain": [
       "<Figure size 800x250 with 1 Axes>"
      ]
     },
     "metadata": {},
     "output_type": "display_data"
    }
   ],
   "source": [
    "from curlyBrace import curlyBrace\n",
    "from matplotlib import rc_context\n",
    "\n",
    "fig, axs = plt.subplots(1, 1, figsize=(8, 2.5), sharey=True, sharex=True)\n",
    "\n",
    "x = np.linspace(-1, 1, endpoint=True, num=1000)\n",
    "\n",
    "cutoffs = np.array([-1, 0, 1 / 2, 1])\n",
    "values = np.array([1, -1, 1 / 2])\n",
    "directions = [\"up\", \"down\", \"up\"]\n",
    "\n",
    "axs.plot([-1, 1], [0, 0], color=\"k\", alpha=0.5)\n",
    "\n",
    "for i in range(1, len(cutoffs)):\n",
    "    offset = x[1] - x[0]\n",
    "    x_vals = x[(x >= cutoffs[i - 1]) & (x - offset <= cutoffs[i])]\n",
    "    y_vals = np.full_like(x_vals, values[i - 1])\n",
    "\n",
    "    axs.plot(x_vals, y_vals, color=\"k\")\n",
    "\n",
    "    bounds = [cutoffs[i - 1], cutoffs[i]]\n",
    "    axs.vlines(bounds, 0, values[i - 1], color=\"k\", linestyle=\"--\")\n",
    "\n",
    "font_dict = {\n",
    "    \"color\": \"k\",\n",
    "    \"family\": \"serif\",\n",
    "    \"size\": 15,\n",
    "}\n",
    "\n",
    "with rc_context({\"mathtext.fontset\": \"dejavuserif\"}):\n",
    "    for i, (start, end, direction) in enumerate(\n",
    "        zip(cutoffs[:-1], cutoffs[1:], directions)\n",
    "    ):\n",
    "        offset = 0.1\n",
    "        scale = 0.1\n",
    "\n",
    "        signed_offset = -offset if direction == \"up\" else offset\n",
    "\n",
    "        if direction == \"up\":\n",
    "            p1 = (start, signed_offset)\n",
    "            p2 = (end, signed_offset)\n",
    "        else:\n",
    "            p1 = (end, signed_offset)\n",
    "            p2 = (start, signed_offset)\n",
    "\n",
    "        curlyBrace(\n",
    "            fig=fig,\n",
    "            ax=axs,\n",
    "            p2=p1,\n",
    "            p1=p2,\n",
    "            k_r=scale,\n",
    "            str_text=\"$\\\\phi_p(\\\\boldsymbol{x};\" + str(i + 1) + \")$\",\n",
    "            color=\"r\",\n",
    "            lw=2,\n",
    "            int_line_num=1,\n",
    "            fontdict=font_dict,\n",
    "        )\n",
    "\n",
    "        center = (start + end) / 2\n",
    "        axs.annotate(\n",
    "            \"$b_{p,\" + str(i + 1) + \"}$\",\n",
    "            (center, values[i] - 2 * signed_offset),\n",
    "            ha=\"center\",\n",
    "            va=\"center\",\n",
    "            **font_dict,\n",
    "        )\n",
    "        print(values[i])\n",
    "\n",
    "    offset = 1 / 10\n",
    "    axs.set_ylim(-1 - 4 * offset, 1 + 4 * offset)\n",
    "\n",
    "    axs.set_xticks([])\n",
    "    axs.set_yticks([])\n",
    "    axs.spines[[\"right\", \"top\", \"left\", \"bottom\"]].set_visible(False)\n",
    "    axs.set_ylabel(\n",
    "        \"$\\mathcal{X}$\",\n",
    "        rotation=0,\n",
    "        va=\"center\",\n",
    "        **font_dict,\n",
    "    )\n",
    "\n",
    "plt.savefig(\"plots/poster_tree_diagram.pdf\", bbox_inches=\"tight\")\n",
    "\n",
    "plt.show()"
   ]
  },
  {
   "cell_type": "markdown",
   "metadata": {},
   "source": []
  }
 ],
 "metadata": {
  "kernelspec": {
   "display_name": "Python 3",
   "language": "python",
   "name": "python3"
  },
  "language_info": {
   "codemirror_mode": {
    "name": "ipython",
    "version": 3
   },
   "file_extension": ".py",
   "mimetype": "text/x-python",
   "name": "python",
   "nbconvert_exporter": "python",
   "pygments_lexer": "ipython3",
   "version": "3.11.7"
  }
 },
 "nbformat": 4,
 "nbformat_minor": 2
}
