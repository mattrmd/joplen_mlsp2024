{
 "cells": [
  {
   "cell_type": "code",
   "execution_count": 1,
   "metadata": {},
   "outputs": [],
   "source": [
    "from pathlib import Path\n",
    "import yaml\n",
    "\n",
    "DATA_PATH = (Path(\"..\") / \"datasets\" / \"pmlb\" / \"processed\" / \"reg\").resolve()"
   ]
  },
  {
   "cell_type": "code",
   "execution_count": 2,
   "metadata": {},
   "outputs": [
    {
     "name": "stdout",
     "output_type": "stream",
     "text": [
      "6866.461944580078\n"
     ]
    }
   ],
   "source": [
    "max_hyperplanes = 100\n",
    "\n",
    "sizes = {}\n",
    "\n",
    "for ds in DATA_PATH.iterdir():\n",
    "    if not ds.is_dir():\n",
    "        continue\n",
    "\n",
    "    metadata = yaml.safe_load((ds / \"metadata.yaml\").read_text())\n",
    "    n_samples = metadata[\"n_total\"]\n",
    "    n_features = metadata[\"n_features\"]\n",
    "\n",
    "    ds_size = (n_samples + 1) * n_features * max_hyperplanes\n",
    "    ds_size_mibs = ds_size * 4 / (2**20)\n",
    "\n",
    "    sizes[ds.name] = ds_size_mibs\n",
    "\n",
    "print(max(sizes.values()))"
   ]
  },
  {
   "cell_type": "code",
   "execution_count": 13,
   "metadata": {},
   "outputs": [
    {
     "name": "stdout",
     "output_type": "stream",
     "text": [
      "score 0.08613587149087176\n",
      "score 0.08571002789527138\n"
     ]
    },
    {
     "name": "stderr",
     "output_type": "stream",
     "text": [
      "/home/matt/code/school/joplen/code/joplen-tests/my_env311/lib/python3.11/site-packages/sklearn/datasets/_base.py:391: DeprecationWarning: open_binary is deprecated. Use files() instead. Refer to https://importlib-resources.readthedocs.io/en/latest/using.html#migrating-from-legacy for migration advice.\n",
      "  with resources.open_binary(data_module, data_file_name) as compressed_file:\n",
      "/home/matt/code/school/joplen/code/joplen-tests/my_env311/lib/python3.11/site-packages/sklearn/datasets/_base.py:391: DeprecationWarning: open_binary is deprecated. Use files() instead. Refer to https://importlib-resources.readthedocs.io/en/latest/using.html#migrating-from-legacy for migration advice.\n",
      "  with resources.open_binary(data_module, data_file_name) as compressed_file:\n",
      "/home/matt/code/school/joplen/code/joplen-tests/my_env311/lib/python3.11/site-packages/sklearn/datasets/_base.py:423: DeprecationWarning: read_text is deprecated. Use files() instead. Refer to https://importlib-resources.readthedocs.io/en/latest/using.html#migrating-from-legacy for migration advice.\n",
      "  fdescr = resources.read_text(descr_module, descr_file_name)\n",
      "/home/matt/code/school/joplen/code/joplen-tests/my_env311/lib/python3.11/importlib/resources/_legacy.py:80: DeprecationWarning: open_text is deprecated. Use files() instead. Refer to https://importlib-resources.readthedocs.io/en/latest/using.html#migrating-from-legacy for migration advice.\n",
      "  with open_text(package, resource, encoding, errors) as fp:\n"
     ]
    }
   ],
   "source": [
    "import numpy as np\n",
    "from sklearn import datasets\n",
    "from sklearn.model_selection import train_test_split\n",
    "from sklearn.ensemble import GradientBoostingRegressor\n",
    "from sklearn.metrics import r2_score\n",
    "from imodels import HSTreeRegressor\n",
    "\n",
    "np.random.seed(15)\n",
    "X, y = datasets.load_diabetes(return_X_y=True)  # regression\n",
    "\n",
    "X_train, X_test, y_train, y_test = train_test_split(\n",
    "    X, y, test_size=0.33, random_state=10\n",
    ")\n",
    "\n",
    "m = GradientBoostingRegressor(random_state=10, n_estimators=1)\n",
    "m.fit(X_train, y_train)\n",
    "print(\"score\", r2_score(y_test, m.predict(X_test)))\n",
    "\n",
    "m = HSTreeRegressor(m)\n",
    "\n",
    "print(\"score\", r2_score(y_test, m.predict(X_test)))"
   ]
  }
 ],
 "metadata": {
  "kernelspec": {
   "display_name": "Python 3",
   "language": "python",
   "name": "python3"
  },
  "language_info": {
   "codemirror_mode": {
    "name": "ipython",
    "version": 3
   },
   "file_extension": ".py",
   "mimetype": "text/x-python",
   "name": "python",
   "nbconvert_exporter": "python",
   "pygments_lexer": "ipython3",
   "version": "3.11.7"
  }
 },
 "nbformat": 4,
 "nbformat_minor": 2
}
