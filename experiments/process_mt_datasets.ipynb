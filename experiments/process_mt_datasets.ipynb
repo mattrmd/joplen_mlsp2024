{
 "cells": [
  {
   "cell_type": "markdown",
   "metadata": {},
   "source": [
    "##### Imports"
   ]
  },
  {
   "cell_type": "code",
   "execution_count": 1,
   "metadata": {},
   "outputs": [],
   "source": [
    "import sys\n",
    "from pathlib import Path\n",
    "\n",
    "import numpy as np\n",
    "import pandas as pd\n",
    "import yaml\n",
    "from scipy.io import loadmat\n",
    "from sklearn.model_selection import train_test_split\n",
    "from tqdm import tqdm\n",
    "import urllib.request\n",
    "\n",
    "sys.path.append(str(Path(\"..\") / \"datasets\" / \"general-descriptors-datasets\"))\n",
    "\n",
    "from chem_data import MolBoil, MolHenry, MolLogP, MolMelt, NPLogP, NPZetaP, ProtSol\n",
    "\n",
    "DATA_PATH = Path(\"..\") / \"datasets\"\n",
    "\n",
    "SARCOS_PATH = DATA_PATH / \"sarcos\"\n",
    "\n",
    "round_digits = 3\n",
    "\n",
    "r = lambda x: round(x, round_digits)"
   ]
  },
  {
   "cell_type": "markdown",
   "metadata": {},
   "source": [
    "##### Metadata"
   ]
  },
  {
   "cell_type": "code",
   "execution_count": 2,
   "metadata": {},
   "outputs": [
    {
     "name": "stdout",
     "output_type": "stream",
     "text": [
      "{'shuffle': True, 'train_size': 0.9, 'test_size': 0.1}\n",
      "{'shuffle': True, 'train_size': 0.778, 'test_size': 0.222}\n"
     ]
    }
   ],
   "source": [
    "train_frac, val_frac, test_frac = 0.7, 0.2, 0.1\n",
    "\n",
    "sum_frac = round(train_frac + val_frac + test_frac, 10)\n",
    "assert sum_frac == 1.0, sum_frac\n",
    "\n",
    "random_state = np.random.RandomState(0)\n",
    "\n",
    "# Note that this random state is used for all splits, so it changes over time\n",
    "shared_params = {\n",
    "    \"shuffle\": True,\n",
    "}\n",
    "\n",
    "train_test_params = {\n",
    "    **shared_params,\n",
    "    \"train_size\": r(train_frac + val_frac),\n",
    "    \"test_size\": r(test_frac),\n",
    "}\n",
    "\n",
    "train_val_test_params = {\n",
    "    **shared_params,\n",
    "    \"train_size\": r(train_frac / (1 - test_frac)),\n",
    "    \"test_size\": r(val_frac / (1 - test_frac)),\n",
    "}\n",
    "\n",
    "print(train_test_params)\n",
    "print(train_val_test_params)"
   ]
  },
  {
   "cell_type": "markdown",
   "metadata": {},
   "source": [
    "##### Function definitions"
   ]
  },
  {
   "cell_type": "code",
   "execution_count": 3,
   "metadata": {},
   "outputs": [],
   "source": [
    "def get_state(random_state: np.random.RandomState) -> list:\n",
    "    state = random_state.get_state()\n",
    "\n",
    "    # cast the state to something that is yaml serializable\n",
    "    return [\n",
    "        str(state[0]),\n",
    "        list(map(int, state[1])),\n",
    "        int(state[2]),\n",
    "        int(state[3]),\n",
    "        float(state[4]),\n",
    "    ]\n",
    "\n",
    "\n",
    "def preprocess_shared(\n",
    "    x: np.ndarray,\n",
    "    y: np.ndarray,\n",
    "    path: Path,\n",
    "    stratify: bool,\n",
    ") -> None:\n",
    "    tts_random_state = get_state(random_state)\n",
    "    x_train, x_test, y_train, y_test = train_test_split(\n",
    "        x,\n",
    "        y,\n",
    "        **train_test_params,\n",
    "        stratify=y if stratify else None,\n",
    "        random_state=random_state,\n",
    "    )\n",
    "\n",
    "    tvs_random_state = get_state(random_state)\n",
    "    x_train, x_val, y_train, y_val = train_test_split(\n",
    "        x_train,\n",
    "        y_train,\n",
    "        **train_val_test_params,\n",
    "        stratify=y_train if stratify else None,\n",
    "        random_state=random_state,\n",
    "    )\n",
    "\n",
    "    path.mkdir(parents=True, exist_ok=True)\n",
    "\n",
    "    np.savetxt(path / \"x_train.csv\", x_train, delimiter=\",\")\n",
    "    np.savetxt(path / \"y_train.csv\", y_train, delimiter=\",\")\n",
    "    np.savetxt(path / \"x_val.csv\", x_val, delimiter=\",\")\n",
    "    np.savetxt(path / \"y_val.csv\", y_val, delimiter=\",\")\n",
    "    np.savetxt(path / \"x_test.csv\", x_test, delimiter=\",\")\n",
    "    np.savetxt(path / \"y_test.csv\", y_test, delimiter=\",\")\n",
    "\n",
    "    with open(path / \"metadata.yaml\", \"w\") as f:\n",
    "        yaml.dump(\n",
    "            {\n",
    "                \"train_split\": train_test_params,\n",
    "                \"val_split\": train_val_test_params,\n",
    "                \"scaler\": None,\n",
    "                \"stratify\": stratify,\n",
    "                \"n_train\": int(y_train.shape[0]),\n",
    "                \"n_val\": int(y_val.shape[0]),\n",
    "                \"n_test\": int(y_test.shape[0]),\n",
    "                \"n_total\": x.shape[0],\n",
    "                \"n_features\": x.shape[1],\n",
    "                \"tts_random_state\": tts_random_state,\n",
    "                \"tvs_random_state\": tvs_random_state,\n",
    "            },\n",
    "            f,\n",
    "        )\n",
    "\n",
    "\n",
    "def preprocess_independent(\n",
    "    data_dict: dict[str | int, dict[str, np.ndarray]],\n",
    "    path: Path,\n",
    "    stratify: bool,\n",
    ") -> None:\n",
    "    for task_id, task_dict in tqdm(data_dict.items()):\n",
    "        x = task_dict[\"x\"]\n",
    "        y = task_dict[\"y\"]\n",
    "\n",
    "        tmp_path = path / str(task_id)\n",
    "\n",
    "        preprocess_shared(x, y, tmp_path, stratify)"
   ]
  },
  {
   "cell_type": "markdown",
   "metadata": {},
   "source": [
    "##### Import datasets"
   ]
  },
  {
   "cell_type": "code",
   "execution_count": 4,
   "metadata": {},
   "outputs": [
    {
     "name": "stdout",
     "output_type": "stream",
     "text": [
      "(48933, 28)\n"
     ]
    }
   ],
   "source": [
    "# load sarcos\n",
    "\n",
    "\n",
    "root_url = \"https://gaussianprocess.org/gpml/data/{}.mat\"\n",
    "\n",
    "train_path = SARCOS_PATH / \"raw\" / \"sarcos_inv.mat\"\n",
    "test_path = SARCOS_PATH / \"raw\" / \"sarcos_inv_test.mat\"\n",
    "\n",
    "train_path.parent.mkdir(parents=True, exist_ok=True)\n",
    "\n",
    "urllib.request.urlretrieve(root_url.format(\"sarcos_inv\"), train_path)\n",
    "urllib.request.urlretrieve(root_url.format(\"sarcos_inv_test\"), test_path)\n",
    "\n",
    "\n",
    "sarcos_train = loadmat(train_path)[\"sarcos_inv\"]\n",
    "sarcos_test = loadmat(test_path)[\"sarcos_inv_test\"]\n",
    "\n",
    "sarcos = np.concatenate([sarcos_train, sarcos_test], axis=0)\n",
    "del sarcos_train, sarcos_test\n",
    "\n",
    "x = sarcos[:, :-7]\n",
    "y = sarcos[:, -7:]\n",
    "\n",
    "print(sarcos.shape)\n",
    "\n",
    "del sarcos\n",
    "\n",
    "preprocess_shared(x, y, SARCOS_PATH / \"processed\", stratify=False)"
   ]
  },
  {
   "cell_type": "code",
   "execution_count": 5,
   "metadata": {},
   "outputs": [
    {
     "name": "stdout",
     "output_type": "stream",
     "text": [
      "NP LogP (147, 3517)\n",
      "NP ZetaP (206, 3478)\n",
      "Mol Boil (1185, 1554)\n",
      "Mol Henry (777, 1711)\n",
      "Mol LogP (11079, 1884)\n",
      "Mol Melt (2143, 1795)\n",
      "Protein Sol (3071, 3896)\n"
     ]
    }
   ],
   "source": [
    "from ml_utils.utils import comb_iterator\n",
    "\n",
    "lst_datasets = [\n",
    "    NPLogP(drop_corr=False),\n",
    "    NPZetaP(drop_corr=False),\n",
    "    MolBoil(drop_corr=False),\n",
    "    MolHenry(drop_corr=False),\n",
    "    MolLogP(drop_corr=False),\n",
    "    MolMelt(drop_corr=False),\n",
    "    ProtSol(drop_corr=False),\n",
    "]\n",
    "\n",
    "x_vals, y_vals, indices, names = [], [], [], []\n",
    "shared_columns = set(lst_datasets[0].features)\n",
    "for dataset in lst_datasets[1:]:\n",
    "    shared_columns &= set(dataset.features)\n",
    "\n",
    "# Use only the shared features\n",
    "for dataset in lst_datasets:\n",
    "    column_mask = np.array([feature in shared_columns for feature in dataset.features])\n",
    "    x, y, index = dataset.get_data()\n",
    "    x_vals.append(x[:, column_mask])\n",
    "    y_vals.append(y)\n",
    "    indices.append(index)\n",
    "    names.append(dataset.name)\n",
    "\n",
    "    print(dataset.name, x.shape)\n",
    "\n",
    "# Since there are some samples that are shared between datasets, we need to make\n",
    "# sure that we properly stratify the splits\n",
    "lst_subsets = list(comb_iterator(list(map(set, indices))))"
   ]
  },
  {
   "cell_type": "code",
   "execution_count": 6,
   "metadata": {},
   "outputs": [],
   "source": [
    "keys = [\"x_train\", \"y_train\", \"x_val\", \"y_val\", \"x_test\", \"y_test\"]\n",
    "\n",
    "split_datasets = {k: {n: [] for n in names} for k in keys}\n",
    "\n",
    "# Perform a stratified split for each subset of shared samples\n",
    "for i, subset in enumerate(lst_subsets):\n",
    "    mask = {k: np.zeros(len(idx), dtype=bool) for k, idx in zip(names, indices)}\n",
    "\n",
    "    for name, idx in zip(names, indices):\n",
    "        for k, val in enumerate(idx):\n",
    "            if val in subset:\n",
    "                mask[name][k] = True\n",
    "\n",
    "    for name, x, y in zip(names, x_vals, y_vals):\n",
    "        if np.sum(mask[name]) == 0:\n",
    "            continue\n",
    "\n",
    "        x_train, x_test, y_train, y_test = train_test_split(\n",
    "            x[mask[name]], y[mask[name]], **train_test_params, random_state=random_state\n",
    "        )\n",
    "\n",
    "        x_train, x_val, y_train, y_val = train_test_split(\n",
    "            x_train, y_train, **train_val_test_params, random_state=random_state\n",
    "        )\n",
    "\n",
    "        split_datasets[\"x_train\"][name].append(x_train)\n",
    "        split_datasets[\"y_train\"][name].append(y_train)\n",
    "        split_datasets[\"x_val\"][name].append(x_val)\n",
    "        split_datasets[\"y_val\"][name].append(y_val)\n",
    "        split_datasets[\"x_test\"][name].append(x_test)\n",
    "        split_datasets[\"y_test\"][name].append(y_test)\n",
    "\n",
    "for key in keys:\n",
    "    for name, vals in split_datasets[key].items():\n",
    "        split_datasets[key][name] = np.concatenate(vals, axis=0)"
   ]
  },
  {
   "cell_type": "code",
   "execution_count": 7,
   "metadata": {},
   "outputs": [],
   "source": [
    "# Write the data to disk\n",
    "for name in names:\n",
    "    for key in keys:\n",
    "        tmp_name = name.replace(\" \", \"_\").lower()\n",
    "        path = DATA_PATH / \"nanoparticle\" / \"processed\" / tmp_name\n",
    "        path.mkdir(parents=True, exist_ok=True)\n",
    "\n",
    "        np.savetxt(\n",
    "            path / f\"{key}.csv\",\n",
    "            split_datasets[key][name],\n",
    "            delimiter=\",\",\n",
    "        )"
   ]
  },
  {
   "cell_type": "code",
   "execution_count": 8,
   "metadata": {},
   "outputs": [
    {
     "data": {
      "text/plain": [
       "(102, 1205)"
      ]
     },
     "execution_count": 8,
     "metadata": {},
     "output_type": "execute_result"
    }
   ],
   "source": [
    "split_datasets[\"x_train\"][\"NP LogP\"].shape"
   ]
  },
  {
   "cell_type": "code",
   "execution_count": null,
   "metadata": {},
   "outputs": [],
   "source": []
  }
 ],
 "metadata": {
  "kernelspec": {
   "display_name": "Python 3",
   "language": "python",
   "name": "python3"
  },
  "language_info": {
   "codemirror_mode": {
    "name": "ipython",
    "version": 3
   },
   "file_extension": ".py",
   "mimetype": "text/x-python",
   "name": "python",
   "nbconvert_exporter": "python",
   "pygments_lexer": "ipython3",
   "version": "3.10.14"
  }
 },
 "nbformat": 4,
 "nbformat_minor": 2
}
