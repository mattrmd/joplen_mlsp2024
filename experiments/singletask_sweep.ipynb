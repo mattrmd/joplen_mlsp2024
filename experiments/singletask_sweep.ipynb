{
 "cells": [
  {
   "cell_type": "code",
   "execution_count": 50,
   "metadata": {},
   "outputs": [],
   "source": [
    "from sklearn.datasets import load_diabetes\n",
    "from sklearn.linear_model import Lasso\n",
    "from sklearn.model_selection import train_test_split\n",
    "from sklearn.metrics import mean_squared_error as mse\n",
    "from sklearn.dummy import DummyRegressor\n",
    "from sklearn.preprocessing import StandardScaler\n",
    "from pathlib import Path\n",
    "import yaml\n",
    "from copy import deepcopy\n",
    "from sklearn.metrics import mean_squared_error\n",
    "from JOPLEn.enums import NormType, CellModel\n",
    "from JOPLEn.singletask import JOPLEn\n",
    "from JOPLEn.partitioner import (\n",
    "    VPartition,\n",
    "    GBPartition,\n",
    "    RFPartition,\n",
    "    LinearForestPartition,\n",
    ")\n",
    "from pyHSICLasso import HSICLasso\n",
    "from sklearn.kernel_ridge import KernelRidge\n",
    "from ccm import ccm\n",
    "from sklearn.svm import SVR\n",
    "from sklearn.ensemble import RandomForestRegressor\n",
    "from sklearn.ensemble import GradientBoostingRegressor\n",
    "from nn import NN\n",
    "\n",
    "import numpy as np\n",
    "from tqdm import tqdm\n",
    "import matplotlib.pyplot as plt\n",
    "\n",
    "from ax.service.ax_client import AxClient, ObjectiveProperties\n",
    "\n",
    "import warnings\n",
    "import logging\n",
    "from ax.utils.common.logger import ROOT_STREAM_HANDLER\n",
    "\n",
    "ROOT_STREAM_HANDLER.setLevel(logging.ERROR)\n",
    "from collections import defaultdict\n",
    "from sklearn.pipeline import Pipeline\n",
    "from JOPLEn.st_penalty import (\n",
    "    SquaredFNorm,\n",
    "    Group21Norm,\n",
    "    GroupInf1Norm,\n",
    "    L1Norm,\n",
    "    SquaredLaplacian,\n",
    "    TreeGaussWeight,\n",
    "    EuclidMultiQuadWeight,\n",
    "    TreeMultiQuadWeight,\n",
    "    EuclidGaussWeight,\n",
    "    LaplacianType,\n",
    ")\n",
    "from JOPLEn.st_loss import LogisticLoss, SquaredError\n",
    "from cupy.cuda.memory import OutOfMemoryError\n",
    "\n",
    "# Hide future warnings because ax uses deprecated functions from pandas\n",
    "warnings.simplefilter(action=\"ignore\", category=FutureWarning)\n",
    "# Hide unfixable warning from ax (warns about default behavior but there isn't\n",
    "# a clear way to turn the warning off)\n",
    "warnings.simplefilter(action=\"ignore\", category=UserWarning)\n",
    "\n",
    "\n",
    "LST_DATASETS = [\n",
    "    \"boston\",\n",
    "    \"diabetes\",\n",
    "    \"riboflavin\",\n",
    "    \"pac_dimerization\",\n",
    "    \"crime\",\n",
    "    \"virus\",\n",
    "]\n",
    "\n",
    "CACHE_DIR = Path(\"ax_runs\") / \"st_selection\"\n",
    "CACHE_DIR.mkdir(parents=True, exist_ok=True)\n",
    "DS_PATH = Path(\"..\") / \"datasets\"\n",
    "\n",
    "PARAM_PATH = Path(\".\") / \"parameters\" / \"st_selection\"\n",
    "PLOT_PATH = Path(\".\") / \"plots\""
   ]
  },
  {
   "cell_type": "code",
   "execution_count": 51,
   "metadata": {},
   "outputs": [],
   "source": [
    "model_info = {}\n",
    "\n",
    "for file in PARAM_PATH.glob(\"*.yaml\"):\n",
    "    model_info[file.stem] = yaml.safe_load(open(file, \"r\"))"
   ]
  },
  {
   "cell_type": "code",
   "execution_count": 52,
   "metadata": {},
   "outputs": [],
   "source": [
    "def rmse(y_true, y_pred):\n",
    "    return mean_squared_error(y_true, y_pred, squared=False)\n",
    "\n",
    "\n",
    "def train_sklearn(\n",
    "    ModelClass,\n",
    "    params,\n",
    "    x_train,\n",
    "    y_train,\n",
    "    x_val,\n",
    "    y_val,\n",
    "    x_test,\n",
    "    y_test,\n",
    "):\n",
    "    model = Pipeline([(\"scaler\", StandardScaler()), (\"model\", ModelClass(**params))])\n",
    "    model.fit(x_train, y_train.flatten())\n",
    "\n",
    "    return model\n",
    "\n",
    "\n",
    "# Compensates for fact that possibly no features are selected\n",
    "def train_test_gb(x_train, y_train, x_val, y_val, x_test, y_test, sel_feats):\n",
    "    if sel_feats.sum() > 0:\n",
    "        pred_model = GradientBoostingRegressor(random_state=0)\n",
    "    else:\n",
    "        pred_model = DummyRegressor(strategy=\"mean\")\n",
    "\n",
    "    pred_model.fit(x_train[:, sel_feats], y_train.flatten())\n",
    "\n",
    "    y_train_pred = pred_model.predict(x_train[:, sel_feats])\n",
    "    y_val_pred = pred_model.predict(x_val[:, sel_feats])\n",
    "    y_test_pred = pred_model.predict(x_test[:, sel_feats])\n",
    "\n",
    "    return y_train_pred, y_val_pred, y_test_pred, pred_model\n",
    "\n",
    "\n",
    "def get_redundant_feats(gb_model):\n",
    "    if isinstance(gb_model, DummyRegressor):\n",
    "        return []\n",
    "\n",
    "    redundant_feats = np.where(gb_model.feature_importances_ == 0)[0]\n",
    "    return [int(f) for f in redundant_feats]\n",
    "\n",
    "\n",
    "def train_if_sel_feats(sel_feats, x_train, y_train, x_val, y_val, x_test, y_test):\n",
    "    y_train_pred, y_val_pred, y_test_pred, pred_model = train_test_gb(\n",
    "        x_train, y_train, x_val, y_val, x_test, y_test, sel_feats\n",
    "    )\n",
    "\n",
    "    return {\n",
    "        \"train_error\": float(rmse(y_train.flatten(), y_train_pred)),\n",
    "        \"val_error\": float(rmse(y_val.flatten(), y_val_pred)),\n",
    "        \"test_error\": float(rmse(y_test.flatten(), y_test_pred)),\n",
    "        \"redundant_feats\": get_redundant_feats(pred_model),\n",
    "    }, pred_model\n",
    "\n",
    "\n",
    "def mask_from_weights(weights, n_features=None):\n",
    "    if n_features is None:\n",
    "        n_features = len(weights)\n",
    "\n",
    "    sel_feats = np.zeros_like(weights, dtype=bool)\n",
    "    sel_feats[np.argsort(np.abs(weights))[-n_features:]] = True\n",
    "    sel_feats[weights == 0] = 0\n",
    "\n",
    "    return sel_feats\n",
    "\n",
    "\n",
    "def train_lasso(params, x_train, y_train, x_val, y_val, x_test, y_test):\n",
    "    pipeline = train_sklearn(\n",
    "        Lasso,\n",
    "        params,\n",
    "        x_train,\n",
    "        y_train,\n",
    "        x_val,\n",
    "        y_val,\n",
    "        x_test,\n",
    "        y_test,\n",
    "    )\n",
    "\n",
    "    sel_model = pipeline.named_steps[\"model\"]\n",
    "\n",
    "    sel_feats = mask_from_weights(sel_model.coef_)\n",
    "\n",
    "    res, pred_model = train_if_sel_feats(\n",
    "        sel_feats,\n",
    "        x_train,\n",
    "        y_train,\n",
    "        x_val,\n",
    "        y_val,\n",
    "        x_test,\n",
    "        y_test,\n",
    "    )\n",
    "\n",
    "    return {\n",
    "        \"density\": float(sel_feats.mean()),\n",
    "        **res,\n",
    "        \"model\": (sel_model, pred_model),\n",
    "    }\n",
    "\n",
    "\n",
    "def dummy_regressor(x_train, y_train, x_val, y_val, x_test, y_test):\n",
    "    dummy = DummyRegressor(strategy=\"mean\")\n",
    "    dummy.fit(x_train, y_train.flatten())\n",
    "\n",
    "    return {\n",
    "        \"train_error\": float(rmse(y_train.flatten(), dummy.predict(x_train))),\n",
    "        \"val_error\": float(rmse(y_val.flatten(), dummy.predict(x_val))),\n",
    "        \"test_error\": float(rmse(y_test.flatten(), dummy.predict(x_test))),\n",
    "    }\n",
    "\n",
    "\n",
    "lst_reg_strings = [\n",
    "    \"SquaredFNorm\",\n",
    "    \"Group21Norm\",\n",
    "    \"GroupInf1Norm\",\n",
    "    \"L1Norm\",\n",
    "    \"SquaredLaplacian\",\n",
    "]\n",
    "\n",
    "eval_param_names = [\n",
    "    \"laplacian_type\",\n",
    "    \"weight_class\",\n",
    "]\n",
    "\n",
    "\n",
    "def pop_regularizers(params):\n",
    "    regularizers = []\n",
    "\n",
    "    for p in lst_reg_strings:\n",
    "        reg_params = {}\n",
    "\n",
    "        for k, v in params.items():\n",
    "            if k.startswith(p):\n",
    "                param_name = \"_\".join(k.split(\"_\")[1:])\n",
    "                eval_v = eval(v) if param_name in eval_param_names else v\n",
    "                reg_params[param_name] = eval_v\n",
    "\n",
    "        if reg_params:\n",
    "            regularizers.append(eval(p)(**reg_params))\n",
    "\n",
    "    params = {k: v for k, v in params.items() if k.split(\"_\")[0] not in lst_reg_strings}\n",
    "\n",
    "    return regularizers, params\n",
    "\n",
    "\n",
    "def train_joplen(\n",
    "    params,\n",
    "    x_train,\n",
    "    y_train,\n",
    "    x_val,\n",
    "    y_val,\n",
    "    x_test,\n",
    "    y_test,\n",
    "):\n",
    "    fit_params = {\"verbose\": params.pop(\"verbose\", False)}\n",
    "\n",
    "    params[\"partitioner\"] = eval(params[\"partitioner\"])\n",
    "    params[\"cell_model\"] = eval(params.pop(\"cell_model\", \"SquaredError\"))\n",
    "\n",
    "    regularizers, params = pop_regularizers(params)\n",
    "\n",
    "    loss_fn = eval(params.pop(\"loss_fn\", \"SquaredError\"))\n",
    "\n",
    "    model = JOPLEn(\n",
    "        loss_fn=loss_fn,\n",
    "        regularizers=regularizers,\n",
    "        **params,\n",
    "    )\n",
    "\n",
    "    history = model.fit(\n",
    "        x_train,\n",
    "        y_train,\n",
    "        val_x=x_val,\n",
    "        val_y=y_val,\n",
    "        print_epochs=1,\n",
    "        **fit_params,\n",
    "    )\n",
    "\n",
    "    if any([isinstance(r, Group21Norm) for r in regularizers]):\n",
    "        norm = lambda w: np.linalg.norm(w[:-1], axis=-1, ord=2)\n",
    "    elif any([isinstance(r, GroupInf1Norm) for r in regularizers]):\n",
    "        norm = lambda w: np.max(np.abs(w[:-1]), axis=-1)\n",
    "    else:\n",
    "        raise ValueError(\"Unknown regularizer\")\n",
    "\n",
    "    # ignore bias term\n",
    "    sel_features = mask_from_weights(norm(model.get_weights()))\n",
    "\n",
    "    res, pred_model = train_if_sel_feats(\n",
    "        sel_features,\n",
    "        x_train,\n",
    "        y_train,\n",
    "        x_val,\n",
    "        y_val,\n",
    "        x_test,\n",
    "        y_test,\n",
    "    )\n",
    "\n",
    "    return {\n",
    "        \"model\": (model, pred_model),\n",
    "        **res,\n",
    "        \"epochs\": len(history),\n",
    "        \"density\": float(sel_features.mean()),\n",
    "    }\n",
    "\n",
    "\n",
    "def normalize(x_train, x_val, x_test):\n",
    "    ss = StandardScaler()\n",
    "\n",
    "    x_train = ss.fit_transform(x_train)\n",
    "    x_val = ss.transform(x_val)\n",
    "    x_test = ss.transform(x_test)\n",
    "\n",
    "    return x_train, x_val, x_test\n",
    "\n",
    "\n",
    "def train_hsic(params, x_train, y_train, x_val, y_val, x_test, y_test):\n",
    "    params = deepcopy(params)\n",
    "\n",
    "    n_features = int(np.ceil(params.pop(\"frac_features\") * x_train.shape[1]))\n",
    "\n",
    "    assert n_features > 0, \"n_features must be > 0\"\n",
    "\n",
    "    x_train, x_val, x_test = normalize(x_train, x_val, x_test)\n",
    "\n",
    "    sel_model = HSICLasso()\n",
    "    sel_model.input(x_train, y_train)\n",
    "    sel_model.regression(\n",
    "        n_features,\n",
    "        max_neighbors=params.pop(\"max_neighbors\"),\n",
    "        B=params.pop(\"B\"),\n",
    "        M=params.pop(\"M\"),\n",
    "    )\n",
    "\n",
    "    sel_feats = np.array(sel_model.get_index())\n",
    "\n",
    "    y_train_pred, y_val_pred, y_test_pred, pred_model = train_test_gb(\n",
    "        x_train, y_train, x_val, y_val, x_test, y_test, sel_feats\n",
    "    )\n",
    "\n",
    "    return {\n",
    "        \"train_error\": float(rmse(y_train, y_train_pred)),\n",
    "        \"val_error\": float(rmse(y_val, y_val_pred)),\n",
    "        \"test_error\": float(rmse(y_test, y_test_pred)),\n",
    "        \"model\": (sel_model, pred_model),\n",
    "        \"density\": float(n_features / x_train.shape[1]),\n",
    "    }\n",
    "\n",
    "\n",
    "def train_ensemble(ModelClass, params, x_train, y_train, x_val, y_val, x_test, y_test):\n",
    "    params = deepcopy(params)\n",
    "    n_features = int(np.ceil(params.pop(\"frac_features\") * x_train.shape[1]))\n",
    "\n",
    "    # print(\"n_features:\", n_features)\n",
    "\n",
    "    x_train, x_val, x_test = normalize(x_train, x_val, x_test)\n",
    "\n",
    "    # select features with highest feature importance\n",
    "    model = ModelClass(**params)\n",
    "    model.fit(x_train, y_train)\n",
    "\n",
    "    # Using this method for now\n",
    "    sel_features = mask_from_weights(model.feature_importances_, n_features)\n",
    "\n",
    "    y_train_pred, y_val_pred, y_test_pred, pred_model = train_test_gb(\n",
    "        x_train, y_train, x_val, y_val, x_test, y_test, sel_features\n",
    "    )\n",
    "\n",
    "    return {\n",
    "        \"train_error\": float(rmse(y_train, y_train_pred)),\n",
    "        \"val_error\": float(rmse(y_val, y_val_pred)),\n",
    "        \"test_error\": float(rmse(y_test, y_test_pred)),\n",
    "        \"model\": pred_model,\n",
    "        \"density\": float(sel_features.mean()),\n",
    "    }\n",
    "\n",
    "\n",
    "def train_rf(params, x_train, y_train, x_val, y_val, x_test, y_test):\n",
    "    return train_ensemble(\n",
    "        RandomForestRegressor,\n",
    "        params,\n",
    "        x_train,\n",
    "        y_train,\n",
    "        x_val,\n",
    "        y_val,\n",
    "        x_test,\n",
    "        y_test,\n",
    "    )\n",
    "\n",
    "\n",
    "def train_gb(params, x_train, y_train, x_val, y_val, x_test, y_test):\n",
    "    return train_ensemble(\n",
    "        GradientBoostingRegressor,\n",
    "        params,\n",
    "        x_train,\n",
    "        y_train,\n",
    "        x_val,\n",
    "        y_val,\n",
    "        x_test,\n",
    "        y_test,\n",
    "    )"
   ]
  },
  {
   "cell_type": "code",
   "execution_count": 53,
   "metadata": {},
   "outputs": [],
   "source": [
    "def score(dummy_res, model_res):\n",
    "    return {\n",
    "        \"norm_error\": {\n",
    "            \"train\": float(model_res[\"train_error\"] / dummy_res[\"train_error\"]),\n",
    "            \"val\": float(model_res[\"val_error\"] / dummy_res[\"val_error\"]),\n",
    "            \"test\": float(model_res[\"test_error\"] / dummy_res[\"test_error\"]),\n",
    "        },\n",
    "    }"
   ]
  },
  {
   "cell_type": "markdown",
   "metadata": {},
   "source": [
    "#### Methods that don't explicitly choose numbers of features"
   ]
  },
  {
   "cell_type": "code",
   "execution_count": 54,
   "metadata": {},
   "outputs": [],
   "source": [
    "train_fn = {\n",
    "    Lasso.__name__: train_lasso,\n",
    "    JOPLEn.__name__: train_joplen,\n",
    "    HSICLasso.__name__: train_hsic,\n",
    "    # ccm.__name__.split(\".\")[-1]: train_ccm,\n",
    "    RandomForestRegressor.__name__: train_rf,\n",
    "    GradientBoostingRegressor.__name__: train_gb,\n",
    "    # NN.__name__: train_nn,\n",
    "}\n",
    "\n",
    "\n",
    "def optimize_model(\n",
    "    model_info,\n",
    "    ds_path,\n",
    "    n_trials,\n",
    "    minimize,\n",
    "    loss_type,\n",
    "    alpha,\n",
    "    alpha_idx,\n",
    "):\n",
    "    ds_name = ds_path.parent.name\n",
    "    params = model_info[\"parameters\"]\n",
    "\n",
    "    dir_path = CACHE_DIR / model_info[\"dir_name\"] / ds_name\n",
    "    exp_path = dir_path / f\"experiment_{alpha_idx}.json\"\n",
    "    metadata_path = dir_path / f\"metadata_{alpha_idx}.yaml\"\n",
    "\n",
    "    if metadata_path.exists():\n",
    "        with open(metadata_path, \"r\") as f:\n",
    "            metadata = yaml.load(f, Loader=yaml.FullLoader)\n",
    "        return metadata\n",
    "\n",
    "    x_train = np.loadtxt(ds_path / \"x_train.csv\", delimiter=\",\")\n",
    "    x_val = np.loadtxt(ds_path / \"x_val.csv\", delimiter=\",\")\n",
    "    x_test = np.loadtxt(ds_path / \"x_test.csv\", delimiter=\",\")\n",
    "    y_train = np.loadtxt(ds_path / \"y_train.csv\", delimiter=\",\")\n",
    "    y_val = np.loadtxt(ds_path / \"y_val.csv\", delimiter=\",\")\n",
    "    y_test = np.loadtxt(ds_path / \"y_test.csv\", delimiter=\",\")\n",
    "\n",
    "    dummy_res = dummy_regressor(\n",
    "        x_train,\n",
    "        y_train,\n",
    "        x_val,\n",
    "        y_val,\n",
    "        x_test,\n",
    "        y_test,\n",
    "    )\n",
    "\n",
    "    if not exp_path.exists():\n",
    "        ax_client = AxClient(\n",
    "            random_seed=0,\n",
    "            verbose_logging=False,\n",
    "        )\n",
    "\n",
    "        ax_client.create_experiment(\n",
    "            name=model_info[\"model\"],\n",
    "            parameters=params,\n",
    "            objectives={loss_type: ObjectiveProperties(minimize=minimize)},\n",
    "            overwrite_existing_experiment=True,\n",
    "        )\n",
    "\n",
    "        for _ in range(n_trials):\n",
    "            try:\n",
    "                round_params, trial_index = ax_client.get_next_trial()\n",
    "                model_res = train_fn[model_info[\"model\"]](\n",
    "                    round_params,\n",
    "                    x_train=x_train,\n",
    "                    y_train=y_train,\n",
    "                    x_val=x_val,\n",
    "                    y_val=y_val,\n",
    "                    x_test=x_test,\n",
    "                    y_test=y_test,\n",
    "                )\n",
    "                model_score = score(dummy_res, model_res, alpha)\n",
    "                ax_client.complete_trial(\n",
    "                    trial_index=trial_index, raw_data=model_score[\"pareto\"][\"val\"]\n",
    "                )\n",
    "            except (ValueError, OutOfMemoryError) as e:\n",
    "                print(e)\n",
    "                ax_client.abandon_trial(\n",
    "                    trial_index=trial_index,\n",
    "                    reason=str(e),\n",
    "                )\n",
    "    else:\n",
    "        ax_client = AxClient.load_from_json_file(exp_path)\n",
    "\n",
    "    exp_path.parent.mkdir(parents=True, exist_ok=True)\n",
    "\n",
    "    ax_client.save_to_json_file(\n",
    "        filepath=exp_path,\n",
    "    )\n",
    "\n",
    "    best_parameters, _ = ax_client.get_best_parameters()\n",
    "\n",
    "    model_res = train_fn[model_info[\"model\"]](\n",
    "        best_parameters,\n",
    "        x_train=x_train,\n",
    "        y_train=y_train,\n",
    "        x_val=x_val,\n",
    "        y_val=y_val,\n",
    "        x_test=x_test,\n",
    "        y_test=y_test,\n",
    "    )\n",
    "    model_score = score(dummy_res, model_res, alpha)\n",
    "\n",
    "    model_res.pop(\"model\", None)\n",
    "\n",
    "    metadata = {\n",
    "        \"alpha\": float(alpha),\n",
    "        \"model\": {\n",
    "            \"name\": model_info[\"model\"],\n",
    "            \"results\": model_res,\n",
    "            \"score\": model_score,\n",
    "        },\n",
    "        \"dummy\": {\n",
    "            \"name\": \"DummyRegressor\",\n",
    "            **dummy_res,\n",
    "        },\n",
    "    }\n",
    "\n",
    "    with open(metadata_path, \"w\") as f:\n",
    "        yaml.dump(metadata, f)\n",
    "\n",
    "    return metadata"
   ]
  },
  {
   "cell_type": "code",
   "execution_count": 55,
   "metadata": {},
   "outputs": [],
   "source": [
    "n_samples = 11\n",
    "densities = np.linspace(0, 1, n_samples, endpoint=True)\n",
    "datasets = [DS_PATH / ds / \"processed\" for ds in LST_DATASETS]"
   ]
  },
  {
   "cell_type": "markdown",
   "metadata": {},
   "source": [
    "---"
   ]
  },
  {
   "cell_type": "markdown",
   "metadata": {},
   "source": [
    "#### Methods that explicitly chose numbers of features"
   ]
  },
  {
   "cell_type": "code",
   "execution_count": 56,
   "metadata": {},
   "outputs": [],
   "source": [
    "def optimize_model(\n",
    "    model_info,\n",
    "    ds_path,\n",
    "    n_trials,\n",
    "    minimize,\n",
    "    loss_type,\n",
    "    reg_idx,\n",
    "):\n",
    "    ds_name = ds_path.parent.name\n",
    "    params = deepcopy(model_info[\"parameters\"])\n",
    "\n",
    "    dir_path = CACHE_DIR / model_info[\"dir_name\"] / ds_name\n",
    "    exp_path = dir_path / f\"experiment_{reg_idx}.json\"\n",
    "    metadata_path = dir_path / f\"metadata_{reg_idx}.yaml\"\n",
    "\n",
    "    if metadata_path.exists():\n",
    "        with open(metadata_path, \"r\") as f:\n",
    "            metadata = yaml.load(f, Loader=yaml.FullLoader)\n",
    "        return metadata\n",
    "\n",
    "    x_train = np.loadtxt(ds_path / \"x_train.csv\", delimiter=\",\")\n",
    "    x_val = np.loadtxt(ds_path / \"x_val.csv\", delimiter=\",\")\n",
    "    x_test = np.loadtxt(ds_path / \"x_test.csv\", delimiter=\",\")\n",
    "    y_train = np.loadtxt(ds_path / \"y_train.csv\", delimiter=\",\")\n",
    "    y_val = np.loadtxt(ds_path / \"y_val.csv\", delimiter=\",\")\n",
    "    y_test = np.loadtxt(ds_path / \"y_test.csv\", delimiter=\",\")\n",
    "\n",
    "    dummy_res = dummy_regressor(\n",
    "        x_train,\n",
    "        y_train,\n",
    "        x_val,\n",
    "        y_val,\n",
    "        x_test,\n",
    "        y_test,\n",
    "    )\n",
    "\n",
    "    nonfixed_params = [v for v in params if v[\"type\"] != \"fixed\"]\n",
    "    if len(nonfixed_params) > 0:\n",
    "        if not exp_path.exists():\n",
    "            ax_client = AxClient(\n",
    "                random_seed=0,\n",
    "                verbose_logging=False,\n",
    "            )\n",
    "\n",
    "            params = deepcopy(params)\n",
    "\n",
    "            ax_client.create_experiment(\n",
    "                name=model_info[\"model\"],\n",
    "                parameters=params,\n",
    "                objectives={loss_type: ObjectiveProperties(minimize=minimize)},\n",
    "                overwrite_existing_experiment=True,\n",
    "            )\n",
    "\n",
    "            for _ in range(n_trials):\n",
    "                round_params, trial_index = ax_client.get_next_trial()\n",
    "\n",
    "                # try:\n",
    "                model_res = train_fn[model_info[\"model\"]](\n",
    "                    round_params,\n",
    "                    x_train=x_train,\n",
    "                    y_train=y_train,\n",
    "                    x_val=x_val,\n",
    "                    y_val=y_val,\n",
    "                    x_test=x_test,\n",
    "                    y_test=y_test,\n",
    "                )\n",
    "                model_score = score(dummy_res, model_res)\n",
    "                ax_client.complete_trial(\n",
    "                    trial_index=trial_index,\n",
    "                    raw_data=model_score[\"norm_error\"][\"val\"],\n",
    "                )\n",
    "                # except (ValueError, OutOfMemoryError) as e:\n",
    "                #     print(e)\n",
    "                #     ax_client.abandon_trial(\n",
    "                #         trial_index=trial_index,\n",
    "                #         reason=str(e),\n",
    "                #     )\n",
    "        else:\n",
    "            ax_client = AxClient.load_from_json_file(exp_path)\n",
    "\n",
    "        exp_path.parent.mkdir(parents=True, exist_ok=True)\n",
    "\n",
    "        ax_client.save_to_json_file(\n",
    "            filepath=exp_path,\n",
    "        )\n",
    "\n",
    "        best_parameters, _ = ax_client.get_best_parameters()\n",
    "    else:\n",
    "        best_parameters = {v[\"name\"]: v[\"value\"] for v in params}\n",
    "        metadata_path.parent.mkdir(parents=True, exist_ok=True)\n",
    "\n",
    "    model_res = train_fn[model_info[\"model\"]](\n",
    "        best_parameters,\n",
    "        x_train=x_train,\n",
    "        y_train=y_train,\n",
    "        x_val=x_val,\n",
    "        y_val=y_val,\n",
    "        x_test=x_test,\n",
    "        y_test=y_test,\n",
    "    )\n",
    "\n",
    "    if \"cell_model\" in best_parameters:\n",
    "        best_parameters[\"cell_model\"] = str(best_parameters[\"cell_model\"])\n",
    "    if \"partitioner\" in best_parameters:\n",
    "        best_parameters[\"partitioner\"] = str(best_parameters[\"partitioner\"])\n",
    "\n",
    "    model_score = score(dummy_res, model_res)\n",
    "\n",
    "    model_res.pop(\"model\", None)\n",
    "\n",
    "    metadata = {\n",
    "        \"model\": {\n",
    "            \"name\": model_info[\"model\"],\n",
    "            \"results\": model_res,\n",
    "            \"score\": model_score,\n",
    "        },\n",
    "        \"dummy\": {\n",
    "            \"name\": \"DummyRegressor\",\n",
    "            **dummy_res,\n",
    "        },\n",
    "        \"params\": best_parameters,\n",
    "    }\n",
    "\n",
    "    with open(metadata_path, \"w\") as f:\n",
    "        yaml.dump(metadata, f)\n",
    "\n",
    "    return metadata"
   ]
  },
  {
   "cell_type": "code",
   "execution_count": 57,
   "metadata": {},
   "outputs": [],
   "source": [
    "sweep_params = {\n",
    "    \"joplen_linear_gb_l21L2\": {\n",
    "        \"name\": \"Group21Norm_lam\",\n",
    "        \"type\": \"fixed\",\n",
    "        \"value\": np.logspace(-5, 2, 20),\n",
    "        \"value_type\": \"float\",\n",
    "    },\n",
    "    # \"joplen_linear_gb_linf1L2\": {\n",
    "    #     \"name\": \"fs_GroupInf1Norm_lam\",\n",
    "    #     \"type\": \"fixed\",\n",
    "    #     \"value\": np.logspace(-8, 3, 20),\n",
    "    #     \"value_type\": \"float\",\n",
    "    # },\n",
    "    # \"joplen_linear_vor_l21L2\": {\n",
    "    #     \"name\": \"fs_GroupInf1Norm_lam\",\n",
    "    #     \"type\": \"fixed\",\n",
    "    #     \"value\": np.logspace(-8, 3, 20),\n",
    "    #     \"value_type\": \"float\",\n",
    "    # },\n",
    "    \"rf\": {\n",
    "        \"name\": \"frac_features\",\n",
    "        \"type\": \"fixed\",\n",
    "        \"value\": np.linspace(0.01, 1, 20),\n",
    "        \"value_type\": \"float\",\n",
    "    },\n",
    "    \"gb\": {\n",
    "        \"name\": \"frac_features\",\n",
    "        \"type\": \"fixed\",\n",
    "        \"value\": np.linspace(0.01, 1, 20),\n",
    "        \"value_type\": \"float\",\n",
    "    },\n",
    "    \"hsic\": {\n",
    "        \"name\": \"frac_features\",\n",
    "        \"type\": \"fixed\",\n",
    "        \"value\": np.linspace(0.01, 1, 20),\n",
    "        \"value_type\": \"float\",\n",
    "    },\n",
    "    \"lasso\": {\n",
    "        \"name\": \"alpha\",\n",
    "        \"type\": \"fixed\",\n",
    "        \"value\": np.logspace(-5, 2, 20),\n",
    "        \"value_type\": \"float\",\n",
    "    },\n",
    "}"
   ]
  },
  {
   "cell_type": "code",
   "execution_count": 58,
   "metadata": {},
   "outputs": [],
   "source": [
    "def replace_param(params, new_param):\n",
    "    params = [x for x in params if x[\"name\"] != new_param[\"name\"]]\n",
    "\n",
    "    params.append(new_param)\n",
    "    return params"
   ]
  },
  {
   "cell_type": "code",
   "execution_count": 59,
   "metadata": {},
   "outputs": [
    {
     "name": "stderr",
     "output_type": "stream",
     "text": [
      "Running rf on boston                                      : 100%|██████████| 20/20 [00:00<00:00, 756.92it/s]\n",
      "Running joplen_linear_gb_l21L2 on boston                  : 100%|██████████| 20/20 [00:00<00:00, 663.23it/s]\n",
      "Running lasso on boston                                   : 100%|██████████| 20/20 [00:00<00:00, 925.82it/s]\n",
      "Running gb on boston                                      : 100%|██████████| 20/20 [00:00<00:00, 774.76it/s]\n",
      "Running hsic on boston                                    : 100%|██████████| 20/20 [00:00<00:00, 847.80it/s]\n",
      "Running rf on diabetes                                    : 100%|██████████| 20/20 [00:00<00:00, 802.13it/s]\n",
      "Running joplen_linear_gb_l21L2 on diabetes                : 100%|██████████| 20/20 [00:00<00:00, 599.54it/s]\n",
      "Running lasso on diabetes                                 : 100%|██████████| 20/20 [00:00<00:00, 824.05it/s]\n",
      "Running gb on diabetes                                    : 100%|██████████| 20/20 [00:00<00:00, 733.56it/s]\n",
      "Running hsic on diabetes                                  : 100%|██████████| 20/20 [00:00<00:00, 824.60it/s]\n",
      "Running rf on riboflavin                                  : 100%|██████████| 20/20 [00:00<00:00, 823.79it/s]\n",
      "Running joplen_linear_gb_l21L2 on riboflavin              : 100%|██████████| 20/20 [08:51<00:00, 26.58s/it]\n",
      "Running lasso on riboflavin                               : 100%|██████████| 20/20 [00:04<00:00,  4.70it/s]\n",
      "Running gb on riboflavin                                  : 100%|██████████| 20/20 [08:39<00:00, 26.00s/it]\n",
      "Running hsic on riboflavin                                :   0%|          | 0/20 [00:00<?, ?it/s]"
     ]
    },
    {
     "name": "stdout",
     "output_type": "stream",
     "text": [
      "Block HSIC Lasso B = 49.\n",
      "M set to 1.\n",
      "Using Gaussian kernel for the features, Gaussian kernel for the outcomes.\n"
     ]
    },
    {
     "name": "stderr",
     "output_type": "stream",
     "text": [
      "/home/matt/code/school/joplen/code/joplen-tests/my_env311/lib/python3.11/site-packages/joblib/externals/loky/backend/fork_exec.py:38: RuntimeWarning: os.fork() was called. os.fork() is incompatible with multithreaded code, and JAX is multithreaded, so this will likely lead to a deadlock.\n",
      "  pid = os.fork()\n"
     ]
    },
    {
     "name": "stdout",
     "output_type": "stream",
     "text": [
      "Block HSIC Lasso B = 49.\n",
      "M set to 1.\n",
      "Using Gaussian kernel for the features, Gaussian kernel for the outcomes.\n",
      "Block HSIC Lasso B = 49.\n",
      "M set to 1.\n",
      "Using Gaussian kernel for the features, Gaussian kernel for the outcomes.\n",
      "Block HSIC Lasso B = 49.\n",
      "M set to 1.\n",
      "Using Gaussian kernel for the features, Gaussian kernel for the outcomes.\n",
      "Block HSIC Lasso B = 49.\n",
      "M set to 1.\n",
      "Using Gaussian kernel for the features, Gaussian kernel for the outcomes.\n",
      "Block HSIC Lasso B = 49.\n",
      "M set to 1.\n",
      "Using Gaussian kernel for the features, Gaussian kernel for the outcomes.\n"
     ]
    },
    {
     "name": "stderr",
     "output_type": "stream",
     "text": [
      "Running hsic on riboflavin                                :   5%|▌         | 1/20 [00:06<02:02,  6.44s/it]"
     ]
    },
    {
     "name": "stdout",
     "output_type": "stream",
     "text": [
      "Block HSIC Lasso B = 49.\n",
      "M set to 1.\n",
      "Using Gaussian kernel for the features, Gaussian kernel for the outcomes.\n",
      "Block HSIC Lasso B = 49.\n",
      "M set to 1.\n",
      "Using Gaussian kernel for the features, Gaussian kernel for the outcomes.\n",
      "Block HSIC Lasso B = 49.\n",
      "M set to 1.\n",
      "Using Gaussian kernel for the features, Gaussian kernel for the outcomes.\n",
      "Block HSIC Lasso B = 49.\n",
      "M set to 1.\n",
      "Using Gaussian kernel for the features, Gaussian kernel for the outcomes.\n",
      "Block HSIC Lasso B = 49.\n",
      "M set to 1.\n",
      "Using Gaussian kernel for the features, Gaussian kernel for the outcomes.\n",
      "Block HSIC Lasso B = 49.\n",
      "M set to 1.\n",
      "Using Gaussian kernel for the features, Gaussian kernel for the outcomes.\n"
     ]
    },
    {
     "name": "stderr",
     "output_type": "stream",
     "text": [
      "Running hsic on riboflavin                                :  10%|█         | 2/20 [00:12<01:51,  6.21s/it]"
     ]
    },
    {
     "name": "stdout",
     "output_type": "stream",
     "text": [
      "Block HSIC Lasso B = 49.\n",
      "M set to 1.\n",
      "Using Gaussian kernel for the features, Gaussian kernel for the outcomes.\n",
      "Block HSIC Lasso B = 49.\n",
      "M set to 1.\n",
      "Using Gaussian kernel for the features, Gaussian kernel for the outcomes.\n",
      "Block HSIC Lasso B = 49.\n",
      "M set to 1.\n",
      "Using Gaussian kernel for the features, Gaussian kernel for the outcomes.\n",
      "Block HSIC Lasso B = 49.\n",
      "M set to 1.\n",
      "Using Gaussian kernel for the features, Gaussian kernel for the outcomes.\n",
      "Block HSIC Lasso B = 49.\n",
      "M set to 1.\n",
      "Using Gaussian kernel for the features, Gaussian kernel for the outcomes.\n",
      "Block HSIC Lasso B = 49.\n",
      "M set to 1.\n",
      "Using Gaussian kernel for the features, Gaussian kernel for the outcomes.\n"
     ]
    },
    {
     "name": "stderr",
     "output_type": "stream",
     "text": [
      "Running hsic on riboflavin                                :  15%|█▌        | 3/20 [00:19<01:51,  6.54s/it]"
     ]
    },
    {
     "name": "stdout",
     "output_type": "stream",
     "text": [
      "Block HSIC Lasso B = 49.\n",
      "M set to 1.\n",
      "Using Gaussian kernel for the features, Gaussian kernel for the outcomes.\n",
      "Block HSIC Lasso B = 49.\n",
      "M set to 1.\n",
      "Using Gaussian kernel for the features, Gaussian kernel for the outcomes.\n",
      "Block HSIC Lasso B = 49.\n",
      "M set to 1.\n",
      "Using Gaussian kernel for the features, Gaussian kernel for the outcomes.\n",
      "Block HSIC Lasso B = 49.\n",
      "M set to 1.\n",
      "Using Gaussian kernel for the features, Gaussian kernel for the outcomes.\n",
      "Block HSIC Lasso B = 49.\n",
      "M set to 1.\n",
      "Using Gaussian kernel for the features, Gaussian kernel for the outcomes.\n",
      "Block HSIC Lasso B = 49.\n",
      "M set to 1.\n",
      "Using Gaussian kernel for the features, Gaussian kernel for the outcomes.\n"
     ]
    },
    {
     "name": "stderr",
     "output_type": "stream",
     "text": [
      "Running hsic on riboflavin                                :  20%|██        | 4/20 [00:26<01:44,  6.55s/it]"
     ]
    },
    {
     "name": "stdout",
     "output_type": "stream",
     "text": [
      "Block HSIC Lasso B = 49.\n",
      "M set to 1.\n",
      "Using Gaussian kernel for the features, Gaussian kernel for the outcomes.\n",
      "Block HSIC Lasso B = 49.\n",
      "M set to 1.\n",
      "Using Gaussian kernel for the features, Gaussian kernel for the outcomes.\n",
      "Block HSIC Lasso B = 49.\n",
      "M set to 1.\n",
      "Using Gaussian kernel for the features, Gaussian kernel for the outcomes.\n",
      "Block HSIC Lasso B = 49.\n",
      "M set to 1.\n",
      "Using Gaussian kernel for the features, Gaussian kernel for the outcomes.\n",
      "Block HSIC Lasso B = 49.\n",
      "M set to 1.\n",
      "Using Gaussian kernel for the features, Gaussian kernel for the outcomes.\n",
      "Block HSIC Lasso B = 49.\n",
      "M set to 1.\n",
      "Using Gaussian kernel for the features, Gaussian kernel for the outcomes.\n"
     ]
    },
    {
     "name": "stderr",
     "output_type": "stream",
     "text": [
      "Running hsic on riboflavin                                :  25%|██▌       | 5/20 [00:32<01:35,  6.38s/it]"
     ]
    },
    {
     "name": "stdout",
     "output_type": "stream",
     "text": [
      "Block HSIC Lasso B = 49.\n",
      "M set to 1.\n",
      "Using Gaussian kernel for the features, Gaussian kernel for the outcomes.\n",
      "Block HSIC Lasso B = 49.\n",
      "M set to 1.\n",
      "Using Gaussian kernel for the features, Gaussian kernel for the outcomes.\n",
      "Block HSIC Lasso B = 49.\n",
      "M set to 1.\n",
      "Using Gaussian kernel for the features, Gaussian kernel for the outcomes.\n",
      "Block HSIC Lasso B = 49.\n",
      "M set to 1.\n",
      "Using Gaussian kernel for the features, Gaussian kernel for the outcomes.\n",
      "Block HSIC Lasso B = 49.\n",
      "M set to 1.\n",
      "Using Gaussian kernel for the features, Gaussian kernel for the outcomes.\n",
      "Block HSIC Lasso B = 49.\n",
      "M set to 1.\n",
      "Using Gaussian kernel for the features, Gaussian kernel for the outcomes.\n"
     ]
    },
    {
     "name": "stderr",
     "output_type": "stream",
     "text": [
      "Running hsic on riboflavin                                :  30%|███       | 6/20 [00:38<01:29,  6.42s/it]"
     ]
    },
    {
     "name": "stdout",
     "output_type": "stream",
     "text": [
      "Block HSIC Lasso B = 49.\n",
      "M set to 1.\n",
      "Using Gaussian kernel for the features, Gaussian kernel for the outcomes.\n",
      "Block HSIC Lasso B = 49.\n",
      "M set to 1.\n",
      "Using Gaussian kernel for the features, Gaussian kernel for the outcomes.\n",
      "Block HSIC Lasso B = 49.\n",
      "M set to 1.\n",
      "Using Gaussian kernel for the features, Gaussian kernel for the outcomes.\n",
      "Block HSIC Lasso B = 49.\n",
      "M set to 1.\n",
      "Using Gaussian kernel for the features, Gaussian kernel for the outcomes.\n",
      "Block HSIC Lasso B = 49.\n",
      "M set to 1.\n",
      "Using Gaussian kernel for the features, Gaussian kernel for the outcomes.\n",
      "Block HSIC Lasso B = 49.\n",
      "M set to 1.\n",
      "Using Gaussian kernel for the features, Gaussian kernel for the outcomes.\n"
     ]
    },
    {
     "name": "stderr",
     "output_type": "stream",
     "text": [
      "Running hsic on riboflavin                                :  35%|███▌      | 7/20 [00:44<01:22,  6.35s/it]"
     ]
    },
    {
     "name": "stdout",
     "output_type": "stream",
     "text": [
      "Block HSIC Lasso B = 49.\n",
      "M set to 1.\n",
      "Using Gaussian kernel for the features, Gaussian kernel for the outcomes.\n",
      "Block HSIC Lasso B = 49.\n",
      "M set to 1.\n",
      "Using Gaussian kernel for the features, Gaussian kernel for the outcomes.\n",
      "Block HSIC Lasso B = 49.\n",
      "M set to 1.\n",
      "Using Gaussian kernel for the features, Gaussian kernel for the outcomes.\n",
      "Block HSIC Lasso B = 49.\n",
      "M set to 1.\n",
      "Using Gaussian kernel for the features, Gaussian kernel for the outcomes.\n",
      "Block HSIC Lasso B = 49.\n",
      "M set to 1.\n",
      "Using Gaussian kernel for the features, Gaussian kernel for the outcomes.\n",
      "Block HSIC Lasso B = 49.\n",
      "M set to 1.\n",
      "Using Gaussian kernel for the features, Gaussian kernel for the outcomes.\n"
     ]
    },
    {
     "name": "stderr",
     "output_type": "stream",
     "text": [
      "Running hsic on riboflavin                                :  40%|████      | 8/20 [00:51<01:17,  6.45s/it]"
     ]
    },
    {
     "name": "stdout",
     "output_type": "stream",
     "text": [
      "Block HSIC Lasso B = 49.\n",
      "M set to 1.\n",
      "Using Gaussian kernel for the features, Gaussian kernel for the outcomes.\n",
      "Block HSIC Lasso B = 49.\n",
      "M set to 1.\n",
      "Using Gaussian kernel for the features, Gaussian kernel for the outcomes.\n",
      "Block HSIC Lasso B = 49.\n",
      "M set to 1.\n",
      "Using Gaussian kernel for the features, Gaussian kernel for the outcomes.\n",
      "Block HSIC Lasso B = 49.\n",
      "M set to 1.\n",
      "Using Gaussian kernel for the features, Gaussian kernel for the outcomes.\n",
      "Block HSIC Lasso B = 49.\n",
      "M set to 1.\n",
      "Using Gaussian kernel for the features, Gaussian kernel for the outcomes.\n",
      "Block HSIC Lasso B = 49.\n",
      "M set to 1.\n",
      "Using Gaussian kernel for the features, Gaussian kernel for the outcomes.\n"
     ]
    },
    {
     "name": "stderr",
     "output_type": "stream",
     "text": [
      "Running hsic on riboflavin                                :  45%|████▌     | 9/20 [00:57<01:09,  6.29s/it]"
     ]
    },
    {
     "name": "stdout",
     "output_type": "stream",
     "text": [
      "Block HSIC Lasso B = 49.\n",
      "M set to 1.\n",
      "Using Gaussian kernel for the features, Gaussian kernel for the outcomes.\n",
      "Block HSIC Lasso B = 49.\n",
      "M set to 1.\n",
      "Using Gaussian kernel for the features, Gaussian kernel for the outcomes.\n",
      "Block HSIC Lasso B = 49.\n",
      "M set to 1.\n",
      "Using Gaussian kernel for the features, Gaussian kernel for the outcomes.\n",
      "Block HSIC Lasso B = 49.\n",
      "M set to 1.\n",
      "Using Gaussian kernel for the features, Gaussian kernel for the outcomes.\n",
      "Block HSIC Lasso B = 49.\n",
      "M set to 1.\n",
      "Using Gaussian kernel for the features, Gaussian kernel for the outcomes.\n",
      "Block HSIC Lasso B = 49.\n",
      "M set to 1.\n",
      "Using Gaussian kernel for the features, Gaussian kernel for the outcomes.\n"
     ]
    },
    {
     "name": "stderr",
     "output_type": "stream",
     "text": [
      "Running hsic on riboflavin                                :  50%|█████     | 10/20 [01:04<01:04,  6.47s/it]"
     ]
    },
    {
     "name": "stdout",
     "output_type": "stream",
     "text": [
      "Block HSIC Lasso B = 49.\n",
      "M set to 1.\n",
      "Using Gaussian kernel for the features, Gaussian kernel for the outcomes.\n",
      "Block HSIC Lasso B = 49.\n",
      "M set to 1.\n",
      "Using Gaussian kernel for the features, Gaussian kernel for the outcomes.\n",
      "Block HSIC Lasso B = 49.\n",
      "M set to 1.\n",
      "Using Gaussian kernel for the features, Gaussian kernel for the outcomes.\n",
      "Block HSIC Lasso B = 49.\n",
      "M set to 1.\n",
      "Using Gaussian kernel for the features, Gaussian kernel for the outcomes.\n",
      "Block HSIC Lasso B = 49.\n",
      "M set to 1.\n",
      "Using Gaussian kernel for the features, Gaussian kernel for the outcomes.\n",
      "Block HSIC Lasso B = 49.\n",
      "M set to 1.\n",
      "Using Gaussian kernel for the features, Gaussian kernel for the outcomes.\n"
     ]
    },
    {
     "name": "stderr",
     "output_type": "stream",
     "text": [
      "Running hsic on riboflavin                                :  55%|█████▌    | 11/20 [01:10<00:56,  6.32s/it]"
     ]
    },
    {
     "name": "stdout",
     "output_type": "stream",
     "text": [
      "Block HSIC Lasso B = 49.\n",
      "M set to 1.\n",
      "Using Gaussian kernel for the features, Gaussian kernel for the outcomes.\n",
      "Block HSIC Lasso B = 49.\n",
      "M set to 1.\n",
      "Using Gaussian kernel for the features, Gaussian kernel for the outcomes.\n",
      "Block HSIC Lasso B = 49.\n",
      "M set to 1.\n",
      "Using Gaussian kernel for the features, Gaussian kernel for the outcomes.\n",
      "Block HSIC Lasso B = 49.\n",
      "M set to 1.\n",
      "Using Gaussian kernel for the features, Gaussian kernel for the outcomes.\n",
      "Block HSIC Lasso B = 49.\n",
      "M set to 1.\n",
      "Using Gaussian kernel for the features, Gaussian kernel for the outcomes.\n",
      "Block HSIC Lasso B = 49.\n",
      "M set to 1.\n",
      "Using Gaussian kernel for the features, Gaussian kernel for the outcomes.\n"
     ]
    },
    {
     "name": "stderr",
     "output_type": "stream",
     "text": [
      "Running hsic on riboflavin                                :  60%|██████    | 12/20 [01:15<00:48,  6.12s/it]"
     ]
    },
    {
     "name": "stdout",
     "output_type": "stream",
     "text": [
      "Block HSIC Lasso B = 49.\n",
      "M set to 1.\n",
      "Using Gaussian kernel for the features, Gaussian kernel for the outcomes.\n",
      "Block HSIC Lasso B = 49.\n",
      "M set to 1.\n",
      "Using Gaussian kernel for the features, Gaussian kernel for the outcomes.\n",
      "Block HSIC Lasso B = 49.\n",
      "M set to 1.\n",
      "Using Gaussian kernel for the features, Gaussian kernel for the outcomes.\n",
      "Block HSIC Lasso B = 49.\n",
      "M set to 1.\n",
      "Using Gaussian kernel for the features, Gaussian kernel for the outcomes.\n",
      "Block HSIC Lasso B = 49.\n",
      "M set to 1.\n",
      "Using Gaussian kernel for the features, Gaussian kernel for the outcomes.\n",
      "Block HSIC Lasso B = 49.\n",
      "M set to 1.\n",
      "Using Gaussian kernel for the features, Gaussian kernel for the outcomes.\n"
     ]
    },
    {
     "name": "stderr",
     "output_type": "stream",
     "text": [
      "Running hsic on riboflavin                                :  65%|██████▌   | 13/20 [01:21<00:42,  6.08s/it]"
     ]
    },
    {
     "name": "stdout",
     "output_type": "stream",
     "text": [
      "Block HSIC Lasso B = 49.\n",
      "M set to 1.\n",
      "Using Gaussian kernel for the features, Gaussian kernel for the outcomes.\n",
      "Block HSIC Lasso B = 49.\n",
      "M set to 1.\n",
      "Using Gaussian kernel for the features, Gaussian kernel for the outcomes.\n",
      "Block HSIC Lasso B = 49.\n",
      "M set to 1.\n",
      "Using Gaussian kernel for the features, Gaussian kernel for the outcomes.\n",
      "Block HSIC Lasso B = 49.\n",
      "M set to 1.\n",
      "Using Gaussian kernel for the features, Gaussian kernel for the outcomes.\n",
      "Block HSIC Lasso B = 49.\n",
      "M set to 1.\n",
      "Using Gaussian kernel for the features, Gaussian kernel for the outcomes.\n",
      "Block HSIC Lasso B = 49.\n",
      "M set to 1.\n",
      "Using Gaussian kernel for the features, Gaussian kernel for the outcomes.\n"
     ]
    },
    {
     "name": "stderr",
     "output_type": "stream",
     "text": [
      "Running hsic on riboflavin                                :  70%|███████   | 14/20 [01:28<00:38,  6.38s/it]"
     ]
    },
    {
     "name": "stdout",
     "output_type": "stream",
     "text": [
      "Block HSIC Lasso B = 49.\n",
      "M set to 1.\n",
      "Using Gaussian kernel for the features, Gaussian kernel for the outcomes.\n",
      "Block HSIC Lasso B = 49.\n",
      "M set to 1.\n",
      "Using Gaussian kernel for the features, Gaussian kernel for the outcomes.\n",
      "Block HSIC Lasso B = 49.\n",
      "M set to 1.\n",
      "Using Gaussian kernel for the features, Gaussian kernel for the outcomes.\n",
      "Block HSIC Lasso B = 49.\n",
      "M set to 1.\n",
      "Using Gaussian kernel for the features, Gaussian kernel for the outcomes.\n",
      "Block HSIC Lasso B = 49.\n",
      "M set to 1.\n",
      "Using Gaussian kernel for the features, Gaussian kernel for the outcomes.\n",
      "Block HSIC Lasso B = 49.\n",
      "M set to 1.\n",
      "Using Gaussian kernel for the features, Gaussian kernel for the outcomes.\n"
     ]
    },
    {
     "name": "stderr",
     "output_type": "stream",
     "text": [
      "Running hsic on riboflavin                                :  75%|███████▌  | 15/20 [01:35<00:32,  6.42s/it]"
     ]
    },
    {
     "name": "stdout",
     "output_type": "stream",
     "text": [
      "Block HSIC Lasso B = 49.\n",
      "M set to 1.\n",
      "Using Gaussian kernel for the features, Gaussian kernel for the outcomes.\n",
      "Block HSIC Lasso B = 49.\n",
      "M set to 1.\n",
      "Using Gaussian kernel for the features, Gaussian kernel for the outcomes.\n",
      "Block HSIC Lasso B = 49.\n",
      "M set to 1.\n",
      "Using Gaussian kernel for the features, Gaussian kernel for the outcomes.\n",
      "Block HSIC Lasso B = 49.\n",
      "M set to 1.\n",
      "Using Gaussian kernel for the features, Gaussian kernel for the outcomes.\n",
      "Block HSIC Lasso B = 49.\n",
      "M set to 1.\n",
      "Using Gaussian kernel for the features, Gaussian kernel for the outcomes.\n",
      "Block HSIC Lasso B = 49.\n",
      "M set to 1.\n",
      "Using Gaussian kernel for the features, Gaussian kernel for the outcomes.\n"
     ]
    },
    {
     "name": "stderr",
     "output_type": "stream",
     "text": [
      "Running hsic on riboflavin                                :  80%|████████  | 16/20 [01:41<00:25,  6.30s/it]"
     ]
    },
    {
     "name": "stdout",
     "output_type": "stream",
     "text": [
      "Block HSIC Lasso B = 49.\n",
      "M set to 1.\n",
      "Using Gaussian kernel for the features, Gaussian kernel for the outcomes.\n",
      "Block HSIC Lasso B = 49.\n",
      "M set to 1.\n",
      "Using Gaussian kernel for the features, Gaussian kernel for the outcomes.\n",
      "Block HSIC Lasso B = 49.\n",
      "M set to 1.\n",
      "Using Gaussian kernel for the features, Gaussian kernel for the outcomes.\n",
      "Block HSIC Lasso B = 49.\n",
      "M set to 1.\n",
      "Using Gaussian kernel for the features, Gaussian kernel for the outcomes.\n",
      "Block HSIC Lasso B = 49.\n",
      "M set to 1.\n",
      "Using Gaussian kernel for the features, Gaussian kernel for the outcomes.\n",
      "Block HSIC Lasso B = 49.\n",
      "M set to 1.\n",
      "Using Gaussian kernel for the features, Gaussian kernel for the outcomes.\n"
     ]
    },
    {
     "name": "stderr",
     "output_type": "stream",
     "text": [
      "Running hsic on riboflavin                                :  85%|████████▌ | 17/20 [01:48<00:19,  6.60s/it]"
     ]
    },
    {
     "name": "stdout",
     "output_type": "stream",
     "text": [
      "Block HSIC Lasso B = 49.\n",
      "M set to 1.\n",
      "Using Gaussian kernel for the features, Gaussian kernel for the outcomes.\n",
      "Block HSIC Lasso B = 49.\n",
      "M set to 1.\n",
      "Using Gaussian kernel for the features, Gaussian kernel for the outcomes.\n",
      "Block HSIC Lasso B = 49.\n",
      "M set to 1.\n",
      "Using Gaussian kernel for the features, Gaussian kernel for the outcomes.\n",
      "Block HSIC Lasso B = 49.\n",
      "M set to 1.\n",
      "Using Gaussian kernel for the features, Gaussian kernel for the outcomes.\n",
      "Block HSIC Lasso B = 49.\n",
      "M set to 1.\n",
      "Using Gaussian kernel for the features, Gaussian kernel for the outcomes.\n",
      "Block HSIC Lasso B = 49.\n",
      "M set to 1.\n",
      "Using Gaussian kernel for the features, Gaussian kernel for the outcomes.\n"
     ]
    },
    {
     "name": "stderr",
     "output_type": "stream",
     "text": [
      "Running hsic on riboflavin                                :  90%|█████████ | 18/20 [01:54<00:12,  6.43s/it]"
     ]
    },
    {
     "name": "stdout",
     "output_type": "stream",
     "text": [
      "Block HSIC Lasso B = 49.\n",
      "M set to 1.\n",
      "Using Gaussian kernel for the features, Gaussian kernel for the outcomes.\n",
      "Block HSIC Lasso B = 49.\n",
      "M set to 1.\n",
      "Using Gaussian kernel for the features, Gaussian kernel for the outcomes.\n",
      "Block HSIC Lasso B = 49.\n",
      "M set to 1.\n",
      "Using Gaussian kernel for the features, Gaussian kernel for the outcomes.\n",
      "Block HSIC Lasso B = 49.\n",
      "M set to 1.\n",
      "Using Gaussian kernel for the features, Gaussian kernel for the outcomes.\n",
      "Block HSIC Lasso B = 49.\n",
      "M set to 1.\n",
      "Using Gaussian kernel for the features, Gaussian kernel for the outcomes.\n",
      "Block HSIC Lasso B = 49.\n",
      "M set to 1.\n",
      "Using Gaussian kernel for the features, Gaussian kernel for the outcomes.\n"
     ]
    },
    {
     "name": "stderr",
     "output_type": "stream",
     "text": [
      "Running hsic on riboflavin                                :  95%|█████████▌| 19/20 [02:01<00:06,  6.43s/it]"
     ]
    },
    {
     "name": "stdout",
     "output_type": "stream",
     "text": [
      "Block HSIC Lasso B = 49.\n",
      "M set to 1.\n",
      "Using Gaussian kernel for the features, Gaussian kernel for the outcomes.\n",
      "Block HSIC Lasso B = 49.\n",
      "M set to 1.\n",
      "Using Gaussian kernel for the features, Gaussian kernel for the outcomes.\n",
      "Block HSIC Lasso B = 49.\n",
      "M set to 1.\n",
      "Using Gaussian kernel for the features, Gaussian kernel for the outcomes.\n",
      "Block HSIC Lasso B = 49.\n",
      "M set to 1.\n",
      "Using Gaussian kernel for the features, Gaussian kernel for the outcomes.\n",
      "Block HSIC Lasso B = 49.\n",
      "M set to 1.\n",
      "Using Gaussian kernel for the features, Gaussian kernel for the outcomes.\n",
      "Block HSIC Lasso B = 49.\n",
      "M set to 1.\n",
      "Using Gaussian kernel for the features, Gaussian kernel for the outcomes.\n"
     ]
    },
    {
     "name": "stderr",
     "output_type": "stream",
     "text": [
      "Running hsic on riboflavin                                : 100%|██████████| 20/20 [02:07<00:00,  6.40s/it]\n",
      "Running rf on pac_dimerization                            : 100%|██████████| 20/20 [00:24<00:00,  1.22s/it]\n",
      "Running joplen_linear_gb_l21L2 on pac_dimerization        : 100%|██████████| 20/20 [02:06<00:00,  6.35s/it]\n",
      "Running lasso on pac_dimerization                         : 100%|██████████| 20/20 [00:01<00:00, 11.43it/s]\n",
      "Running gb on pac_dimerization                            : 100%|██████████| 20/20 [00:40<00:00,  2.02s/it]\n",
      "Running hsic on pac_dimerization                          :   0%|          | 0/20 [00:00<?, ?it/s]"
     ]
    },
    {
     "name": "stdout",
     "output_type": "stream",
     "text": [
      "Block HSIC Lasso B = 73.\n",
      "M set to 1.\n",
      "Using Gaussian kernel for the features, Gaussian kernel for the outcomes.\n",
      "Block HSIC Lasso B = 73.\n",
      "M set to 1.\n",
      "Using Gaussian kernel for the features, Gaussian kernel for the outcomes.\n",
      "Block HSIC Lasso B = 73.\n",
      "M set to 1.\n",
      "Using Gaussian kernel for the features, Gaussian kernel for the outcomes.\n",
      "Block HSIC Lasso B = 73.\n",
      "M set to 1.\n",
      "Using Gaussian kernel for the features, Gaussian kernel for the outcomes.\n",
      "Block HSIC Lasso B = 73.\n",
      "M set to 1.\n",
      "Using Gaussian kernel for the features, Gaussian kernel for the outcomes.\n",
      "Block HSIC Lasso B = 73.\n",
      "M set to 1.\n",
      "Using Gaussian kernel for the features, Gaussian kernel for the outcomes.\n"
     ]
    },
    {
     "name": "stderr",
     "output_type": "stream",
     "text": [
      "Running hsic on pac_dimerization                          :   5%|▌         | 1/20 [00:00<00:14,  1.34it/s]"
     ]
    },
    {
     "name": "stdout",
     "output_type": "stream",
     "text": [
      "Block HSIC Lasso B = 73.\n",
      "M set to 1.\n",
      "Using Gaussian kernel for the features, Gaussian kernel for the outcomes.\n",
      "Block HSIC Lasso B = 73.\n",
      "M set to 1.\n",
      "Using Gaussian kernel for the features, Gaussian kernel for the outcomes.\n",
      "Block HSIC Lasso B = 73.\n",
      "M set to 1.\n",
      "Using Gaussian kernel for the features, Gaussian kernel for the outcomes.\n",
      "Block HSIC Lasso B = 73.\n",
      "M set to 1.\n",
      "Using Gaussian kernel for the features, Gaussian kernel for the outcomes.\n",
      "Block HSIC Lasso B = 73.\n",
      "M set to 1.\n",
      "Using Gaussian kernel for the features, Gaussian kernel for the outcomes.\n",
      "Block HSIC Lasso B = 73.\n",
      "M set to 1.\n",
      "Using Gaussian kernel for the features, Gaussian kernel for the outcomes.\n"
     ]
    },
    {
     "name": "stderr",
     "output_type": "stream",
     "text": [
      "Running hsic on pac_dimerization                          :  10%|█         | 2/20 [00:01<00:17,  1.01it/s]"
     ]
    },
    {
     "name": "stdout",
     "output_type": "stream",
     "text": [
      "Block HSIC Lasso B = 73.\n",
      "M set to 1.\n",
      "Using Gaussian kernel for the features, Gaussian kernel for the outcomes.\n"
     ]
    },
    {
     "name": "stderr",
     "output_type": "stream",
     "text": [
      "/home/matt/code/school/joplen/code/joplen-tests/my_env311/lib/python3.11/site-packages/pyHSICLasso/nlars.py:77: RuntimeWarning: divide by zero encountered in divide\n",
      "  gamma1 = (C - c[I]) / (XtXw[A[0]] - XtXw[I])\n"
     ]
    },
    {
     "name": "stdout",
     "output_type": "stream",
     "text": [
      "Block HSIC Lasso B = 73.\n",
      "M set to 1.\n",
      "Using Gaussian kernel for the features, Gaussian kernel for the outcomes.\n"
     ]
    },
    {
     "name": "stderr",
     "output_type": "stream",
     "text": [
      "/home/matt/code/school/joplen/code/joplen-tests/my_env311/lib/python3.11/site-packages/pyHSICLasso/nlars.py:77: RuntimeWarning: divide by zero encountered in divide\n",
      "  gamma1 = (C - c[I]) / (XtXw[A[0]] - XtXw[I])\n"
     ]
    },
    {
     "name": "stdout",
     "output_type": "stream",
     "text": [
      "Block HSIC Lasso B = 73.\n",
      "M set to 1.\n",
      "Using Gaussian kernel for the features, Gaussian kernel for the outcomes.\n"
     ]
    },
    {
     "name": "stderr",
     "output_type": "stream",
     "text": [
      "/home/matt/code/school/joplen/code/joplen-tests/my_env311/lib/python3.11/site-packages/pyHSICLasso/nlars.py:77: RuntimeWarning: divide by zero encountered in divide\n",
      "  gamma1 = (C - c[I]) / (XtXw[A[0]] - XtXw[I])\n"
     ]
    },
    {
     "name": "stdout",
     "output_type": "stream",
     "text": [
      "Block HSIC Lasso B = 73.\n",
      "M set to 1.\n",
      "Using Gaussian kernel for the features, Gaussian kernel for the outcomes.\n"
     ]
    },
    {
     "name": "stderr",
     "output_type": "stream",
     "text": [
      "/home/matt/code/school/joplen/code/joplen-tests/my_env311/lib/python3.11/site-packages/pyHSICLasso/nlars.py:77: RuntimeWarning: divide by zero encountered in divide\n",
      "  gamma1 = (C - c[I]) / (XtXw[A[0]] - XtXw[I])\n"
     ]
    },
    {
     "name": "stdout",
     "output_type": "stream",
     "text": [
      "Block HSIC Lasso B = 73.\n",
      "M set to 1.\n",
      "Using Gaussian kernel for the features, Gaussian kernel for the outcomes.\n"
     ]
    },
    {
     "name": "stderr",
     "output_type": "stream",
     "text": [
      "/home/matt/code/school/joplen/code/joplen-tests/my_env311/lib/python3.11/site-packages/pyHSICLasso/nlars.py:77: RuntimeWarning: divide by zero encountered in divide\n",
      "  gamma1 = (C - c[I]) / (XtXw[A[0]] - XtXw[I])\n"
     ]
    },
    {
     "name": "stdout",
     "output_type": "stream",
     "text": [
      "Block HSIC Lasso B = 73.\n",
      "M set to 1.\n",
      "Using Gaussian kernel for the features, Gaussian kernel for the outcomes.\n"
     ]
    },
    {
     "name": "stderr",
     "output_type": "stream",
     "text": [
      "/home/matt/code/school/joplen/code/joplen-tests/my_env311/lib/python3.11/site-packages/pyHSICLasso/nlars.py:77: RuntimeWarning: divide by zero encountered in divide\n",
      "  gamma1 = (C - c[I]) / (XtXw[A[0]] - XtXw[I])\n",
      "Running hsic on pac_dimerization                          :  15%|█▌        | 3/20 [00:05<00:38,  2.24s/it]"
     ]
    },
    {
     "name": "stdout",
     "output_type": "stream",
     "text": [
      "Block HSIC Lasso B = 73.\n",
      "M set to 1.\n",
      "Using Gaussian kernel for the features, Gaussian kernel for the outcomes.\n"
     ]
    },
    {
     "name": "stderr",
     "output_type": "stream",
     "text": [
      "/home/matt/code/school/joplen/code/joplen-tests/my_env311/lib/python3.11/site-packages/pyHSICLasso/nlars.py:77: RuntimeWarning: divide by zero encountered in divide\n",
      "  gamma1 = (C - c[I]) / (XtXw[A[0]] - XtXw[I])\n"
     ]
    },
    {
     "name": "stdout",
     "output_type": "stream",
     "text": [
      "Block HSIC Lasso B = 73.\n",
      "M set to 1.\n",
      "Using Gaussian kernel for the features, Gaussian kernel for the outcomes.\n"
     ]
    },
    {
     "name": "stderr",
     "output_type": "stream",
     "text": [
      "/home/matt/code/school/joplen/code/joplen-tests/my_env311/lib/python3.11/site-packages/pyHSICLasso/nlars.py:77: RuntimeWarning: divide by zero encountered in divide\n",
      "  gamma1 = (C - c[I]) / (XtXw[A[0]] - XtXw[I])\n"
     ]
    },
    {
     "name": "stdout",
     "output_type": "stream",
     "text": [
      "Block HSIC Lasso B = 73.\n",
      "M set to 1.\n",
      "Using Gaussian kernel for the features, Gaussian kernel for the outcomes.\n"
     ]
    },
    {
     "name": "stderr",
     "output_type": "stream",
     "text": [
      "/home/matt/code/school/joplen/code/joplen-tests/my_env311/lib/python3.11/site-packages/pyHSICLasso/nlars.py:77: RuntimeWarning: divide by zero encountered in divide\n",
      "  gamma1 = (C - c[I]) / (XtXw[A[0]] - XtXw[I])\n"
     ]
    },
    {
     "name": "stdout",
     "output_type": "stream",
     "text": [
      "Block HSIC Lasso B = 73.\n",
      "M set to 1.\n",
      "Using Gaussian kernel for the features, Gaussian kernel for the outcomes.\n"
     ]
    },
    {
     "name": "stderr",
     "output_type": "stream",
     "text": [
      "/home/matt/code/school/joplen/code/joplen-tests/my_env311/lib/python3.11/site-packages/pyHSICLasso/nlars.py:77: RuntimeWarning: divide by zero encountered in divide\n",
      "  gamma1 = (C - c[I]) / (XtXw[A[0]] - XtXw[I])\n"
     ]
    },
    {
     "name": "stdout",
     "output_type": "stream",
     "text": [
      "Block HSIC Lasso B = 73.\n",
      "M set to 1.\n",
      "Using Gaussian kernel for the features, Gaussian kernel for the outcomes.\n"
     ]
    },
    {
     "name": "stderr",
     "output_type": "stream",
     "text": [
      "/home/matt/code/school/joplen/code/joplen-tests/my_env311/lib/python3.11/site-packages/pyHSICLasso/nlars.py:77: RuntimeWarning: divide by zero encountered in divide\n",
      "  gamma1 = (C - c[I]) / (XtXw[A[0]] - XtXw[I])\n"
     ]
    },
    {
     "name": "stdout",
     "output_type": "stream",
     "text": [
      "Block HSIC Lasso B = 73.\n",
      "M set to 1.\n",
      "Using Gaussian kernel for the features, Gaussian kernel for the outcomes.\n"
     ]
    },
    {
     "name": "stderr",
     "output_type": "stream",
     "text": [
      "/home/matt/code/school/joplen/code/joplen-tests/my_env311/lib/python3.11/site-packages/pyHSICLasso/nlars.py:77: RuntimeWarning: divide by zero encountered in divide\n",
      "  gamma1 = (C - c[I]) / (XtXw[A[0]] - XtXw[I])\n",
      "Running hsic on pac_dimerization                          :  20%|██        | 4/20 [00:09<00:45,  2.85s/it]"
     ]
    },
    {
     "name": "stdout",
     "output_type": "stream",
     "text": [
      "Block HSIC Lasso B = 73.\n",
      "M set to 1.\n",
      "Using Gaussian kernel for the features, Gaussian kernel for the outcomes.\n"
     ]
    },
    {
     "name": "stderr",
     "output_type": "stream",
     "text": [
      "/home/matt/code/school/joplen/code/joplen-tests/my_env311/lib/python3.11/site-packages/pyHSICLasso/nlars.py:77: RuntimeWarning: divide by zero encountered in divide\n",
      "  gamma1 = (C - c[I]) / (XtXw[A[0]] - XtXw[I])\n"
     ]
    },
    {
     "name": "stdout",
     "output_type": "stream",
     "text": [
      "Block HSIC Lasso B = 73.\n",
      "M set to 1.\n",
      "Using Gaussian kernel for the features, Gaussian kernel for the outcomes.\n"
     ]
    },
    {
     "name": "stderr",
     "output_type": "stream",
     "text": [
      "/home/matt/code/school/joplen/code/joplen-tests/my_env311/lib/python3.11/site-packages/pyHSICLasso/nlars.py:77: RuntimeWarning: divide by zero encountered in divide\n",
      "  gamma1 = (C - c[I]) / (XtXw[A[0]] - XtXw[I])\n"
     ]
    },
    {
     "name": "stdout",
     "output_type": "stream",
     "text": [
      "Block HSIC Lasso B = 73.\n",
      "M set to 1.\n",
      "Using Gaussian kernel for the features, Gaussian kernel for the outcomes.\n"
     ]
    },
    {
     "name": "stderr",
     "output_type": "stream",
     "text": [
      "/home/matt/code/school/joplen/code/joplen-tests/my_env311/lib/python3.11/site-packages/pyHSICLasso/nlars.py:77: RuntimeWarning: divide by zero encountered in divide\n",
      "  gamma1 = (C - c[I]) / (XtXw[A[0]] - XtXw[I])\n"
     ]
    },
    {
     "name": "stdout",
     "output_type": "stream",
     "text": [
      "Block HSIC Lasso B = 73.\n",
      "M set to 1.\n",
      "Using Gaussian kernel for the features, Gaussian kernel for the outcomes.\n"
     ]
    },
    {
     "name": "stderr",
     "output_type": "stream",
     "text": [
      "/home/matt/code/school/joplen/code/joplen-tests/my_env311/lib/python3.11/site-packages/pyHSICLasso/nlars.py:77: RuntimeWarning: divide by zero encountered in divide\n",
      "  gamma1 = (C - c[I]) / (XtXw[A[0]] - XtXw[I])\n"
     ]
    },
    {
     "name": "stdout",
     "output_type": "stream",
     "text": [
      "Block HSIC Lasso B = 73.\n",
      "M set to 1.\n",
      "Using Gaussian kernel for the features, Gaussian kernel for the outcomes.\n"
     ]
    },
    {
     "name": "stderr",
     "output_type": "stream",
     "text": [
      "/home/matt/code/school/joplen/code/joplen-tests/my_env311/lib/python3.11/site-packages/pyHSICLasso/nlars.py:77: RuntimeWarning: divide by zero encountered in divide\n",
      "  gamma1 = (C - c[I]) / (XtXw[A[0]] - XtXw[I])\n"
     ]
    },
    {
     "name": "stdout",
     "output_type": "stream",
     "text": [
      "Block HSIC Lasso B = 73.\n",
      "M set to 1.\n",
      "Using Gaussian kernel for the features, Gaussian kernel for the outcomes.\n"
     ]
    },
    {
     "name": "stderr",
     "output_type": "stream",
     "text": [
      "/home/matt/code/school/joplen/code/joplen-tests/my_env311/lib/python3.11/site-packages/pyHSICLasso/nlars.py:77: RuntimeWarning: divide by zero encountered in divide\n",
      "  gamma1 = (C - c[I]) / (XtXw[A[0]] - XtXw[I])\n",
      "Running hsic on pac_dimerization                          :  25%|██▌       | 5/20 [00:13<00:48,  3.24s/it]"
     ]
    },
    {
     "name": "stdout",
     "output_type": "stream",
     "text": [
      "Block HSIC Lasso B = 73.\n",
      "M set to 1.\n",
      "Using Gaussian kernel for the features, Gaussian kernel for the outcomes.\n"
     ]
    },
    {
     "name": "stderr",
     "output_type": "stream",
     "text": [
      "/home/matt/code/school/joplen/code/joplen-tests/my_env311/lib/python3.11/site-packages/pyHSICLasso/nlars.py:77: RuntimeWarning: divide by zero encountered in divide\n",
      "  gamma1 = (C - c[I]) / (XtXw[A[0]] - XtXw[I])\n"
     ]
    },
    {
     "name": "stdout",
     "output_type": "stream",
     "text": [
      "Block HSIC Lasso B = 73.\n",
      "M set to 1.\n",
      "Using Gaussian kernel for the features, Gaussian kernel for the outcomes.\n"
     ]
    },
    {
     "name": "stderr",
     "output_type": "stream",
     "text": [
      "/home/matt/code/school/joplen/code/joplen-tests/my_env311/lib/python3.11/site-packages/pyHSICLasso/nlars.py:77: RuntimeWarning: divide by zero encountered in divide\n",
      "  gamma1 = (C - c[I]) / (XtXw[A[0]] - XtXw[I])\n"
     ]
    },
    {
     "name": "stdout",
     "output_type": "stream",
     "text": [
      "Block HSIC Lasso B = 73.\n",
      "M set to 1.\n",
      "Using Gaussian kernel for the features, Gaussian kernel for the outcomes.\n"
     ]
    },
    {
     "name": "stderr",
     "output_type": "stream",
     "text": [
      "/home/matt/code/school/joplen/code/joplen-tests/my_env311/lib/python3.11/site-packages/pyHSICLasso/nlars.py:77: RuntimeWarning: divide by zero encountered in divide\n",
      "  gamma1 = (C - c[I]) / (XtXw[A[0]] - XtXw[I])\n"
     ]
    },
    {
     "name": "stdout",
     "output_type": "stream",
     "text": [
      "Block HSIC Lasso B = 73.\n",
      "M set to 1.\n",
      "Using Gaussian kernel for the features, Gaussian kernel for the outcomes.\n"
     ]
    },
    {
     "name": "stderr",
     "output_type": "stream",
     "text": [
      "/home/matt/code/school/joplen/code/joplen-tests/my_env311/lib/python3.11/site-packages/pyHSICLasso/nlars.py:77: RuntimeWarning: divide by zero encountered in divide\n",
      "  gamma1 = (C - c[I]) / (XtXw[A[0]] - XtXw[I])\n"
     ]
    },
    {
     "name": "stdout",
     "output_type": "stream",
     "text": [
      "Block HSIC Lasso B = 73.\n",
      "M set to 1.\n",
      "Using Gaussian kernel for the features, Gaussian kernel for the outcomes.\n"
     ]
    },
    {
     "name": "stderr",
     "output_type": "stream",
     "text": [
      "/home/matt/code/school/joplen/code/joplen-tests/my_env311/lib/python3.11/site-packages/pyHSICLasso/nlars.py:77: RuntimeWarning: divide by zero encountered in divide\n",
      "  gamma1 = (C - c[I]) / (XtXw[A[0]] - XtXw[I])\n"
     ]
    },
    {
     "name": "stdout",
     "output_type": "stream",
     "text": [
      "Block HSIC Lasso B = 73.\n",
      "M set to 1.\n",
      "Using Gaussian kernel for the features, Gaussian kernel for the outcomes.\n"
     ]
    },
    {
     "name": "stderr",
     "output_type": "stream",
     "text": [
      "/home/matt/code/school/joplen/code/joplen-tests/my_env311/lib/python3.11/site-packages/pyHSICLasso/nlars.py:77: RuntimeWarning: divide by zero encountered in divide\n",
      "  gamma1 = (C - c[I]) / (XtXw[A[0]] - XtXw[I])\n",
      "Running hsic on pac_dimerization                          :  30%|███       | 6/20 [00:17<00:47,  3.38s/it]"
     ]
    },
    {
     "name": "stdout",
     "output_type": "stream",
     "text": [
      "Block HSIC Lasso B = 73.\n",
      "M set to 1.\n",
      "Using Gaussian kernel for the features, Gaussian kernel for the outcomes.\n"
     ]
    },
    {
     "name": "stderr",
     "output_type": "stream",
     "text": [
      "/home/matt/code/school/joplen/code/joplen-tests/my_env311/lib/python3.11/site-packages/pyHSICLasso/nlars.py:77: RuntimeWarning: divide by zero encountered in divide\n",
      "  gamma1 = (C - c[I]) / (XtXw[A[0]] - XtXw[I])\n"
     ]
    },
    {
     "name": "stdout",
     "output_type": "stream",
     "text": [
      "Block HSIC Lasso B = 73.\n",
      "M set to 1.\n",
      "Using Gaussian kernel for the features, Gaussian kernel for the outcomes.\n"
     ]
    },
    {
     "name": "stderr",
     "output_type": "stream",
     "text": [
      "/home/matt/code/school/joplen/code/joplen-tests/my_env311/lib/python3.11/site-packages/pyHSICLasso/nlars.py:77: RuntimeWarning: divide by zero encountered in divide\n",
      "  gamma1 = (C - c[I]) / (XtXw[A[0]] - XtXw[I])\n"
     ]
    },
    {
     "name": "stdout",
     "output_type": "stream",
     "text": [
      "Block HSIC Lasso B = 73.\n",
      "M set to 1.\n",
      "Using Gaussian kernel for the features, Gaussian kernel for the outcomes.\n"
     ]
    },
    {
     "name": "stderr",
     "output_type": "stream",
     "text": [
      "/home/matt/code/school/joplen/code/joplen-tests/my_env311/lib/python3.11/site-packages/pyHSICLasso/nlars.py:77: RuntimeWarning: divide by zero encountered in divide\n",
      "  gamma1 = (C - c[I]) / (XtXw[A[0]] - XtXw[I])\n"
     ]
    },
    {
     "name": "stdout",
     "output_type": "stream",
     "text": [
      "Block HSIC Lasso B = 73.\n",
      "M set to 1.\n",
      "Using Gaussian kernel for the features, Gaussian kernel for the outcomes.\n"
     ]
    },
    {
     "name": "stderr",
     "output_type": "stream",
     "text": [
      "/home/matt/code/school/joplen/code/joplen-tests/my_env311/lib/python3.11/site-packages/pyHSICLasso/nlars.py:77: RuntimeWarning: divide by zero encountered in divide\n",
      "  gamma1 = (C - c[I]) / (XtXw[A[0]] - XtXw[I])\n"
     ]
    },
    {
     "name": "stdout",
     "output_type": "stream",
     "text": [
      "Block HSIC Lasso B = 73.\n",
      "M set to 1.\n",
      "Using Gaussian kernel for the features, Gaussian kernel for the outcomes.\n"
     ]
    },
    {
     "name": "stderr",
     "output_type": "stream",
     "text": [
      "/home/matt/code/school/joplen/code/joplen-tests/my_env311/lib/python3.11/site-packages/pyHSICLasso/nlars.py:77: RuntimeWarning: divide by zero encountered in divide\n",
      "  gamma1 = (C - c[I]) / (XtXw[A[0]] - XtXw[I])\n"
     ]
    },
    {
     "name": "stdout",
     "output_type": "stream",
     "text": [
      "Block HSIC Lasso B = 73.\n",
      "M set to 1.\n",
      "Using Gaussian kernel for the features, Gaussian kernel for the outcomes.\n"
     ]
    },
    {
     "name": "stderr",
     "output_type": "stream",
     "text": [
      "/home/matt/code/school/joplen/code/joplen-tests/my_env311/lib/python3.11/site-packages/pyHSICLasso/nlars.py:77: RuntimeWarning: divide by zero encountered in divide\n",
      "  gamma1 = (C - c[I]) / (XtXw[A[0]] - XtXw[I])\n",
      "Running hsic on pac_dimerization                          :  35%|███▌      | 7/20 [00:20<00:44,  3.42s/it]"
     ]
    },
    {
     "name": "stdout",
     "output_type": "stream",
     "text": [
      "Block HSIC Lasso B = 73.\n",
      "M set to 1.\n",
      "Using Gaussian kernel for the features, Gaussian kernel for the outcomes.\n"
     ]
    },
    {
     "name": "stderr",
     "output_type": "stream",
     "text": [
      "/home/matt/code/school/joplen/code/joplen-tests/my_env311/lib/python3.11/site-packages/pyHSICLasso/nlars.py:77: RuntimeWarning: divide by zero encountered in divide\n",
      "  gamma1 = (C - c[I]) / (XtXw[A[0]] - XtXw[I])\n"
     ]
    },
    {
     "name": "stdout",
     "output_type": "stream",
     "text": [
      "Block HSIC Lasso B = 73.\n",
      "M set to 1.\n",
      "Using Gaussian kernel for the features, Gaussian kernel for the outcomes.\n"
     ]
    },
    {
     "name": "stderr",
     "output_type": "stream",
     "text": [
      "/home/matt/code/school/joplen/code/joplen-tests/my_env311/lib/python3.11/site-packages/pyHSICLasso/nlars.py:77: RuntimeWarning: divide by zero encountered in divide\n",
      "  gamma1 = (C - c[I]) / (XtXw[A[0]] - XtXw[I])\n"
     ]
    },
    {
     "name": "stdout",
     "output_type": "stream",
     "text": [
      "Block HSIC Lasso B = 73.\n",
      "M set to 1.\n",
      "Using Gaussian kernel for the features, Gaussian kernel for the outcomes.\n"
     ]
    },
    {
     "name": "stderr",
     "output_type": "stream",
     "text": [
      "/home/matt/code/school/joplen/code/joplen-tests/my_env311/lib/python3.11/site-packages/pyHSICLasso/nlars.py:77: RuntimeWarning: divide by zero encountered in divide\n",
      "  gamma1 = (C - c[I]) / (XtXw[A[0]] - XtXw[I])\n"
     ]
    },
    {
     "name": "stdout",
     "output_type": "stream",
     "text": [
      "Block HSIC Lasso B = 73.\n",
      "M set to 1.\n",
      "Using Gaussian kernel for the features, Gaussian kernel for the outcomes.\n"
     ]
    },
    {
     "name": "stderr",
     "output_type": "stream",
     "text": [
      "/home/matt/code/school/joplen/code/joplen-tests/my_env311/lib/python3.11/site-packages/pyHSICLasso/nlars.py:77: RuntimeWarning: divide by zero encountered in divide\n",
      "  gamma1 = (C - c[I]) / (XtXw[A[0]] - XtXw[I])\n"
     ]
    },
    {
     "name": "stdout",
     "output_type": "stream",
     "text": [
      "Block HSIC Lasso B = 73.\n",
      "M set to 1.\n",
      "Using Gaussian kernel for the features, Gaussian kernel for the outcomes.\n"
     ]
    },
    {
     "name": "stderr",
     "output_type": "stream",
     "text": [
      "/home/matt/code/school/joplen/code/joplen-tests/my_env311/lib/python3.11/site-packages/pyHSICLasso/nlars.py:77: RuntimeWarning: divide by zero encountered in divide\n",
      "  gamma1 = (C - c[I]) / (XtXw[A[0]] - XtXw[I])\n"
     ]
    },
    {
     "name": "stdout",
     "output_type": "stream",
     "text": [
      "Block HSIC Lasso B = 73.\n",
      "M set to 1.\n",
      "Using Gaussian kernel for the features, Gaussian kernel for the outcomes.\n"
     ]
    },
    {
     "name": "stderr",
     "output_type": "stream",
     "text": [
      "/home/matt/code/school/joplen/code/joplen-tests/my_env311/lib/python3.11/site-packages/pyHSICLasso/nlars.py:77: RuntimeWarning: divide by zero encountered in divide\n",
      "  gamma1 = (C - c[I]) / (XtXw[A[0]] - XtXw[I])\n",
      "Running hsic on pac_dimerization                          :  40%|████      | 8/20 [00:24<00:42,  3.56s/it]"
     ]
    },
    {
     "name": "stdout",
     "output_type": "stream",
     "text": [
      "Block HSIC Lasso B = 73.\n",
      "M set to 1.\n",
      "Using Gaussian kernel for the features, Gaussian kernel for the outcomes.\n"
     ]
    },
    {
     "name": "stderr",
     "output_type": "stream",
     "text": [
      "/home/matt/code/school/joplen/code/joplen-tests/my_env311/lib/python3.11/site-packages/pyHSICLasso/nlars.py:77: RuntimeWarning: divide by zero encountered in divide\n",
      "  gamma1 = (C - c[I]) / (XtXw[A[0]] - XtXw[I])\n"
     ]
    },
    {
     "name": "stdout",
     "output_type": "stream",
     "text": [
      "Block HSIC Lasso B = 73.\n",
      "M set to 1.\n",
      "Using Gaussian kernel for the features, Gaussian kernel for the outcomes.\n"
     ]
    },
    {
     "name": "stderr",
     "output_type": "stream",
     "text": [
      "/home/matt/code/school/joplen/code/joplen-tests/my_env311/lib/python3.11/site-packages/pyHSICLasso/nlars.py:77: RuntimeWarning: divide by zero encountered in divide\n",
      "  gamma1 = (C - c[I]) / (XtXw[A[0]] - XtXw[I])\n"
     ]
    },
    {
     "name": "stdout",
     "output_type": "stream",
     "text": [
      "Block HSIC Lasso B = 73.\n",
      "M set to 1.\n",
      "Using Gaussian kernel for the features, Gaussian kernel for the outcomes.\n"
     ]
    },
    {
     "name": "stderr",
     "output_type": "stream",
     "text": [
      "/home/matt/code/school/joplen/code/joplen-tests/my_env311/lib/python3.11/site-packages/pyHSICLasso/nlars.py:77: RuntimeWarning: divide by zero encountered in divide\n",
      "  gamma1 = (C - c[I]) / (XtXw[A[0]] - XtXw[I])\n"
     ]
    },
    {
     "name": "stdout",
     "output_type": "stream",
     "text": [
      "Block HSIC Lasso B = 73.\n",
      "M set to 1.\n",
      "Using Gaussian kernel for the features, Gaussian kernel for the outcomes.\n"
     ]
    },
    {
     "name": "stderr",
     "output_type": "stream",
     "text": [
      "/home/matt/code/school/joplen/code/joplen-tests/my_env311/lib/python3.11/site-packages/pyHSICLasso/nlars.py:77: RuntimeWarning: divide by zero encountered in divide\n",
      "  gamma1 = (C - c[I]) / (XtXw[A[0]] - XtXw[I])\n"
     ]
    },
    {
     "name": "stdout",
     "output_type": "stream",
     "text": [
      "Block HSIC Lasso B = 73.\n",
      "M set to 1.\n",
      "Using Gaussian kernel for the features, Gaussian kernel for the outcomes.\n"
     ]
    },
    {
     "name": "stderr",
     "output_type": "stream",
     "text": [
      "/home/matt/code/school/joplen/code/joplen-tests/my_env311/lib/python3.11/site-packages/pyHSICLasso/nlars.py:77: RuntimeWarning: divide by zero encountered in divide\n",
      "  gamma1 = (C - c[I]) / (XtXw[A[0]] - XtXw[I])\n"
     ]
    },
    {
     "name": "stdout",
     "output_type": "stream",
     "text": [
      "Block HSIC Lasso B = 73.\n",
      "M set to 1.\n",
      "Using Gaussian kernel for the features, Gaussian kernel for the outcomes.\n"
     ]
    },
    {
     "name": "stderr",
     "output_type": "stream",
     "text": [
      "/home/matt/code/school/joplen/code/joplen-tests/my_env311/lib/python3.11/site-packages/pyHSICLasso/nlars.py:77: RuntimeWarning: divide by zero encountered in divide\n",
      "  gamma1 = (C - c[I]) / (XtXw[A[0]] - XtXw[I])\n",
      "Running hsic on pac_dimerization                          :  45%|████▌     | 9/20 [00:28<00:40,  3.72s/it]"
     ]
    },
    {
     "name": "stdout",
     "output_type": "stream",
     "text": [
      "Block HSIC Lasso B = 73.\n",
      "M set to 1.\n",
      "Using Gaussian kernel for the features, Gaussian kernel for the outcomes.\n"
     ]
    },
    {
     "name": "stderr",
     "output_type": "stream",
     "text": [
      "/home/matt/code/school/joplen/code/joplen-tests/my_env311/lib/python3.11/site-packages/pyHSICLasso/nlars.py:77: RuntimeWarning: divide by zero encountered in divide\n",
      "  gamma1 = (C - c[I]) / (XtXw[A[0]] - XtXw[I])\n"
     ]
    },
    {
     "name": "stdout",
     "output_type": "stream",
     "text": [
      "Block HSIC Lasso B = 73.\n",
      "M set to 1.\n",
      "Using Gaussian kernel for the features, Gaussian kernel for the outcomes.\n"
     ]
    },
    {
     "name": "stderr",
     "output_type": "stream",
     "text": [
      "/home/matt/code/school/joplen/code/joplen-tests/my_env311/lib/python3.11/site-packages/pyHSICLasso/nlars.py:77: RuntimeWarning: divide by zero encountered in divide\n",
      "  gamma1 = (C - c[I]) / (XtXw[A[0]] - XtXw[I])\n"
     ]
    },
    {
     "name": "stdout",
     "output_type": "stream",
     "text": [
      "Block HSIC Lasso B = 73.\n",
      "M set to 1.\n",
      "Using Gaussian kernel for the features, Gaussian kernel for the outcomes.\n"
     ]
    },
    {
     "name": "stderr",
     "output_type": "stream",
     "text": [
      "/home/matt/code/school/joplen/code/joplen-tests/my_env311/lib/python3.11/site-packages/pyHSICLasso/nlars.py:77: RuntimeWarning: divide by zero encountered in divide\n",
      "  gamma1 = (C - c[I]) / (XtXw[A[0]] - XtXw[I])\n"
     ]
    },
    {
     "name": "stdout",
     "output_type": "stream",
     "text": [
      "Block HSIC Lasso B = 73.\n",
      "M set to 1.\n",
      "Using Gaussian kernel for the features, Gaussian kernel for the outcomes.\n"
     ]
    },
    {
     "name": "stderr",
     "output_type": "stream",
     "text": [
      "/home/matt/code/school/joplen/code/joplen-tests/my_env311/lib/python3.11/site-packages/pyHSICLasso/nlars.py:77: RuntimeWarning: divide by zero encountered in divide\n",
      "  gamma1 = (C - c[I]) / (XtXw[A[0]] - XtXw[I])\n"
     ]
    },
    {
     "name": "stdout",
     "output_type": "stream",
     "text": [
      "Block HSIC Lasso B = 73.\n",
      "M set to 1.\n",
      "Using Gaussian kernel for the features, Gaussian kernel for the outcomes.\n"
     ]
    },
    {
     "name": "stderr",
     "output_type": "stream",
     "text": [
      "/home/matt/code/school/joplen/code/joplen-tests/my_env311/lib/python3.11/site-packages/pyHSICLasso/nlars.py:77: RuntimeWarning: divide by zero encountered in divide\n",
      "  gamma1 = (C - c[I]) / (XtXw[A[0]] - XtXw[I])\n"
     ]
    },
    {
     "name": "stdout",
     "output_type": "stream",
     "text": [
      "Block HSIC Lasso B = 73.\n",
      "M set to 1.\n",
      "Using Gaussian kernel for the features, Gaussian kernel for the outcomes.\n"
     ]
    },
    {
     "name": "stderr",
     "output_type": "stream",
     "text": [
      "/home/matt/code/school/joplen/code/joplen-tests/my_env311/lib/python3.11/site-packages/pyHSICLasso/nlars.py:77: RuntimeWarning: divide by zero encountered in divide\n",
      "  gamma1 = (C - c[I]) / (XtXw[A[0]] - XtXw[I])\n",
      "Running hsic on pac_dimerization                          :  50%|█████     | 10/20 [00:32<00:37,  3.76s/it]"
     ]
    },
    {
     "name": "stdout",
     "output_type": "stream",
     "text": [
      "Block HSIC Lasso B = 73.\n",
      "M set to 1.\n",
      "Using Gaussian kernel for the features, Gaussian kernel for the outcomes.\n"
     ]
    },
    {
     "name": "stderr",
     "output_type": "stream",
     "text": [
      "/home/matt/code/school/joplen/code/joplen-tests/my_env311/lib/python3.11/site-packages/pyHSICLasso/nlars.py:77: RuntimeWarning: divide by zero encountered in divide\n",
      "  gamma1 = (C - c[I]) / (XtXw[A[0]] - XtXw[I])\n"
     ]
    },
    {
     "name": "stdout",
     "output_type": "stream",
     "text": [
      "Block HSIC Lasso B = 73.\n",
      "M set to 1.\n",
      "Using Gaussian kernel for the features, Gaussian kernel for the outcomes.\n"
     ]
    },
    {
     "name": "stderr",
     "output_type": "stream",
     "text": [
      "/home/matt/code/school/joplen/code/joplen-tests/my_env311/lib/python3.11/site-packages/pyHSICLasso/nlars.py:77: RuntimeWarning: divide by zero encountered in divide\n",
      "  gamma1 = (C - c[I]) / (XtXw[A[0]] - XtXw[I])\n"
     ]
    },
    {
     "name": "stdout",
     "output_type": "stream",
     "text": [
      "Block HSIC Lasso B = 73.\n",
      "M set to 1.\n",
      "Using Gaussian kernel for the features, Gaussian kernel for the outcomes.\n"
     ]
    },
    {
     "name": "stderr",
     "output_type": "stream",
     "text": [
      "/home/matt/code/school/joplen/code/joplen-tests/my_env311/lib/python3.11/site-packages/pyHSICLasso/nlars.py:77: RuntimeWarning: divide by zero encountered in divide\n",
      "  gamma1 = (C - c[I]) / (XtXw[A[0]] - XtXw[I])\n"
     ]
    },
    {
     "name": "stdout",
     "output_type": "stream",
     "text": [
      "Block HSIC Lasso B = 73.\n",
      "M set to 1.\n",
      "Using Gaussian kernel for the features, Gaussian kernel for the outcomes.\n"
     ]
    },
    {
     "name": "stderr",
     "output_type": "stream",
     "text": [
      "/home/matt/code/school/joplen/code/joplen-tests/my_env311/lib/python3.11/site-packages/pyHSICLasso/nlars.py:77: RuntimeWarning: divide by zero encountered in divide\n",
      "  gamma1 = (C - c[I]) / (XtXw[A[0]] - XtXw[I])\n"
     ]
    },
    {
     "name": "stdout",
     "output_type": "stream",
     "text": [
      "Block HSIC Lasso B = 73.\n",
      "M set to 1.\n",
      "Using Gaussian kernel for the features, Gaussian kernel for the outcomes.\n"
     ]
    },
    {
     "name": "stderr",
     "output_type": "stream",
     "text": [
      "/home/matt/code/school/joplen/code/joplen-tests/my_env311/lib/python3.11/site-packages/pyHSICLasso/nlars.py:77: RuntimeWarning: divide by zero encountered in divide\n",
      "  gamma1 = (C - c[I]) / (XtXw[A[0]] - XtXw[I])\n"
     ]
    },
    {
     "name": "stdout",
     "output_type": "stream",
     "text": [
      "Block HSIC Lasso B = 73.\n",
      "M set to 1.\n",
      "Using Gaussian kernel for the features, Gaussian kernel for the outcomes.\n"
     ]
    },
    {
     "name": "stderr",
     "output_type": "stream",
     "text": [
      "/home/matt/code/school/joplen/code/joplen-tests/my_env311/lib/python3.11/site-packages/pyHSICLasso/nlars.py:77: RuntimeWarning: divide by zero encountered in divide\n",
      "  gamma1 = (C - c[I]) / (XtXw[A[0]] - XtXw[I])\n",
      "Running hsic on pac_dimerization                          :  55%|█████▌    | 11/20 [00:36<00:34,  3.84s/it]"
     ]
    },
    {
     "name": "stdout",
     "output_type": "stream",
     "text": [
      "Block HSIC Lasso B = 73.\n",
      "M set to 1.\n",
      "Using Gaussian kernel for the features, Gaussian kernel for the outcomes.\n"
     ]
    },
    {
     "name": "stderr",
     "output_type": "stream",
     "text": [
      "/home/matt/code/school/joplen/code/joplen-tests/my_env311/lib/python3.11/site-packages/pyHSICLasso/nlars.py:77: RuntimeWarning: divide by zero encountered in divide\n",
      "  gamma1 = (C - c[I]) / (XtXw[A[0]] - XtXw[I])\n"
     ]
    },
    {
     "name": "stdout",
     "output_type": "stream",
     "text": [
      "Block HSIC Lasso B = 73.\n",
      "M set to 1.\n",
      "Using Gaussian kernel for the features, Gaussian kernel for the outcomes.\n"
     ]
    },
    {
     "name": "stderr",
     "output_type": "stream",
     "text": [
      "/home/matt/code/school/joplen/code/joplen-tests/my_env311/lib/python3.11/site-packages/pyHSICLasso/nlars.py:77: RuntimeWarning: divide by zero encountered in divide\n",
      "  gamma1 = (C - c[I]) / (XtXw[A[0]] - XtXw[I])\n"
     ]
    },
    {
     "name": "stdout",
     "output_type": "stream",
     "text": [
      "Block HSIC Lasso B = 73.\n",
      "M set to 1.\n",
      "Using Gaussian kernel for the features, Gaussian kernel for the outcomes.\n"
     ]
    },
    {
     "name": "stderr",
     "output_type": "stream",
     "text": [
      "/home/matt/code/school/joplen/code/joplen-tests/my_env311/lib/python3.11/site-packages/pyHSICLasso/nlars.py:77: RuntimeWarning: divide by zero encountered in divide\n",
      "  gamma1 = (C - c[I]) / (XtXw[A[0]] - XtXw[I])\n"
     ]
    },
    {
     "name": "stdout",
     "output_type": "stream",
     "text": [
      "Block HSIC Lasso B = 73.\n",
      "M set to 1.\n",
      "Using Gaussian kernel for the features, Gaussian kernel for the outcomes.\n"
     ]
    },
    {
     "name": "stderr",
     "output_type": "stream",
     "text": [
      "/home/matt/code/school/joplen/code/joplen-tests/my_env311/lib/python3.11/site-packages/pyHSICLasso/nlars.py:77: RuntimeWarning: divide by zero encountered in divide\n",
      "  gamma1 = (C - c[I]) / (XtXw[A[0]] - XtXw[I])\n"
     ]
    },
    {
     "name": "stdout",
     "output_type": "stream",
     "text": [
      "Block HSIC Lasso B = 73.\n",
      "M set to 1.\n",
      "Using Gaussian kernel for the features, Gaussian kernel for the outcomes.\n"
     ]
    },
    {
     "name": "stderr",
     "output_type": "stream",
     "text": [
      "/home/matt/code/school/joplen/code/joplen-tests/my_env311/lib/python3.11/site-packages/pyHSICLasso/nlars.py:77: RuntimeWarning: divide by zero encountered in divide\n",
      "  gamma1 = (C - c[I]) / (XtXw[A[0]] - XtXw[I])\n"
     ]
    },
    {
     "name": "stdout",
     "output_type": "stream",
     "text": [
      "Block HSIC Lasso B = 73.\n",
      "M set to 1.\n",
      "Using Gaussian kernel for the features, Gaussian kernel for the outcomes.\n"
     ]
    },
    {
     "name": "stderr",
     "output_type": "stream",
     "text": [
      "/home/matt/code/school/joplen/code/joplen-tests/my_env311/lib/python3.11/site-packages/pyHSICLasso/nlars.py:77: RuntimeWarning: divide by zero encountered in divide\n",
      "  gamma1 = (C - c[I]) / (XtXw[A[0]] - XtXw[I])\n",
      "Running hsic on pac_dimerization                          :  60%|██████    | 12/20 [00:40<00:30,  3.87s/it]"
     ]
    },
    {
     "name": "stdout",
     "output_type": "stream",
     "text": [
      "Block HSIC Lasso B = 73.\n",
      "M set to 1.\n",
      "Using Gaussian kernel for the features, Gaussian kernel for the outcomes.\n"
     ]
    },
    {
     "name": "stderr",
     "output_type": "stream",
     "text": [
      "/home/matt/code/school/joplen/code/joplen-tests/my_env311/lib/python3.11/site-packages/pyHSICLasso/nlars.py:77: RuntimeWarning: divide by zero encountered in divide\n",
      "  gamma1 = (C - c[I]) / (XtXw[A[0]] - XtXw[I])\n"
     ]
    },
    {
     "name": "stdout",
     "output_type": "stream",
     "text": [
      "Block HSIC Lasso B = 73.\n",
      "M set to 1.\n",
      "Using Gaussian kernel for the features, Gaussian kernel for the outcomes.\n"
     ]
    },
    {
     "name": "stderr",
     "output_type": "stream",
     "text": [
      "/home/matt/code/school/joplen/code/joplen-tests/my_env311/lib/python3.11/site-packages/pyHSICLasso/nlars.py:77: RuntimeWarning: divide by zero encountered in divide\n",
      "  gamma1 = (C - c[I]) / (XtXw[A[0]] - XtXw[I])\n"
     ]
    },
    {
     "name": "stdout",
     "output_type": "stream",
     "text": [
      "Block HSIC Lasso B = 73.\n",
      "M set to 1.\n",
      "Using Gaussian kernel for the features, Gaussian kernel for the outcomes.\n"
     ]
    },
    {
     "name": "stderr",
     "output_type": "stream",
     "text": [
      "/home/matt/code/school/joplen/code/joplen-tests/my_env311/lib/python3.11/site-packages/pyHSICLasso/nlars.py:77: RuntimeWarning: divide by zero encountered in divide\n",
      "  gamma1 = (C - c[I]) / (XtXw[A[0]] - XtXw[I])\n"
     ]
    },
    {
     "name": "stdout",
     "output_type": "stream",
     "text": [
      "Block HSIC Lasso B = 73.\n",
      "M set to 1.\n",
      "Using Gaussian kernel for the features, Gaussian kernel for the outcomes.\n"
     ]
    },
    {
     "name": "stderr",
     "output_type": "stream",
     "text": [
      "/home/matt/code/school/joplen/code/joplen-tests/my_env311/lib/python3.11/site-packages/pyHSICLasso/nlars.py:77: RuntimeWarning: divide by zero encountered in divide\n",
      "  gamma1 = (C - c[I]) / (XtXw[A[0]] - XtXw[I])\n"
     ]
    },
    {
     "name": "stdout",
     "output_type": "stream",
     "text": [
      "Block HSIC Lasso B = 73.\n",
      "M set to 1.\n",
      "Using Gaussian kernel for the features, Gaussian kernel for the outcomes.\n"
     ]
    },
    {
     "name": "stderr",
     "output_type": "stream",
     "text": [
      "/home/matt/code/school/joplen/code/joplen-tests/my_env311/lib/python3.11/site-packages/pyHSICLasso/nlars.py:77: RuntimeWarning: divide by zero encountered in divide\n",
      "  gamma1 = (C - c[I]) / (XtXw[A[0]] - XtXw[I])\n"
     ]
    },
    {
     "name": "stdout",
     "output_type": "stream",
     "text": [
      "Block HSIC Lasso B = 73.\n",
      "M set to 1.\n",
      "Using Gaussian kernel for the features, Gaussian kernel for the outcomes.\n"
     ]
    },
    {
     "name": "stderr",
     "output_type": "stream",
     "text": [
      "/home/matt/code/school/joplen/code/joplen-tests/my_env311/lib/python3.11/site-packages/pyHSICLasso/nlars.py:77: RuntimeWarning: divide by zero encountered in divide\n",
      "  gamma1 = (C - c[I]) / (XtXw[A[0]] - XtXw[I])\n",
      "Running hsic on pac_dimerization                          :  65%|██████▌   | 13/20 [00:44<00:27,  3.92s/it]"
     ]
    },
    {
     "name": "stdout",
     "output_type": "stream",
     "text": [
      "Block HSIC Lasso B = 73.\n",
      "M set to 1.\n",
      "Using Gaussian kernel for the features, Gaussian kernel for the outcomes.\n"
     ]
    },
    {
     "name": "stderr",
     "output_type": "stream",
     "text": [
      "/home/matt/code/school/joplen/code/joplen-tests/my_env311/lib/python3.11/site-packages/pyHSICLasso/nlars.py:77: RuntimeWarning: divide by zero encountered in divide\n",
      "  gamma1 = (C - c[I]) / (XtXw[A[0]] - XtXw[I])\n"
     ]
    },
    {
     "name": "stdout",
     "output_type": "stream",
     "text": [
      "Block HSIC Lasso B = 73.\n",
      "M set to 1.\n",
      "Using Gaussian kernel for the features, Gaussian kernel for the outcomes.\n"
     ]
    },
    {
     "name": "stderr",
     "output_type": "stream",
     "text": [
      "/home/matt/code/school/joplen/code/joplen-tests/my_env311/lib/python3.11/site-packages/pyHSICLasso/nlars.py:77: RuntimeWarning: divide by zero encountered in divide\n",
      "  gamma1 = (C - c[I]) / (XtXw[A[0]] - XtXw[I])\n"
     ]
    },
    {
     "name": "stdout",
     "output_type": "stream",
     "text": [
      "Block HSIC Lasso B = 73.\n",
      "M set to 1.\n",
      "Using Gaussian kernel for the features, Gaussian kernel for the outcomes.\n"
     ]
    },
    {
     "name": "stderr",
     "output_type": "stream",
     "text": [
      "/home/matt/code/school/joplen/code/joplen-tests/my_env311/lib/python3.11/site-packages/pyHSICLasso/nlars.py:77: RuntimeWarning: divide by zero encountered in divide\n",
      "  gamma1 = (C - c[I]) / (XtXw[A[0]] - XtXw[I])\n"
     ]
    },
    {
     "name": "stdout",
     "output_type": "stream",
     "text": [
      "Block HSIC Lasso B = 73.\n",
      "M set to 1.\n",
      "Using Gaussian kernel for the features, Gaussian kernel for the outcomes.\n"
     ]
    },
    {
     "name": "stderr",
     "output_type": "stream",
     "text": [
      "/home/matt/code/school/joplen/code/joplen-tests/my_env311/lib/python3.11/site-packages/pyHSICLasso/nlars.py:77: RuntimeWarning: divide by zero encountered in divide\n",
      "  gamma1 = (C - c[I]) / (XtXw[A[0]] - XtXw[I])\n"
     ]
    },
    {
     "name": "stdout",
     "output_type": "stream",
     "text": [
      "Block HSIC Lasso B = 73.\n",
      "M set to 1.\n",
      "Using Gaussian kernel for the features, Gaussian kernel for the outcomes.\n"
     ]
    },
    {
     "name": "stderr",
     "output_type": "stream",
     "text": [
      "/home/matt/code/school/joplen/code/joplen-tests/my_env311/lib/python3.11/site-packages/pyHSICLasso/nlars.py:77: RuntimeWarning: divide by zero encountered in divide\n",
      "  gamma1 = (C - c[I]) / (XtXw[A[0]] - XtXw[I])\n"
     ]
    },
    {
     "name": "stdout",
     "output_type": "stream",
     "text": [
      "Block HSIC Lasso B = 73.\n",
      "M set to 1.\n",
      "Using Gaussian kernel for the features, Gaussian kernel for the outcomes.\n"
     ]
    },
    {
     "name": "stderr",
     "output_type": "stream",
     "text": [
      "/home/matt/code/school/joplen/code/joplen-tests/my_env311/lib/python3.11/site-packages/pyHSICLasso/nlars.py:77: RuntimeWarning: divide by zero encountered in divide\n",
      "  gamma1 = (C - c[I]) / (XtXw[A[0]] - XtXw[I])\n",
      "Running hsic on pac_dimerization                          :  70%|███████   | 14/20 [00:48<00:23,  3.91s/it]"
     ]
    },
    {
     "name": "stdout",
     "output_type": "stream",
     "text": [
      "Block HSIC Lasso B = 73.\n",
      "M set to 1.\n",
      "Using Gaussian kernel for the features, Gaussian kernel for the outcomes.\n"
     ]
    },
    {
     "name": "stderr",
     "output_type": "stream",
     "text": [
      "/home/matt/code/school/joplen/code/joplen-tests/my_env311/lib/python3.11/site-packages/pyHSICLasso/nlars.py:77: RuntimeWarning: divide by zero encountered in divide\n",
      "  gamma1 = (C - c[I]) / (XtXw[A[0]] - XtXw[I])\n"
     ]
    },
    {
     "name": "stdout",
     "output_type": "stream",
     "text": [
      "Block HSIC Lasso B = 73.\n",
      "M set to 1.\n",
      "Using Gaussian kernel for the features, Gaussian kernel for the outcomes.\n"
     ]
    },
    {
     "name": "stderr",
     "output_type": "stream",
     "text": [
      "/home/matt/code/school/joplen/code/joplen-tests/my_env311/lib/python3.11/site-packages/pyHSICLasso/nlars.py:77: RuntimeWarning: divide by zero encountered in divide\n",
      "  gamma1 = (C - c[I]) / (XtXw[A[0]] - XtXw[I])\n"
     ]
    },
    {
     "name": "stdout",
     "output_type": "stream",
     "text": [
      "Block HSIC Lasso B = 73.\n",
      "M set to 1.\n",
      "Using Gaussian kernel for the features, Gaussian kernel for the outcomes.\n"
     ]
    },
    {
     "name": "stderr",
     "output_type": "stream",
     "text": [
      "/home/matt/code/school/joplen/code/joplen-tests/my_env311/lib/python3.11/site-packages/pyHSICLasso/nlars.py:77: RuntimeWarning: divide by zero encountered in divide\n",
      "  gamma1 = (C - c[I]) / (XtXw[A[0]] - XtXw[I])\n"
     ]
    },
    {
     "name": "stdout",
     "output_type": "stream",
     "text": [
      "Block HSIC Lasso B = 73.\n",
      "M set to 1.\n",
      "Using Gaussian kernel for the features, Gaussian kernel for the outcomes.\n"
     ]
    },
    {
     "name": "stderr",
     "output_type": "stream",
     "text": [
      "/home/matt/code/school/joplen/code/joplen-tests/my_env311/lib/python3.11/site-packages/pyHSICLasso/nlars.py:77: RuntimeWarning: divide by zero encountered in divide\n",
      "  gamma1 = (C - c[I]) / (XtXw[A[0]] - XtXw[I])\n"
     ]
    },
    {
     "name": "stdout",
     "output_type": "stream",
     "text": [
      "Block HSIC Lasso B = 73.\n",
      "M set to 1.\n",
      "Using Gaussian kernel for the features, Gaussian kernel for the outcomes.\n"
     ]
    },
    {
     "name": "stderr",
     "output_type": "stream",
     "text": [
      "/home/matt/code/school/joplen/code/joplen-tests/my_env311/lib/python3.11/site-packages/pyHSICLasso/nlars.py:77: RuntimeWarning: divide by zero encountered in divide\n",
      "  gamma1 = (C - c[I]) / (XtXw[A[0]] - XtXw[I])\n"
     ]
    },
    {
     "name": "stdout",
     "output_type": "stream",
     "text": [
      "Block HSIC Lasso B = 73.\n",
      "M set to 1.\n",
      "Using Gaussian kernel for the features, Gaussian kernel for the outcomes.\n"
     ]
    },
    {
     "name": "stderr",
     "output_type": "stream",
     "text": [
      "/home/matt/code/school/joplen/code/joplen-tests/my_env311/lib/python3.11/site-packages/pyHSICLasso/nlars.py:77: RuntimeWarning: divide by zero encountered in divide\n",
      "  gamma1 = (C - c[I]) / (XtXw[A[0]] - XtXw[I])\n",
      "Running hsic on pac_dimerization                          :  75%|███████▌  | 15/20 [00:52<00:19,  3.91s/it]"
     ]
    },
    {
     "name": "stdout",
     "output_type": "stream",
     "text": [
      "Block HSIC Lasso B = 73.\n",
      "M set to 1.\n",
      "Using Gaussian kernel for the features, Gaussian kernel for the outcomes.\n"
     ]
    },
    {
     "name": "stderr",
     "output_type": "stream",
     "text": [
      "/home/matt/code/school/joplen/code/joplen-tests/my_env311/lib/python3.11/site-packages/pyHSICLasso/nlars.py:77: RuntimeWarning: divide by zero encountered in divide\n",
      "  gamma1 = (C - c[I]) / (XtXw[A[0]] - XtXw[I])\n"
     ]
    },
    {
     "name": "stdout",
     "output_type": "stream",
     "text": [
      "Block HSIC Lasso B = 73.\n",
      "M set to 1.\n",
      "Using Gaussian kernel for the features, Gaussian kernel for the outcomes.\n"
     ]
    },
    {
     "name": "stderr",
     "output_type": "stream",
     "text": [
      "/home/matt/code/school/joplen/code/joplen-tests/my_env311/lib/python3.11/site-packages/pyHSICLasso/nlars.py:77: RuntimeWarning: divide by zero encountered in divide\n",
      "  gamma1 = (C - c[I]) / (XtXw[A[0]] - XtXw[I])\n"
     ]
    },
    {
     "name": "stdout",
     "output_type": "stream",
     "text": [
      "Block HSIC Lasso B = 73.\n",
      "M set to 1.\n",
      "Using Gaussian kernel for the features, Gaussian kernel for the outcomes.\n"
     ]
    },
    {
     "name": "stderr",
     "output_type": "stream",
     "text": [
      "/home/matt/code/school/joplen/code/joplen-tests/my_env311/lib/python3.11/site-packages/pyHSICLasso/nlars.py:77: RuntimeWarning: divide by zero encountered in divide\n",
      "  gamma1 = (C - c[I]) / (XtXw[A[0]] - XtXw[I])\n"
     ]
    },
    {
     "name": "stdout",
     "output_type": "stream",
     "text": [
      "Block HSIC Lasso B = 73.\n",
      "M set to 1.\n",
      "Using Gaussian kernel for the features, Gaussian kernel for the outcomes.\n"
     ]
    },
    {
     "name": "stderr",
     "output_type": "stream",
     "text": [
      "/home/matt/code/school/joplen/code/joplen-tests/my_env311/lib/python3.11/site-packages/pyHSICLasso/nlars.py:77: RuntimeWarning: divide by zero encountered in divide\n",
      "  gamma1 = (C - c[I]) / (XtXw[A[0]] - XtXw[I])\n"
     ]
    },
    {
     "name": "stdout",
     "output_type": "stream",
     "text": [
      "Block HSIC Lasso B = 73.\n",
      "M set to 1.\n",
      "Using Gaussian kernel for the features, Gaussian kernel for the outcomes.\n"
     ]
    },
    {
     "name": "stderr",
     "output_type": "stream",
     "text": [
      "/home/matt/code/school/joplen/code/joplen-tests/my_env311/lib/python3.11/site-packages/pyHSICLasso/nlars.py:77: RuntimeWarning: divide by zero encountered in divide\n",
      "  gamma1 = (C - c[I]) / (XtXw[A[0]] - XtXw[I])\n"
     ]
    },
    {
     "name": "stdout",
     "output_type": "stream",
     "text": [
      "Block HSIC Lasso B = 73.\n",
      "M set to 1.\n",
      "Using Gaussian kernel for the features, Gaussian kernel for the outcomes.\n"
     ]
    },
    {
     "name": "stderr",
     "output_type": "stream",
     "text": [
      "/home/matt/code/school/joplen/code/joplen-tests/my_env311/lib/python3.11/site-packages/pyHSICLasso/nlars.py:77: RuntimeWarning: divide by zero encountered in divide\n",
      "  gamma1 = (C - c[I]) / (XtXw[A[0]] - XtXw[I])\n",
      "Running hsic on pac_dimerization                          :  80%|████████  | 16/20 [00:56<00:15,  3.99s/it]"
     ]
    },
    {
     "name": "stdout",
     "output_type": "stream",
     "text": [
      "Block HSIC Lasso B = 73.\n",
      "M set to 1.\n",
      "Using Gaussian kernel for the features, Gaussian kernel for the outcomes.\n"
     ]
    },
    {
     "name": "stderr",
     "output_type": "stream",
     "text": [
      "/home/matt/code/school/joplen/code/joplen-tests/my_env311/lib/python3.11/site-packages/pyHSICLasso/nlars.py:77: RuntimeWarning: divide by zero encountered in divide\n",
      "  gamma1 = (C - c[I]) / (XtXw[A[0]] - XtXw[I])\n"
     ]
    },
    {
     "name": "stdout",
     "output_type": "stream",
     "text": [
      "Block HSIC Lasso B = 73.\n",
      "M set to 1.\n",
      "Using Gaussian kernel for the features, Gaussian kernel for the outcomes.\n"
     ]
    },
    {
     "name": "stderr",
     "output_type": "stream",
     "text": [
      "/home/matt/code/school/joplen/code/joplen-tests/my_env311/lib/python3.11/site-packages/pyHSICLasso/nlars.py:77: RuntimeWarning: divide by zero encountered in divide\n",
      "  gamma1 = (C - c[I]) / (XtXw[A[0]] - XtXw[I])\n"
     ]
    },
    {
     "name": "stdout",
     "output_type": "stream",
     "text": [
      "Block HSIC Lasso B = 73.\n",
      "M set to 1.\n",
      "Using Gaussian kernel for the features, Gaussian kernel for the outcomes.\n"
     ]
    },
    {
     "name": "stderr",
     "output_type": "stream",
     "text": [
      "/home/matt/code/school/joplen/code/joplen-tests/my_env311/lib/python3.11/site-packages/pyHSICLasso/nlars.py:77: RuntimeWarning: divide by zero encountered in divide\n",
      "  gamma1 = (C - c[I]) / (XtXw[A[0]] - XtXw[I])\n"
     ]
    },
    {
     "name": "stdout",
     "output_type": "stream",
     "text": [
      "Block HSIC Lasso B = 73.\n",
      "M set to 1.\n",
      "Using Gaussian kernel for the features, Gaussian kernel for the outcomes.\n"
     ]
    },
    {
     "name": "stderr",
     "output_type": "stream",
     "text": [
      "/home/matt/code/school/joplen/code/joplen-tests/my_env311/lib/python3.11/site-packages/pyHSICLasso/nlars.py:77: RuntimeWarning: divide by zero encountered in divide\n",
      "  gamma1 = (C - c[I]) / (XtXw[A[0]] - XtXw[I])\n"
     ]
    },
    {
     "name": "stdout",
     "output_type": "stream",
     "text": [
      "Block HSIC Lasso B = 73.\n",
      "M set to 1.\n",
      "Using Gaussian kernel for the features, Gaussian kernel for the outcomes.\n"
     ]
    },
    {
     "name": "stderr",
     "output_type": "stream",
     "text": [
      "/home/matt/code/school/joplen/code/joplen-tests/my_env311/lib/python3.11/site-packages/pyHSICLasso/nlars.py:77: RuntimeWarning: divide by zero encountered in divide\n",
      "  gamma1 = (C - c[I]) / (XtXw[A[0]] - XtXw[I])\n"
     ]
    },
    {
     "name": "stdout",
     "output_type": "stream",
     "text": [
      "Block HSIC Lasso B = 73.\n",
      "M set to 1.\n",
      "Using Gaussian kernel for the features, Gaussian kernel for the outcomes.\n"
     ]
    },
    {
     "name": "stderr",
     "output_type": "stream",
     "text": [
      "/home/matt/code/school/joplen/code/joplen-tests/my_env311/lib/python3.11/site-packages/pyHSICLasso/nlars.py:77: RuntimeWarning: divide by zero encountered in divide\n",
      "  gamma1 = (C - c[I]) / (XtXw[A[0]] - XtXw[I])\n",
      "Running hsic on pac_dimerization                          :  85%|████████▌ | 17/20 [01:00<00:12,  4.03s/it]"
     ]
    },
    {
     "name": "stdout",
     "output_type": "stream",
     "text": [
      "Block HSIC Lasso B = 73.\n",
      "M set to 1.\n",
      "Using Gaussian kernel for the features, Gaussian kernel for the outcomes.\n"
     ]
    },
    {
     "name": "stderr",
     "output_type": "stream",
     "text": [
      "/home/matt/code/school/joplen/code/joplen-tests/my_env311/lib/python3.11/site-packages/pyHSICLasso/nlars.py:77: RuntimeWarning: divide by zero encountered in divide\n",
      "  gamma1 = (C - c[I]) / (XtXw[A[0]] - XtXw[I])\n"
     ]
    },
    {
     "name": "stdout",
     "output_type": "stream",
     "text": [
      "Block HSIC Lasso B = 73.\n",
      "M set to 1.\n",
      "Using Gaussian kernel for the features, Gaussian kernel for the outcomes.\n"
     ]
    },
    {
     "name": "stderr",
     "output_type": "stream",
     "text": [
      "/home/matt/code/school/joplen/code/joplen-tests/my_env311/lib/python3.11/site-packages/pyHSICLasso/nlars.py:77: RuntimeWarning: divide by zero encountered in divide\n",
      "  gamma1 = (C - c[I]) / (XtXw[A[0]] - XtXw[I])\n"
     ]
    },
    {
     "name": "stdout",
     "output_type": "stream",
     "text": [
      "Block HSIC Lasso B = 73.\n",
      "M set to 1.\n",
      "Using Gaussian kernel for the features, Gaussian kernel for the outcomes.\n"
     ]
    },
    {
     "name": "stderr",
     "output_type": "stream",
     "text": [
      "/home/matt/code/school/joplen/code/joplen-tests/my_env311/lib/python3.11/site-packages/pyHSICLasso/nlars.py:77: RuntimeWarning: divide by zero encountered in divide\n",
      "  gamma1 = (C - c[I]) / (XtXw[A[0]] - XtXw[I])\n"
     ]
    },
    {
     "name": "stdout",
     "output_type": "stream",
     "text": [
      "Block HSIC Lasso B = 73.\n",
      "M set to 1.\n",
      "Using Gaussian kernel for the features, Gaussian kernel for the outcomes.\n"
     ]
    },
    {
     "name": "stderr",
     "output_type": "stream",
     "text": [
      "/home/matt/code/school/joplen/code/joplen-tests/my_env311/lib/python3.11/site-packages/pyHSICLasso/nlars.py:77: RuntimeWarning: divide by zero encountered in divide\n",
      "  gamma1 = (C - c[I]) / (XtXw[A[0]] - XtXw[I])\n"
     ]
    },
    {
     "name": "stdout",
     "output_type": "stream",
     "text": [
      "Block HSIC Lasso B = 73.\n",
      "M set to 1.\n",
      "Using Gaussian kernel for the features, Gaussian kernel for the outcomes.\n"
     ]
    },
    {
     "name": "stderr",
     "output_type": "stream",
     "text": [
      "/home/matt/code/school/joplen/code/joplen-tests/my_env311/lib/python3.11/site-packages/pyHSICLasso/nlars.py:77: RuntimeWarning: divide by zero encountered in divide\n",
      "  gamma1 = (C - c[I]) / (XtXw[A[0]] - XtXw[I])\n"
     ]
    },
    {
     "name": "stdout",
     "output_type": "stream",
     "text": [
      "Block HSIC Lasso B = 73.\n",
      "M set to 1.\n",
      "Using Gaussian kernel for the features, Gaussian kernel for the outcomes.\n"
     ]
    },
    {
     "name": "stderr",
     "output_type": "stream",
     "text": [
      "/home/matt/code/school/joplen/code/joplen-tests/my_env311/lib/python3.11/site-packages/pyHSICLasso/nlars.py:77: RuntimeWarning: divide by zero encountered in divide\n",
      "  gamma1 = (C - c[I]) / (XtXw[A[0]] - XtXw[I])\n",
      "Running hsic on pac_dimerization                          :  90%|█████████ | 18/20 [01:04<00:07,  3.97s/it]"
     ]
    },
    {
     "name": "stdout",
     "output_type": "stream",
     "text": [
      "Block HSIC Lasso B = 73.\n",
      "M set to 1.\n",
      "Using Gaussian kernel for the features, Gaussian kernel for the outcomes.\n"
     ]
    },
    {
     "name": "stderr",
     "output_type": "stream",
     "text": [
      "/home/matt/code/school/joplen/code/joplen-tests/my_env311/lib/python3.11/site-packages/pyHSICLasso/nlars.py:77: RuntimeWarning: divide by zero encountered in divide\n",
      "  gamma1 = (C - c[I]) / (XtXw[A[0]] - XtXw[I])\n"
     ]
    },
    {
     "name": "stdout",
     "output_type": "stream",
     "text": [
      "Block HSIC Lasso B = 73.\n",
      "M set to 1.\n",
      "Using Gaussian kernel for the features, Gaussian kernel for the outcomes.\n"
     ]
    },
    {
     "name": "stderr",
     "output_type": "stream",
     "text": [
      "/home/matt/code/school/joplen/code/joplen-tests/my_env311/lib/python3.11/site-packages/pyHSICLasso/nlars.py:77: RuntimeWarning: divide by zero encountered in divide\n",
      "  gamma1 = (C - c[I]) / (XtXw[A[0]] - XtXw[I])\n"
     ]
    },
    {
     "name": "stdout",
     "output_type": "stream",
     "text": [
      "Block HSIC Lasso B = 73.\n",
      "M set to 1.\n",
      "Using Gaussian kernel for the features, Gaussian kernel for the outcomes.\n"
     ]
    },
    {
     "name": "stderr",
     "output_type": "stream",
     "text": [
      "/home/matt/code/school/joplen/code/joplen-tests/my_env311/lib/python3.11/site-packages/pyHSICLasso/nlars.py:77: RuntimeWarning: divide by zero encountered in divide\n",
      "  gamma1 = (C - c[I]) / (XtXw[A[0]] - XtXw[I])\n"
     ]
    },
    {
     "name": "stdout",
     "output_type": "stream",
     "text": [
      "Block HSIC Lasso B = 73.\n",
      "M set to 1.\n",
      "Using Gaussian kernel for the features, Gaussian kernel for the outcomes.\n"
     ]
    },
    {
     "name": "stderr",
     "output_type": "stream",
     "text": [
      "/home/matt/code/school/joplen/code/joplen-tests/my_env311/lib/python3.11/site-packages/pyHSICLasso/nlars.py:77: RuntimeWarning: divide by zero encountered in divide\n",
      "  gamma1 = (C - c[I]) / (XtXw[A[0]] - XtXw[I])\n"
     ]
    },
    {
     "name": "stdout",
     "output_type": "stream",
     "text": [
      "Block HSIC Lasso B = 73.\n",
      "M set to 1.\n",
      "Using Gaussian kernel for the features, Gaussian kernel for the outcomes.\n"
     ]
    },
    {
     "name": "stderr",
     "output_type": "stream",
     "text": [
      "/home/matt/code/school/joplen/code/joplen-tests/my_env311/lib/python3.11/site-packages/pyHSICLasso/nlars.py:77: RuntimeWarning: divide by zero encountered in divide\n",
      "  gamma1 = (C - c[I]) / (XtXw[A[0]] - XtXw[I])\n"
     ]
    },
    {
     "name": "stdout",
     "output_type": "stream",
     "text": [
      "Block HSIC Lasso B = 73.\n",
      "M set to 1.\n",
      "Using Gaussian kernel for the features, Gaussian kernel for the outcomes.\n"
     ]
    },
    {
     "name": "stderr",
     "output_type": "stream",
     "text": [
      "/home/matt/code/school/joplen/code/joplen-tests/my_env311/lib/python3.11/site-packages/pyHSICLasso/nlars.py:77: RuntimeWarning: divide by zero encountered in divide\n",
      "  gamma1 = (C - c[I]) / (XtXw[A[0]] - XtXw[I])\n",
      "Running hsic on pac_dimerization                          :  95%|█████████▌| 19/20 [01:08<00:04,  4.13s/it]"
     ]
    },
    {
     "name": "stdout",
     "output_type": "stream",
     "text": [
      "Block HSIC Lasso B = 73.\n",
      "M set to 1.\n",
      "Using Gaussian kernel for the features, Gaussian kernel for the outcomes.\n"
     ]
    },
    {
     "name": "stderr",
     "output_type": "stream",
     "text": [
      "/home/matt/code/school/joplen/code/joplen-tests/my_env311/lib/python3.11/site-packages/pyHSICLasso/nlars.py:77: RuntimeWarning: divide by zero encountered in divide\n",
      "  gamma1 = (C - c[I]) / (XtXw[A[0]] - XtXw[I])\n"
     ]
    },
    {
     "name": "stdout",
     "output_type": "stream",
     "text": [
      "Block HSIC Lasso B = 73.\n",
      "M set to 1.\n",
      "Using Gaussian kernel for the features, Gaussian kernel for the outcomes.\n"
     ]
    },
    {
     "name": "stderr",
     "output_type": "stream",
     "text": [
      "/home/matt/code/school/joplen/code/joplen-tests/my_env311/lib/python3.11/site-packages/pyHSICLasso/nlars.py:77: RuntimeWarning: divide by zero encountered in divide\n",
      "  gamma1 = (C - c[I]) / (XtXw[A[0]] - XtXw[I])\n"
     ]
    },
    {
     "name": "stdout",
     "output_type": "stream",
     "text": [
      "Block HSIC Lasso B = 73.\n",
      "M set to 1.\n",
      "Using Gaussian kernel for the features, Gaussian kernel for the outcomes.\n"
     ]
    },
    {
     "name": "stderr",
     "output_type": "stream",
     "text": [
      "/home/matt/code/school/joplen/code/joplen-tests/my_env311/lib/python3.11/site-packages/pyHSICLasso/nlars.py:77: RuntimeWarning: divide by zero encountered in divide\n",
      "  gamma1 = (C - c[I]) / (XtXw[A[0]] - XtXw[I])\n"
     ]
    },
    {
     "name": "stdout",
     "output_type": "stream",
     "text": [
      "Block HSIC Lasso B = 73.\n",
      "M set to 1.\n",
      "Using Gaussian kernel for the features, Gaussian kernel for the outcomes.\n"
     ]
    },
    {
     "name": "stderr",
     "output_type": "stream",
     "text": [
      "/home/matt/code/school/joplen/code/joplen-tests/my_env311/lib/python3.11/site-packages/pyHSICLasso/nlars.py:77: RuntimeWarning: divide by zero encountered in divide\n",
      "  gamma1 = (C - c[I]) / (XtXw[A[0]] - XtXw[I])\n"
     ]
    },
    {
     "name": "stdout",
     "output_type": "stream",
     "text": [
      "Block HSIC Lasso B = 73.\n",
      "M set to 1.\n",
      "Using Gaussian kernel for the features, Gaussian kernel for the outcomes.\n"
     ]
    },
    {
     "name": "stderr",
     "output_type": "stream",
     "text": [
      "/home/matt/code/school/joplen/code/joplen-tests/my_env311/lib/python3.11/site-packages/pyHSICLasso/nlars.py:77: RuntimeWarning: divide by zero encountered in divide\n",
      "  gamma1 = (C - c[I]) / (XtXw[A[0]] - XtXw[I])\n"
     ]
    },
    {
     "name": "stdout",
     "output_type": "stream",
     "text": [
      "Block HSIC Lasso B = 73.\n",
      "M set to 1.\n",
      "Using Gaussian kernel for the features, Gaussian kernel for the outcomes.\n"
     ]
    },
    {
     "name": "stderr",
     "output_type": "stream",
     "text": [
      "/home/matt/code/school/joplen/code/joplen-tests/my_env311/lib/python3.11/site-packages/pyHSICLasso/nlars.py:77: RuntimeWarning: divide by zero encountered in divide\n",
      "  gamma1 = (C - c[I]) / (XtXw[A[0]] - XtXw[I])\n",
      "Running hsic on pac_dimerization                          : 100%|██████████| 20/20 [01:12<00:00,  3.63s/it]\n",
      "Running rf on crime                                       : 100%|██████████| 20/20 [00:50<00:00,  2.51s/it]\n",
      "Running joplen_linear_gb_l21L2 on crime                   : 100%|██████████| 20/20 [08:11<00:00, 24.56s/it]\n",
      "Running lasso on crime                                    : 100%|██████████| 20/20 [00:07<00:00,  2.63it/s]\n",
      "Running gb on crime                                       : 100%|██████████| 20/20 [04:27<00:00, 13.38s/it]\n",
      "Running hsic on crime                                     :   0%|          | 0/20 [00:00<?, ?it/s]"
     ]
    },
    {
     "name": "stdout",
     "output_type": "stream",
     "text": [
      "Block HSIC Lasso B = 1394.\n",
      "M set to 1.\n",
      "Using Gaussian kernel for the features, Gaussian kernel for the outcomes.\n"
     ]
    },
    {
     "name": "stderr",
     "output_type": "stream",
     "text": [
      "/home/matt/code/school/joplen/code/joplen-tests/my_env311/lib/python3.11/site-packages/joblib/externals/loky/backend/fork_exec.py:38: RuntimeWarning: os.fork() was called. os.fork() is incompatible with multithreaded code, and JAX is multithreaded, so this will likely lead to a deadlock.\n",
      "  pid = os.fork()\n"
     ]
    },
    {
     "name": "stdout",
     "output_type": "stream",
     "text": [
      "Block HSIC Lasso B = 1394.\n",
      "M set to 1.\n",
      "Using Gaussian kernel for the features, Gaussian kernel for the outcomes.\n",
      "Block HSIC Lasso B = 1394.\n",
      "M set to 1.\n",
      "Using Gaussian kernel for the features, Gaussian kernel for the outcomes.\n",
      "Block HSIC Lasso B = 1394.\n",
      "M set to 1.\n",
      "Using Gaussian kernel for the features, Gaussian kernel for the outcomes.\n",
      "Block HSIC Lasso B = 1394.\n",
      "M set to 1.\n",
      "Using Gaussian kernel for the features, Gaussian kernel for the outcomes.\n",
      "Block HSIC Lasso B = 1394.\n",
      "M set to 1.\n",
      "Using Gaussian kernel for the features, Gaussian kernel for the outcomes.\n"
     ]
    },
    {
     "name": "stderr",
     "output_type": "stream",
     "text": [
      "Running hsic on crime                                     :   5%|▌         | 1/20 [00:18<05:44, 18.12s/it]"
     ]
    },
    {
     "name": "stdout",
     "output_type": "stream",
     "text": [
      "Block HSIC Lasso B = 1394.\n",
      "M set to 1.\n",
      "Using Gaussian kernel for the features, Gaussian kernel for the outcomes.\n",
      "Block HSIC Lasso B = 1394.\n",
      "M set to 1.\n",
      "Using Gaussian kernel for the features, Gaussian kernel for the outcomes.\n",
      "Block HSIC Lasso B = 1394.\n",
      "M set to 1.\n",
      "Using Gaussian kernel for the features, Gaussian kernel for the outcomes.\n",
      "Block HSIC Lasso B = 1394.\n",
      "M set to 1.\n",
      "Using Gaussian kernel for the features, Gaussian kernel for the outcomes.\n",
      "Block HSIC Lasso B = 1394.\n",
      "M set to 1.\n",
      "Using Gaussian kernel for the features, Gaussian kernel for the outcomes.\n",
      "Block HSIC Lasso B = 1394.\n",
      "M set to 1.\n",
      "Using Gaussian kernel for the features, Gaussian kernel for the outcomes.\n"
     ]
    },
    {
     "name": "stderr",
     "output_type": "stream",
     "text": [
      "Running hsic on crime                                     :  10%|█         | 2/20 [00:38<05:48, 19.33s/it]"
     ]
    },
    {
     "name": "stdout",
     "output_type": "stream",
     "text": [
      "Block HSIC Lasso B = 1394.\n",
      "M set to 1.\n",
      "Using Gaussian kernel for the features, Gaussian kernel for the outcomes.\n",
      "Block HSIC Lasso B = 1394.\n",
      "M set to 1.\n",
      "Using Gaussian kernel for the features, Gaussian kernel for the outcomes.\n",
      "Block HSIC Lasso B = 1394.\n",
      "M set to 1.\n",
      "Using Gaussian kernel for the features, Gaussian kernel for the outcomes.\n",
      "Block HSIC Lasso B = 1394.\n",
      "M set to 1.\n",
      "Using Gaussian kernel for the features, Gaussian kernel for the outcomes.\n",
      "Block HSIC Lasso B = 1394.\n",
      "M set to 1.\n",
      "Using Gaussian kernel for the features, Gaussian kernel for the outcomes.\n",
      "Block HSIC Lasso B = 1394.\n",
      "M set to 1.\n",
      "Using Gaussian kernel for the features, Gaussian kernel for the outcomes.\n"
     ]
    },
    {
     "name": "stderr",
     "output_type": "stream",
     "text": [
      "Running hsic on crime                                     :  15%|█▌        | 3/20 [01:03<06:14, 22.03s/it]"
     ]
    },
    {
     "name": "stdout",
     "output_type": "stream",
     "text": [
      "Block HSIC Lasso B = 1394.\n",
      "M set to 1.\n",
      "Using Gaussian kernel for the features, Gaussian kernel for the outcomes.\n",
      "Block HSIC Lasso B = 1394.\n",
      "M set to 1.\n",
      "Using Gaussian kernel for the features, Gaussian kernel for the outcomes.\n",
      "Block HSIC Lasso B = 1394.\n",
      "M set to 1.\n",
      "Using Gaussian kernel for the features, Gaussian kernel for the outcomes.\n",
      "Block HSIC Lasso B = 1394.\n",
      "M set to 1.\n",
      "Using Gaussian kernel for the features, Gaussian kernel for the outcomes.\n",
      "Block HSIC Lasso B = 1394.\n",
      "M set to 1.\n",
      "Using Gaussian kernel for the features, Gaussian kernel for the outcomes.\n",
      "Block HSIC Lasso B = 1394.\n",
      "M set to 1.\n",
      "Using Gaussian kernel for the features, Gaussian kernel for the outcomes.\n"
     ]
    },
    {
     "name": "stderr",
     "output_type": "stream",
     "text": [
      "Running hsic on crime                                     :  20%|██        | 4/20 [01:33<06:43, 25.24s/it]"
     ]
    },
    {
     "name": "stdout",
     "output_type": "stream",
     "text": [
      "Block HSIC Lasso B = 1394.\n",
      "M set to 1.\n",
      "Using Gaussian kernel for the features, Gaussian kernel for the outcomes.\n",
      "Block HSIC Lasso B = 1394.\n",
      "M set to 1.\n",
      "Using Gaussian kernel for the features, Gaussian kernel for the outcomes.\n",
      "Block HSIC Lasso B = 1394.\n",
      "M set to 1.\n",
      "Using Gaussian kernel for the features, Gaussian kernel for the outcomes.\n",
      "Block HSIC Lasso B = 1394.\n",
      "M set to 1.\n",
      "Using Gaussian kernel for the features, Gaussian kernel for the outcomes.\n",
      "Block HSIC Lasso B = 1394.\n",
      "M set to 1.\n",
      "Using Gaussian kernel for the features, Gaussian kernel for the outcomes.\n",
      "Block HSIC Lasso B = 1394.\n",
      "M set to 1.\n",
      "Using Gaussian kernel for the features, Gaussian kernel for the outcomes.\n"
     ]
    },
    {
     "name": "stderr",
     "output_type": "stream",
     "text": [
      "Running hsic on crime                                     :  25%|██▌       | 5/20 [02:12<07:29, 29.96s/it]"
     ]
    },
    {
     "name": "stdout",
     "output_type": "stream",
     "text": [
      "Block HSIC Lasso B = 1394.\n",
      "M set to 1.\n",
      "Using Gaussian kernel for the features, Gaussian kernel for the outcomes.\n",
      "Block HSIC Lasso B = 1394.\n",
      "M set to 1.\n",
      "Using Gaussian kernel for the features, Gaussian kernel for the outcomes.\n",
      "Block HSIC Lasso B = 1394.\n",
      "M set to 1.\n",
      "Using Gaussian kernel for the features, Gaussian kernel for the outcomes.\n",
      "Block HSIC Lasso B = 1394.\n",
      "M set to 1.\n",
      "Using Gaussian kernel for the features, Gaussian kernel for the outcomes.\n",
      "Block HSIC Lasso B = 1394.\n",
      "M set to 1.\n",
      "Using Gaussian kernel for the features, Gaussian kernel for the outcomes.\n",
      "Block HSIC Lasso B = 1394.\n",
      "M set to 1.\n",
      "Using Gaussian kernel for the features, Gaussian kernel for the outcomes.\n"
     ]
    },
    {
     "name": "stderr",
     "output_type": "stream",
     "text": [
      "Running hsic on crime                                     :  30%|███       | 6/20 [02:51<07:44, 33.20s/it]"
     ]
    },
    {
     "name": "stdout",
     "output_type": "stream",
     "text": [
      "Block HSIC Lasso B = 1394.\n",
      "M set to 1.\n",
      "Using Gaussian kernel for the features, Gaussian kernel for the outcomes.\n",
      "Block HSIC Lasso B = 1394.\n",
      "M set to 1.\n",
      "Using Gaussian kernel for the features, Gaussian kernel for the outcomes.\n",
      "Block HSIC Lasso B = 1394.\n",
      "M set to 1.\n",
      "Using Gaussian kernel for the features, Gaussian kernel for the outcomes.\n",
      "Block HSIC Lasso B = 1394.\n",
      "M set to 1.\n",
      "Using Gaussian kernel for the features, Gaussian kernel for the outcomes.\n",
      "Block HSIC Lasso B = 1394.\n",
      "M set to 1.\n",
      "Using Gaussian kernel for the features, Gaussian kernel for the outcomes.\n",
      "Block HSIC Lasso B = 1394.\n",
      "M set to 1.\n",
      "Using Gaussian kernel for the features, Gaussian kernel for the outcomes.\n"
     ]
    },
    {
     "name": "stderr",
     "output_type": "stream",
     "text": [
      "Running hsic on crime                                     :  35%|███▌      | 7/20 [03:30<07:34, 34.96s/it]"
     ]
    },
    {
     "name": "stdout",
     "output_type": "stream",
     "text": [
      "Block HSIC Lasso B = 1394.\n",
      "M set to 1.\n",
      "Using Gaussian kernel for the features, Gaussian kernel for the outcomes.\n",
      "Block HSIC Lasso B = 1394.\n",
      "M set to 1.\n",
      "Using Gaussian kernel for the features, Gaussian kernel for the outcomes.\n",
      "Block HSIC Lasso B = 1394.\n",
      "M set to 1.\n",
      "Using Gaussian kernel for the features, Gaussian kernel for the outcomes.\n",
      "Block HSIC Lasso B = 1394.\n",
      "M set to 1.\n",
      "Using Gaussian kernel for the features, Gaussian kernel for the outcomes.\n",
      "Block HSIC Lasso B = 1394.\n",
      "M set to 1.\n",
      "Using Gaussian kernel for the features, Gaussian kernel for the outcomes.\n",
      "Block HSIC Lasso B = 1394.\n",
      "M set to 1.\n",
      "Using Gaussian kernel for the features, Gaussian kernel for the outcomes.\n"
     ]
    },
    {
     "name": "stderr",
     "output_type": "stream",
     "text": [
      "Running hsic on crime                                     :  40%|████      | 8/20 [04:10<07:19, 36.65s/it]"
     ]
    },
    {
     "name": "stdout",
     "output_type": "stream",
     "text": [
      "Block HSIC Lasso B = 1394.\n",
      "M set to 1.\n",
      "Using Gaussian kernel for the features, Gaussian kernel for the outcomes.\n",
      "Block HSIC Lasso B = 1394.\n",
      "M set to 1.\n",
      "Using Gaussian kernel for the features, Gaussian kernel for the outcomes.\n",
      "Block HSIC Lasso B = 1394.\n",
      "M set to 1.\n",
      "Using Gaussian kernel for the features, Gaussian kernel for the outcomes.\n",
      "Block HSIC Lasso B = 1394.\n",
      "M set to 1.\n",
      "Using Gaussian kernel for the features, Gaussian kernel for the outcomes.\n",
      "Block HSIC Lasso B = 1394.\n",
      "M set to 1.\n",
      "Using Gaussian kernel for the features, Gaussian kernel for the outcomes.\n",
      "Block HSIC Lasso B = 1394.\n",
      "M set to 1.\n",
      "Using Gaussian kernel for the features, Gaussian kernel for the outcomes.\n"
     ]
    },
    {
     "name": "stderr",
     "output_type": "stream",
     "text": [
      "Running hsic on crime                                     :  45%|████▌     | 9/20 [04:49<06:52, 37.54s/it]"
     ]
    },
    {
     "name": "stdout",
     "output_type": "stream",
     "text": [
      "Block HSIC Lasso B = 1394.\n",
      "M set to 1.\n",
      "Using Gaussian kernel for the features, Gaussian kernel for the outcomes.\n",
      "Block HSIC Lasso B = 1394.\n",
      "M set to 1.\n",
      "Using Gaussian kernel for the features, Gaussian kernel for the outcomes.\n",
      "Block HSIC Lasso B = 1394.\n",
      "M set to 1.\n",
      "Using Gaussian kernel for the features, Gaussian kernel for the outcomes.\n",
      "Block HSIC Lasso B = 1394.\n",
      "M set to 1.\n",
      "Using Gaussian kernel for the features, Gaussian kernel for the outcomes.\n",
      "Block HSIC Lasso B = 1394.\n",
      "M set to 1.\n",
      "Using Gaussian kernel for the features, Gaussian kernel for the outcomes.\n",
      "Block HSIC Lasso B = 1394.\n",
      "M set to 1.\n",
      "Using Gaussian kernel for the features, Gaussian kernel for the outcomes.\n"
     ]
    },
    {
     "name": "stderr",
     "output_type": "stream",
     "text": [
      "Running hsic on crime                                     :  50%|█████     | 10/20 [05:30<06:25, 38.58s/it]"
     ]
    },
    {
     "name": "stdout",
     "output_type": "stream",
     "text": [
      "Block HSIC Lasso B = 1394.\n",
      "M set to 1.\n",
      "Using Gaussian kernel for the features, Gaussian kernel for the outcomes.\n",
      "Block HSIC Lasso B = 1394.\n",
      "M set to 1.\n",
      "Using Gaussian kernel for the features, Gaussian kernel for the outcomes.\n",
      "Block HSIC Lasso B = 1394.\n",
      "M set to 1.\n",
      "Using Gaussian kernel for the features, Gaussian kernel for the outcomes.\n",
      "Block HSIC Lasso B = 1394.\n",
      "M set to 1.\n",
      "Using Gaussian kernel for the features, Gaussian kernel for the outcomes.\n",
      "Block HSIC Lasso B = 1394.\n",
      "M set to 1.\n",
      "Using Gaussian kernel for the features, Gaussian kernel for the outcomes.\n",
      "Block HSIC Lasso B = 1394.\n",
      "M set to 1.\n",
      "Using Gaussian kernel for the features, Gaussian kernel for the outcomes.\n"
     ]
    },
    {
     "name": "stderr",
     "output_type": "stream",
     "text": [
      "Running hsic on crime                                     :  55%|█████▌    | 11/20 [06:10<05:50, 38.97s/it]"
     ]
    },
    {
     "name": "stdout",
     "output_type": "stream",
     "text": [
      "Block HSIC Lasso B = 1394.\n",
      "M set to 1.\n",
      "Using Gaussian kernel for the features, Gaussian kernel for the outcomes.\n",
      "Block HSIC Lasso B = 1394.\n",
      "M set to 1.\n",
      "Using Gaussian kernel for the features, Gaussian kernel for the outcomes.\n",
      "Block HSIC Lasso B = 1394.\n",
      "M set to 1.\n",
      "Using Gaussian kernel for the features, Gaussian kernel for the outcomes.\n",
      "Block HSIC Lasso B = 1394.\n",
      "M set to 1.\n",
      "Using Gaussian kernel for the features, Gaussian kernel for the outcomes.\n",
      "Block HSIC Lasso B = 1394.\n",
      "M set to 1.\n",
      "Using Gaussian kernel for the features, Gaussian kernel for the outcomes.\n",
      "Block HSIC Lasso B = 1394.\n",
      "M set to 1.\n",
      "Using Gaussian kernel for the features, Gaussian kernel for the outcomes.\n"
     ]
    },
    {
     "name": "stderr",
     "output_type": "stream",
     "text": [
      "Running hsic on crime                                     :  60%|██████    | 12/20 [06:51<05:16, 39.52s/it]"
     ]
    },
    {
     "name": "stdout",
     "output_type": "stream",
     "text": [
      "Block HSIC Lasso B = 1394.\n",
      "M set to 1.\n",
      "Using Gaussian kernel for the features, Gaussian kernel for the outcomes.\n",
      "Block HSIC Lasso B = 1394.\n",
      "M set to 1.\n",
      "Using Gaussian kernel for the features, Gaussian kernel for the outcomes.\n",
      "Block HSIC Lasso B = 1394.\n",
      "M set to 1.\n",
      "Using Gaussian kernel for the features, Gaussian kernel for the outcomes.\n",
      "Block HSIC Lasso B = 1394.\n",
      "M set to 1.\n",
      "Using Gaussian kernel for the features, Gaussian kernel for the outcomes.\n",
      "Block HSIC Lasso B = 1394.\n",
      "M set to 1.\n",
      "Using Gaussian kernel for the features, Gaussian kernel for the outcomes.\n",
      "Block HSIC Lasso B = 1394.\n",
      "M set to 1.\n",
      "Using Gaussian kernel for the features, Gaussian kernel for the outcomes.\n"
     ]
    },
    {
     "name": "stderr",
     "output_type": "stream",
     "text": [
      "Running hsic on crime                                     :  65%|██████▌   | 13/20 [07:31<04:38, 39.82s/it]"
     ]
    },
    {
     "name": "stdout",
     "output_type": "stream",
     "text": [
      "Block HSIC Lasso B = 1394.\n",
      "M set to 1.\n",
      "Using Gaussian kernel for the features, Gaussian kernel for the outcomes.\n",
      "Block HSIC Lasso B = 1394.\n",
      "M set to 1.\n",
      "Using Gaussian kernel for the features, Gaussian kernel for the outcomes.\n",
      "Block HSIC Lasso B = 1394.\n",
      "M set to 1.\n",
      "Using Gaussian kernel for the features, Gaussian kernel for the outcomes.\n",
      "Block HSIC Lasso B = 1394.\n",
      "M set to 1.\n",
      "Using Gaussian kernel for the features, Gaussian kernel for the outcomes.\n",
      "Block HSIC Lasso B = 1394.\n",
      "M set to 1.\n",
      "Using Gaussian kernel for the features, Gaussian kernel for the outcomes.\n",
      "Block HSIC Lasso B = 1394.\n",
      "M set to 1.\n",
      "Using Gaussian kernel for the features, Gaussian kernel for the outcomes.\n"
     ]
    },
    {
     "name": "stderr",
     "output_type": "stream",
     "text": [
      "Running hsic on crime                                     :  70%|███████   | 14/20 [08:12<04:00, 40.07s/it]"
     ]
    },
    {
     "name": "stdout",
     "output_type": "stream",
     "text": [
      "Block HSIC Lasso B = 1394.\n",
      "M set to 1.\n",
      "Using Gaussian kernel for the features, Gaussian kernel for the outcomes.\n",
      "Block HSIC Lasso B = 1394.\n",
      "M set to 1.\n",
      "Using Gaussian kernel for the features, Gaussian kernel for the outcomes.\n",
      "Block HSIC Lasso B = 1394.\n",
      "M set to 1.\n",
      "Using Gaussian kernel for the features, Gaussian kernel for the outcomes.\n",
      "Block HSIC Lasso B = 1394.\n",
      "M set to 1.\n",
      "Using Gaussian kernel for the features, Gaussian kernel for the outcomes.\n",
      "Block HSIC Lasso B = 1394.\n",
      "M set to 1.\n",
      "Using Gaussian kernel for the features, Gaussian kernel for the outcomes.\n",
      "Block HSIC Lasso B = 1394.\n",
      "M set to 1.\n",
      "Using Gaussian kernel for the features, Gaussian kernel for the outcomes.\n"
     ]
    },
    {
     "name": "stderr",
     "output_type": "stream",
     "text": [
      "Running hsic on crime                                     :  75%|███████▌  | 15/20 [08:53<03:21, 40.30s/it]"
     ]
    },
    {
     "name": "stdout",
     "output_type": "stream",
     "text": [
      "Block HSIC Lasso B = 1394.\n",
      "M set to 1.\n",
      "Using Gaussian kernel for the features, Gaussian kernel for the outcomes.\n",
      "Block HSIC Lasso B = 1394.\n",
      "M set to 1.\n",
      "Using Gaussian kernel for the features, Gaussian kernel for the outcomes.\n",
      "Block HSIC Lasso B = 1394.\n",
      "M set to 1.\n",
      "Using Gaussian kernel for the features, Gaussian kernel for the outcomes.\n",
      "Block HSIC Lasso B = 1394.\n",
      "M set to 1.\n",
      "Using Gaussian kernel for the features, Gaussian kernel for the outcomes.\n",
      "Block HSIC Lasso B = 1394.\n",
      "M set to 1.\n",
      "Using Gaussian kernel for the features, Gaussian kernel for the outcomes.\n",
      "Block HSIC Lasso B = 1394.\n",
      "M set to 1.\n",
      "Using Gaussian kernel for the features, Gaussian kernel for the outcomes.\n"
     ]
    },
    {
     "name": "stderr",
     "output_type": "stream",
     "text": [
      "Running hsic on crime                                     :  80%|████████  | 16/20 [09:34<02:41, 40.44s/it]"
     ]
    },
    {
     "name": "stdout",
     "output_type": "stream",
     "text": [
      "Block HSIC Lasso B = 1394.\n",
      "M set to 1.\n",
      "Using Gaussian kernel for the features, Gaussian kernel for the outcomes.\n",
      "Block HSIC Lasso B = 1394.\n",
      "M set to 1.\n",
      "Using Gaussian kernel for the features, Gaussian kernel for the outcomes.\n",
      "Block HSIC Lasso B = 1394.\n",
      "M set to 1.\n",
      "Using Gaussian kernel for the features, Gaussian kernel for the outcomes.\n",
      "Block HSIC Lasso B = 1394.\n",
      "M set to 1.\n",
      "Using Gaussian kernel for the features, Gaussian kernel for the outcomes.\n",
      "Block HSIC Lasso B = 1394.\n",
      "M set to 1.\n",
      "Using Gaussian kernel for the features, Gaussian kernel for the outcomes.\n",
      "Block HSIC Lasso B = 1394.\n",
      "M set to 1.\n",
      "Using Gaussian kernel for the features, Gaussian kernel for the outcomes.\n"
     ]
    },
    {
     "name": "stderr",
     "output_type": "stream",
     "text": [
      "Running hsic on crime                                     :  85%|████████▌ | 17/20 [10:14<02:01, 40.45s/it]"
     ]
    },
    {
     "name": "stdout",
     "output_type": "stream",
     "text": [
      "Block HSIC Lasso B = 1394.\n",
      "M set to 1.\n",
      "Using Gaussian kernel for the features, Gaussian kernel for the outcomes.\n",
      "Block HSIC Lasso B = 1394.\n",
      "M set to 1.\n",
      "Using Gaussian kernel for the features, Gaussian kernel for the outcomes.\n",
      "Block HSIC Lasso B = 1394.\n",
      "M set to 1.\n",
      "Using Gaussian kernel for the features, Gaussian kernel for the outcomes.\n",
      "Block HSIC Lasso B = 1394.\n",
      "M set to 1.\n",
      "Using Gaussian kernel for the features, Gaussian kernel for the outcomes.\n",
      "Block HSIC Lasso B = 1394.\n",
      "M set to 1.\n",
      "Using Gaussian kernel for the features, Gaussian kernel for the outcomes.\n",
      "Block HSIC Lasso B = 1394.\n",
      "M set to 1.\n",
      "Using Gaussian kernel for the features, Gaussian kernel for the outcomes.\n"
     ]
    },
    {
     "name": "stderr",
     "output_type": "stream",
     "text": [
      "Running hsic on crime                                     :  90%|█████████ | 18/20 [10:56<01:21, 40.77s/it]"
     ]
    },
    {
     "name": "stdout",
     "output_type": "stream",
     "text": [
      "Block HSIC Lasso B = 1394.\n",
      "M set to 1.\n",
      "Using Gaussian kernel for the features, Gaussian kernel for the outcomes.\n",
      "Block HSIC Lasso B = 1394.\n",
      "M set to 1.\n",
      "Using Gaussian kernel for the features, Gaussian kernel for the outcomes.\n"
     ]
    },
    {
     "name": "stderr",
     "output_type": "stream",
     "text": [
      "Running hsic on crime                                     :  90%|█████████ | 18/20 [11:03<01:13, 36.89s/it]\n"
     ]
    },
    {
     "ename": "KeyboardInterrupt",
     "evalue": "",
     "output_type": "error",
     "traceback": [
      "\u001b[0;31m---------------------------------------------------------------------------\u001b[0m",
      "\u001b[0;31mKeyboardInterrupt\u001b[0m                         Traceback (most recent call last)",
      "Cell \u001b[0;32mIn[59], line 45\u001b[0m\n\u001b[1;32m     42\u001b[0m         \u001b[38;5;28;01mif\u001b[39;00m tmp_param[\u001b[38;5;124m\"\u001b[39m\u001b[38;5;124mname\u001b[39m\u001b[38;5;124m\"\u001b[39m] \u001b[38;5;241m==\u001b[39m \u001b[38;5;124m\"\u001b[39m\u001b[38;5;124mB\u001b[39m\u001b[38;5;124m\"\u001b[39m:\n\u001b[1;32m     43\u001b[0m             tmp_param[\u001b[38;5;124m\"\u001b[39m\u001b[38;5;124mvalue\u001b[39m\u001b[38;5;124m\"\u001b[39m] \u001b[38;5;241m=\u001b[39m \u001b[38;5;241m10\u001b[39m\n\u001b[0;32m---> 45\u001b[0m res \u001b[38;5;241m=\u001b[39m \u001b[43moptimize_model\u001b[49m\u001b[43m(\u001b[49m\n\u001b[1;32m     46\u001b[0m \u001b[43m    \u001b[49m\u001b[43minfo\u001b[49m\u001b[43m,\u001b[49m\n\u001b[1;32m     47\u001b[0m \u001b[43m    \u001b[49m\u001b[43mds_path\u001b[49m\u001b[43m,\u001b[49m\n\u001b[1;32m     48\u001b[0m \u001b[43m    \u001b[49m\u001b[38;5;241;43m5\u001b[39;49m\u001b[43m,\u001b[49m\u001b[43m  \u001b[49m\u001b[38;5;66;43;03m# TODO: increase this number to 50\u001b[39;49;00m\n\u001b[1;32m     49\u001b[0m \u001b[43m    \u001b[49m\u001b[38;5;28;43;01mTrue\u001b[39;49;00m\u001b[43m,\u001b[49m\n\u001b[1;32m     50\u001b[0m \u001b[43m    \u001b[49m\u001b[38;5;124;43m\"\u001b[39;49m\u001b[38;5;124;43mrmse\u001b[39;49m\u001b[38;5;124;43m\"\u001b[39;49m\u001b[43m,\u001b[49m\n\u001b[1;32m     51\u001b[0m \u001b[43m    \u001b[49m\u001b[38;5;124;43mf\u001b[39;49m\u001b[38;5;124;43m\"\u001b[39;49m\u001b[38;5;132;43;01m{\u001b[39;49;00m\u001b[43mi\u001b[49m\u001b[38;5;132;43;01m}\u001b[39;49;00m\u001b[38;5;124;43m_\u001b[39;49m\u001b[38;5;132;43;01m{\u001b[39;49;00m\u001b[43mn_samples\u001b[49m\u001b[38;5;132;43;01m}\u001b[39;49;00m\u001b[38;5;124;43m\"\u001b[39;49m\u001b[43m,\u001b[49m\n\u001b[1;32m     52\u001b[0m \u001b[43m\u001b[49m\u001b[43m)\u001b[49m\n\u001b[1;32m     54\u001b[0m \u001b[38;5;28;01mif\u001b[39;00m res \u001b[38;5;129;01mis\u001b[39;00m \u001b[38;5;129;01mnot\u001b[39;00m \u001b[38;5;28;01mNone\u001b[39;00m:\n\u001b[1;32m     55\u001b[0m     reg_res[info[\u001b[38;5;124m\"\u001b[39m\u001b[38;5;124mname\u001b[39m\u001b[38;5;124m\"\u001b[39m]][ds_name]\u001b[38;5;241m.\u001b[39mappend(res)\n",
      "Cell \u001b[0;32mIn[56], line 58\u001b[0m, in \u001b[0;36moptimize_model\u001b[0;34m(model_info, ds_path, n_trials, minimize, loss_type, reg_idx)\u001b[0m\n\u001b[1;32m     55\u001b[0m round_params, trial_index \u001b[38;5;241m=\u001b[39m ax_client\u001b[38;5;241m.\u001b[39mget_next_trial()\n\u001b[1;32m     57\u001b[0m \u001b[38;5;66;03m# try:\u001b[39;00m\n\u001b[0;32m---> 58\u001b[0m model_res \u001b[38;5;241m=\u001b[39m \u001b[43mtrain_fn\u001b[49m\u001b[43m[\u001b[49m\u001b[43mmodel_info\u001b[49m\u001b[43m[\u001b[49m\u001b[38;5;124;43m\"\u001b[39;49m\u001b[38;5;124;43mmodel\u001b[39;49m\u001b[38;5;124;43m\"\u001b[39;49m\u001b[43m]\u001b[49m\u001b[43m]\u001b[49m\u001b[43m(\u001b[49m\n\u001b[1;32m     59\u001b[0m \u001b[43m    \u001b[49m\u001b[43mround_params\u001b[49m\u001b[43m,\u001b[49m\n\u001b[1;32m     60\u001b[0m \u001b[43m    \u001b[49m\u001b[43mx_train\u001b[49m\u001b[38;5;241;43m=\u001b[39;49m\u001b[43mx_train\u001b[49m\u001b[43m,\u001b[49m\n\u001b[1;32m     61\u001b[0m \u001b[43m    \u001b[49m\u001b[43my_train\u001b[49m\u001b[38;5;241;43m=\u001b[39;49m\u001b[43my_train\u001b[49m\u001b[43m,\u001b[49m\n\u001b[1;32m     62\u001b[0m \u001b[43m    \u001b[49m\u001b[43mx_val\u001b[49m\u001b[38;5;241;43m=\u001b[39;49m\u001b[43mx_val\u001b[49m\u001b[43m,\u001b[49m\n\u001b[1;32m     63\u001b[0m \u001b[43m    \u001b[49m\u001b[43my_val\u001b[49m\u001b[38;5;241;43m=\u001b[39;49m\u001b[43my_val\u001b[49m\u001b[43m,\u001b[49m\n\u001b[1;32m     64\u001b[0m \u001b[43m    \u001b[49m\u001b[43mx_test\u001b[49m\u001b[38;5;241;43m=\u001b[39;49m\u001b[43mx_test\u001b[49m\u001b[43m,\u001b[49m\n\u001b[1;32m     65\u001b[0m \u001b[43m    \u001b[49m\u001b[43my_test\u001b[49m\u001b[38;5;241;43m=\u001b[39;49m\u001b[43my_test\u001b[49m\u001b[43m,\u001b[49m\n\u001b[1;32m     66\u001b[0m \u001b[43m\u001b[49m\u001b[43m)\u001b[49m\n\u001b[1;32m     67\u001b[0m model_score \u001b[38;5;241m=\u001b[39m score(dummy_res, model_res)\n\u001b[1;32m     68\u001b[0m ax_client\u001b[38;5;241m.\u001b[39mcomplete_trial(\n\u001b[1;32m     69\u001b[0m     trial_index\u001b[38;5;241m=\u001b[39mtrial_index,\n\u001b[1;32m     70\u001b[0m     raw_data\u001b[38;5;241m=\u001b[39mmodel_score[\u001b[38;5;124m\"\u001b[39m\u001b[38;5;124mnorm_error\u001b[39m\u001b[38;5;124m\"\u001b[39m][\u001b[38;5;124m\"\u001b[39m\u001b[38;5;124mval\u001b[39m\u001b[38;5;124m\"\u001b[39m],\n\u001b[1;32m     71\u001b[0m )\n",
      "Cell \u001b[0;32mIn[52], line 229\u001b[0m, in \u001b[0;36mtrain_hsic\u001b[0;34m(params, x_train, y_train, x_val, y_val, x_test, y_test)\u001b[0m\n\u001b[1;32m    227\u001b[0m sel_model \u001b[38;5;241m=\u001b[39m HSICLasso()\n\u001b[1;32m    228\u001b[0m sel_model\u001b[38;5;241m.\u001b[39minput(x_train, y_train)\n\u001b[0;32m--> 229\u001b[0m \u001b[43msel_model\u001b[49m\u001b[38;5;241;43m.\u001b[39;49m\u001b[43mregression\u001b[49m\u001b[43m(\u001b[49m\n\u001b[1;32m    230\u001b[0m \u001b[43m    \u001b[49m\u001b[43mn_features\u001b[49m\u001b[43m,\u001b[49m\n\u001b[1;32m    231\u001b[0m \u001b[43m    \u001b[49m\u001b[43mmax_neighbors\u001b[49m\u001b[38;5;241;43m=\u001b[39;49m\u001b[43mparams\u001b[49m\u001b[38;5;241;43m.\u001b[39;49m\u001b[43mpop\u001b[49m\u001b[43m(\u001b[49m\u001b[38;5;124;43m\"\u001b[39;49m\u001b[38;5;124;43mmax_neighbors\u001b[39;49m\u001b[38;5;124;43m\"\u001b[39;49m\u001b[43m)\u001b[49m\u001b[43m,\u001b[49m\n\u001b[1;32m    232\u001b[0m \u001b[43m    \u001b[49m\u001b[43mB\u001b[49m\u001b[38;5;241;43m=\u001b[39;49m\u001b[43mparams\u001b[49m\u001b[38;5;241;43m.\u001b[39;49m\u001b[43mpop\u001b[49m\u001b[43m(\u001b[49m\u001b[38;5;124;43m\"\u001b[39;49m\u001b[38;5;124;43mB\u001b[39;49m\u001b[38;5;124;43m\"\u001b[39;49m\u001b[43m)\u001b[49m\u001b[43m,\u001b[49m\n\u001b[1;32m    233\u001b[0m \u001b[43m    \u001b[49m\u001b[43mM\u001b[49m\u001b[38;5;241;43m=\u001b[39;49m\u001b[43mparams\u001b[49m\u001b[38;5;241;43m.\u001b[39;49m\u001b[43mpop\u001b[49m\u001b[43m(\u001b[49m\u001b[38;5;124;43m\"\u001b[39;49m\u001b[38;5;124;43mM\u001b[39;49m\u001b[38;5;124;43m\"\u001b[39;49m\u001b[43m)\u001b[49m\u001b[43m,\u001b[49m\n\u001b[1;32m    234\u001b[0m \u001b[43m\u001b[49m\u001b[43m)\u001b[49m\n\u001b[1;32m    236\u001b[0m sel_feats \u001b[38;5;241m=\u001b[39m np\u001b[38;5;241m.\u001b[39marray(sel_model\u001b[38;5;241m.\u001b[39mget_index())\n\u001b[1;32m    238\u001b[0m y_train_pred, y_val_pred, y_test_pred, pred_model \u001b[38;5;241m=\u001b[39m train_test_gb(\n\u001b[1;32m    239\u001b[0m     x_train, y_train, x_val, y_val, x_test, y_test, sel_feats\n\u001b[1;32m    240\u001b[0m )\n",
      "File \u001b[0;32m~/code/school/joplen/code/joplen-tests/my_env311/lib/python3.11/site-packages/pyHSICLasso/api.py:68\u001b[0m, in \u001b[0;36mHSICLasso.regression\u001b[0;34m(self, num_feat, B, M, discrete_x, max_neighbors, n_jobs, covars, covars_kernel)\u001b[0m\n\u001b[1;32m     67\u001b[0m \u001b[38;5;28;01mdef\u001b[39;00m \u001b[38;5;21mregression\u001b[39m(\u001b[38;5;28mself\u001b[39m, num_feat\u001b[38;5;241m=\u001b[39m\u001b[38;5;241m5\u001b[39m, B\u001b[38;5;241m=\u001b[39m\u001b[38;5;241m20\u001b[39m, M\u001b[38;5;241m=\u001b[39m\u001b[38;5;241m3\u001b[39m, discrete_x\u001b[38;5;241m=\u001b[39m\u001b[38;5;28;01mFalse\u001b[39;00m, max_neighbors\u001b[38;5;241m=\u001b[39m\u001b[38;5;241m10\u001b[39m, n_jobs\u001b[38;5;241m=\u001b[39m\u001b[38;5;241m-\u001b[39m\u001b[38;5;241m1\u001b[39m, covars \u001b[38;5;241m=\u001b[39m np\u001b[38;5;241m.\u001b[39marray([]),covars_kernel\u001b[38;5;241m=\u001b[39m\u001b[38;5;124m\"\u001b[39m\u001b[38;5;124mGaussian\u001b[39m\u001b[38;5;124m\"\u001b[39m):\n\u001b[0;32m---> 68\u001b[0m     \u001b[38;5;28;43mself\u001b[39;49m\u001b[38;5;241;43m.\u001b[39;49m\u001b[43m_run_hsic_lasso\u001b[49m\u001b[43m(\u001b[49m\u001b[43mnum_feat\u001b[49m\u001b[38;5;241;43m=\u001b[39;49m\u001b[43mnum_feat\u001b[49m\u001b[43m,\u001b[49m\n\u001b[1;32m     69\u001b[0m \u001b[43m                         \u001b[49m\u001b[43my_kernel\u001b[49m\u001b[38;5;241;43m=\u001b[39;49m\u001b[38;5;124;43m\"\u001b[39;49m\u001b[38;5;124;43mGaussian\u001b[39;49m\u001b[38;5;124;43m\"\u001b[39;49m\u001b[43m,\u001b[49m\n\u001b[1;32m     70\u001b[0m \u001b[43m                         \u001b[49m\u001b[43mB\u001b[49m\u001b[38;5;241;43m=\u001b[39;49m\u001b[43mB\u001b[49m\u001b[43m,\u001b[49m\u001b[43m \u001b[49m\u001b[43mM\u001b[49m\u001b[38;5;241;43m=\u001b[39;49m\u001b[43mM\u001b[49m\u001b[43m,\u001b[49m\n\u001b[1;32m     71\u001b[0m \u001b[43m                         \u001b[49m\u001b[43mdiscrete_x\u001b[49m\u001b[38;5;241;43m=\u001b[39;49m\u001b[43mdiscrete_x\u001b[49m\u001b[43m,\u001b[49m\n\u001b[1;32m     72\u001b[0m \u001b[43m                         \u001b[49m\u001b[43mmax_neighbors\u001b[49m\u001b[38;5;241;43m=\u001b[39;49m\u001b[43mmax_neighbors\u001b[49m\u001b[43m,\u001b[49m\n\u001b[1;32m     73\u001b[0m \u001b[43m                         \u001b[49m\u001b[43mn_jobs\u001b[49m\u001b[38;5;241;43m=\u001b[39;49m\u001b[43mn_jobs\u001b[49m\u001b[43m,\u001b[49m\n\u001b[1;32m     74\u001b[0m \u001b[43m                         \u001b[49m\u001b[43mcovars\u001b[49m\u001b[38;5;241;43m=\u001b[39;49m\u001b[43mcovars\u001b[49m\u001b[43m,\u001b[49m\n\u001b[1;32m     75\u001b[0m \u001b[43m                         \u001b[49m\u001b[43mcovars_kernel\u001b[49m\u001b[38;5;241;43m=\u001b[39;49m\u001b[43mcovars_kernel\u001b[49m\u001b[43m)\u001b[49m\n\u001b[1;32m     77\u001b[0m     \u001b[38;5;28;01mreturn\u001b[39;00m \u001b[38;5;28;01mTrue\u001b[39;00m\n",
      "File \u001b[0;32m~/code/school/joplen/code/joplen-tests/my_env311/lib/python3.11/site-packages/pyHSICLasso/api.py:116\u001b[0m, in \u001b[0;36mHSICLasso._run_hsic_lasso\u001b[0;34m(self, y_kernel, num_feat, B, M, discrete_x, max_neighbors, n_jobs, covars, covars_kernel)\u001b[0m\n\u001b[1;32m    112\u001b[0m \u001b[38;5;28mprint\u001b[39m(\u001b[38;5;124m'\u001b[39m\u001b[38;5;124mM set to \u001b[39m\u001b[38;5;132;01m{}\u001b[39;00m\u001b[38;5;124m.\u001b[39m\u001b[38;5;124m'\u001b[39m\u001b[38;5;241m.\u001b[39mformat(M))\n\u001b[1;32m    113\u001b[0m \u001b[38;5;28mprint\u001b[39m(\u001b[38;5;124m'\u001b[39m\u001b[38;5;124mUsing \u001b[39m\u001b[38;5;132;01m{}\u001b[39;00m\u001b[38;5;124m kernel for the features, \u001b[39m\u001b[38;5;132;01m{}\u001b[39;00m\u001b[38;5;124m kernel for the outcomes\u001b[39m\u001b[38;5;132;01m{}\u001b[39;00m\u001b[38;5;124m.\u001b[39m\u001b[38;5;124m'\u001b[39m\u001b[38;5;241m.\u001b[39mformat(\n\u001b[1;32m    114\u001b[0m     x_kernel, y_kernel, \u001b[38;5;124m'\u001b[39m\u001b[38;5;124m and Gaussian kernel for the covariates\u001b[39m\u001b[38;5;124m'\u001b[39m \u001b[38;5;28;01mif\u001b[39;00m covars\u001b[38;5;241m.\u001b[39msize \u001b[38;5;28;01melse\u001b[39;00m \u001b[38;5;124m'\u001b[39m\u001b[38;5;124m'\u001b[39m))\n\u001b[0;32m--> 116\u001b[0m X,Xty,Ky \u001b[38;5;241m=\u001b[39m \u001b[43mhsic_lasso\u001b[49m\u001b[43m(\u001b[49m\u001b[38;5;28;43mself\u001b[39;49m\u001b[38;5;241;43m.\u001b[39;49m\u001b[43mX_in\u001b[49m\u001b[43m,\u001b[49m\u001b[43m \u001b[49m\u001b[38;5;28;43mself\u001b[39;49m\u001b[38;5;241;43m.\u001b[39;49m\u001b[43mY_in\u001b[49m\u001b[43m,\u001b[49m\u001b[43m \u001b[49m\u001b[43my_kernel\u001b[49m\u001b[43m,\u001b[49m\u001b[43m \u001b[49m\u001b[43mx_kernel\u001b[49m\u001b[43m,\u001b[49m\n\u001b[1;32m    117\u001b[0m \u001b[43m                      \u001b[49m\u001b[43mn_jobs\u001b[49m\u001b[38;5;241;43m=\u001b[39;49m\u001b[43mn_jobs\u001b[49m\u001b[43m,\u001b[49m\u001b[43m \u001b[49m\u001b[43mdiscarded\u001b[49m\u001b[38;5;241;43m=\u001b[39;49m\u001b[43mdiscarded\u001b[49m\u001b[43m,\u001b[49m\u001b[43m \u001b[49m\u001b[43mB\u001b[49m\u001b[38;5;241;43m=\u001b[39;49m\u001b[43mB\u001b[49m\u001b[43m,\u001b[49m\u001b[43m \u001b[49m\u001b[43mM\u001b[49m\u001b[38;5;241;43m=\u001b[39;49m\u001b[43mM\u001b[49m\u001b[43m)\u001b[49m\n\u001b[1;32m    119\u001b[0m \u001b[38;5;66;03m# np.concatenate(self.X, axis = 0) * np.sqrt(1/(numblocks * M))\u001b[39;00m\n\u001b[1;32m    120\u001b[0m \u001b[38;5;28mself\u001b[39m\u001b[38;5;241m.\u001b[39mX \u001b[38;5;241m=\u001b[39m X \u001b[38;5;241m*\u001b[39m np\u001b[38;5;241m.\u001b[39msqrt(\u001b[38;5;241m1\u001b[39m \u001b[38;5;241m/\u001b[39m (numblocks \u001b[38;5;241m*\u001b[39m M))\n",
      "File \u001b[0;32m~/code/school/joplen/code/joplen-tests/my_env311/lib/python3.11/site-packages/pyHSICLasso/hsic_lasso.py:37\u001b[0m, in \u001b[0;36mhsic_lasso\u001b[0;34m(X, Y, y_kernel, x_kernel, n_jobs, discarded, B, M)\u001b[0m\n\u001b[1;32m     34\u001b[0m L \u001b[38;5;241m=\u001b[39m np\u001b[38;5;241m.\u001b[39mreshape(L,(n \u001b[38;5;241m*\u001b[39m B \u001b[38;5;241m*\u001b[39m M,\u001b[38;5;241m1\u001b[39m))\n\u001b[1;32m     36\u001b[0m \u001b[38;5;66;03m# Preparing design matrix for HSIC Lars\u001b[39;00m\n\u001b[0;32m---> 37\u001b[0m result \u001b[38;5;241m=\u001b[39m \u001b[43mParallel\u001b[49m\u001b[43m(\u001b[49m\u001b[43mn_jobs\u001b[49m\u001b[38;5;241;43m=\u001b[39;49m\u001b[43mn_jobs\u001b[49m\u001b[43m)\u001b[49m\u001b[43m(\u001b[49m\u001b[43m[\u001b[49m\u001b[43mdelayed\u001b[49m\u001b[43m(\u001b[49m\u001b[43mparallel_compute_kernel\u001b[49m\u001b[43m)\u001b[49m\u001b[43m(\u001b[49m\n\u001b[1;32m     38\u001b[0m \u001b[43m    \u001b[49m\u001b[43mnp\u001b[49m\u001b[38;5;241;43m.\u001b[39;49m\u001b[43mreshape\u001b[49m\u001b[43m(\u001b[49m\u001b[43mX\u001b[49m\u001b[43m[\u001b[49m\u001b[43mk\u001b[49m\u001b[43m,\u001b[49m\u001b[43m:\u001b[49m\u001b[43m]\u001b[49m\u001b[43m,\u001b[49m\u001b[43m(\u001b[49m\u001b[38;5;241;43m1\u001b[39;49m\u001b[43m,\u001b[49m\u001b[43mn\u001b[49m\u001b[43m)\u001b[49m\u001b[43m)\u001b[49m\u001b[43m,\u001b[49m\u001b[43m \u001b[49m\u001b[43mx_kernel\u001b[49m\u001b[43m,\u001b[49m\u001b[43m \u001b[49m\u001b[43mk\u001b[49m\u001b[43m,\u001b[49m\u001b[43m \u001b[49m\u001b[43mB\u001b[49m\u001b[43m,\u001b[49m\u001b[43m \u001b[49m\u001b[43mM\u001b[49m\u001b[43m,\u001b[49m\u001b[43m \u001b[49m\u001b[43mn\u001b[49m\u001b[43m,\u001b[49m\u001b[43m \u001b[49m\u001b[43mdiscarded\u001b[49m\u001b[43m)\u001b[49m\u001b[43m \u001b[49m\u001b[38;5;28;43;01mfor\u001b[39;49;00m\u001b[43m \u001b[49m\u001b[43mk\u001b[49m\u001b[43m \u001b[49m\u001b[38;5;129;43;01min\u001b[39;49;00m\u001b[43m \u001b[49m\u001b[38;5;28;43mrange\u001b[39;49m\u001b[43m(\u001b[49m\u001b[43md\u001b[49m\u001b[43m)\u001b[49m\u001b[43m]\u001b[49m\u001b[43m)\u001b[49m\n\u001b[1;32m     40\u001b[0m \u001b[38;5;66;03m# non-parallel version for debugging purposes\u001b[39;00m\n\u001b[1;32m     41\u001b[0m \u001b[38;5;66;03m# result = []\u001b[39;00m\n\u001b[1;32m     42\u001b[0m \u001b[38;5;66;03m# for k in range(d):\u001b[39;00m\n\u001b[1;32m     43\u001b[0m \u001b[38;5;66;03m#     X = parallel_compute_kernel(X[k, :], x_kernel, k, B, M, n, discarded)\u001b[39;00m\n\u001b[1;32m     44\u001b[0m \u001b[38;5;66;03m#     result.append(X)\u001b[39;00m\n\u001b[1;32m     46\u001b[0m result \u001b[38;5;241m=\u001b[39m \u001b[38;5;28mdict\u001b[39m(result)\n",
      "File \u001b[0;32m~/code/school/joplen/code/joplen-tests/my_env311/lib/python3.11/site-packages/joblib/parallel.py:1952\u001b[0m, in \u001b[0;36mParallel.__call__\u001b[0;34m(self, iterable)\u001b[0m\n\u001b[1;32m   1946\u001b[0m \u001b[38;5;66;03m# The first item from the output is blank, but it makes the interpreter\u001b[39;00m\n\u001b[1;32m   1947\u001b[0m \u001b[38;5;66;03m# progress until it enters the Try/Except block of the generator and\u001b[39;00m\n\u001b[1;32m   1948\u001b[0m \u001b[38;5;66;03m# reach the first `yield` statement. This starts the aynchronous\u001b[39;00m\n\u001b[1;32m   1949\u001b[0m \u001b[38;5;66;03m# dispatch of the tasks to the workers.\u001b[39;00m\n\u001b[1;32m   1950\u001b[0m \u001b[38;5;28mnext\u001b[39m(output)\n\u001b[0;32m-> 1952\u001b[0m \u001b[38;5;28;01mreturn\u001b[39;00m output \u001b[38;5;28;01mif\u001b[39;00m \u001b[38;5;28mself\u001b[39m\u001b[38;5;241m.\u001b[39mreturn_generator \u001b[38;5;28;01melse\u001b[39;00m \u001b[38;5;28mlist\u001b[39m(output)\n",
      "File \u001b[0;32m~/code/school/joplen/code/joplen-tests/my_env311/lib/python3.11/site-packages/joblib/parallel.py:1595\u001b[0m, in \u001b[0;36mParallel._get_outputs\u001b[0;34m(self, iterator, pre_dispatch)\u001b[0m\n\u001b[1;32m   1592\u001b[0m     \u001b[38;5;28;01myield\u001b[39;00m\n\u001b[1;32m   1594\u001b[0m     \u001b[38;5;28;01mwith\u001b[39;00m \u001b[38;5;28mself\u001b[39m\u001b[38;5;241m.\u001b[39m_backend\u001b[38;5;241m.\u001b[39mretrieval_context():\n\u001b[0;32m-> 1595\u001b[0m         \u001b[38;5;28;01myield from\u001b[39;00m \u001b[38;5;28mself\u001b[39m\u001b[38;5;241m.\u001b[39m_retrieve()\n\u001b[1;32m   1597\u001b[0m \u001b[38;5;28;01mexcept\u001b[39;00m \u001b[38;5;167;01mGeneratorExit\u001b[39;00m:\n\u001b[1;32m   1598\u001b[0m     \u001b[38;5;66;03m# The generator has been garbage collected before being fully\u001b[39;00m\n\u001b[1;32m   1599\u001b[0m     \u001b[38;5;66;03m# consumed. This aborts the remaining tasks if possible and warn\u001b[39;00m\n\u001b[1;32m   1600\u001b[0m     \u001b[38;5;66;03m# the user if necessary.\u001b[39;00m\n\u001b[1;32m   1601\u001b[0m     \u001b[38;5;28mself\u001b[39m\u001b[38;5;241m.\u001b[39m_exception \u001b[38;5;241m=\u001b[39m \u001b[38;5;28;01mTrue\u001b[39;00m\n",
      "File \u001b[0;32m~/code/school/joplen/code/joplen-tests/my_env311/lib/python3.11/site-packages/joblib/parallel.py:1707\u001b[0m, in \u001b[0;36mParallel._retrieve\u001b[0;34m(self)\u001b[0m\n\u001b[1;32m   1702\u001b[0m \u001b[38;5;66;03m# If the next job is not ready for retrieval yet, we just wait for\u001b[39;00m\n\u001b[1;32m   1703\u001b[0m \u001b[38;5;66;03m# async callbacks to progress.\u001b[39;00m\n\u001b[1;32m   1704\u001b[0m \u001b[38;5;28;01mif\u001b[39;00m ((\u001b[38;5;28mlen\u001b[39m(\u001b[38;5;28mself\u001b[39m\u001b[38;5;241m.\u001b[39m_jobs) \u001b[38;5;241m==\u001b[39m \u001b[38;5;241m0\u001b[39m) \u001b[38;5;129;01mor\u001b[39;00m\n\u001b[1;32m   1705\u001b[0m     (\u001b[38;5;28mself\u001b[39m\u001b[38;5;241m.\u001b[39m_jobs[\u001b[38;5;241m0\u001b[39m]\u001b[38;5;241m.\u001b[39mget_status(\n\u001b[1;32m   1706\u001b[0m         timeout\u001b[38;5;241m=\u001b[39m\u001b[38;5;28mself\u001b[39m\u001b[38;5;241m.\u001b[39mtimeout) \u001b[38;5;241m==\u001b[39m TASK_PENDING)):\n\u001b[0;32m-> 1707\u001b[0m     time\u001b[38;5;241m.\u001b[39msleep(\u001b[38;5;241m0.01\u001b[39m)\n\u001b[1;32m   1708\u001b[0m     \u001b[38;5;28;01mcontinue\u001b[39;00m\n\u001b[1;32m   1710\u001b[0m \u001b[38;5;66;03m# We need to be careful: the job list can be filling up as\u001b[39;00m\n\u001b[1;32m   1711\u001b[0m \u001b[38;5;66;03m# we empty it and Python list are not thread-safe by\u001b[39;00m\n\u001b[1;32m   1712\u001b[0m \u001b[38;5;66;03m# default hence the use of the lock\u001b[39;00m\n",
      "\u001b[0;31mKeyboardInterrupt\u001b[0m: "
     ]
    }
   ],
   "source": [
    "reg_res = defaultdict(lambda: defaultdict(list))\n",
    "\n",
    "datasets = [DS_PATH / ds / \"processed\" for ds in LST_DATASETS]\n",
    "\n",
    "for ds_path in datasets:\n",
    "    for file_name, init_info in model_info.items():\n",
    "        info = deepcopy(init_info)\n",
    "        if file_name not in sweep_params:\n",
    "            continue\n",
    "\n",
    "        # if info[\"model\"] == \"HSICLasso\" and ds_path.parent.name == \"virus\":\n",
    "        #     continue\n",
    "\n",
    "        sweep_param = deepcopy(sweep_params[file_name])\n",
    "        itr = tqdm(sweep_param[\"value\"])\n",
    "        for i, value in enumerate(itr):\n",
    "            if info[\"model\"] not in train_fn:\n",
    "                continue\n",
    "\n",
    "            # Not necessary for now, only slows things down\n",
    "            if file_name not in sweep_params:\n",
    "                continue\n",
    "\n",
    "            ds_name = ds_path.parent.name\n",
    "\n",
    "            params = info[\"parameters\"]\n",
    "            new_param = deepcopy(sweep_param)\n",
    "            new_param[\"value\"] = float(value)\n",
    "            params = replace_param(params, new_param)\n",
    "            info[\"parameters\"] = params\n",
    "\n",
    "            model_str = f\"{file_name} on {ds_name}\"\n",
    "            itr.set_description(f\"Running {model_str : <50}\")\n",
    "            if file_name == \"nn\":\n",
    "                continue\n",
    "\n",
    "            # Special case for virus dataset so it doesn't run out of memory\n",
    "            if file_name == \"hsic\" and ds_name == \"virus\":\n",
    "                continue  # because it tends to crash\n",
    "                tmp_params = deepcopy(params)\n",
    "                for tmp_param in tmp_params:\n",
    "                    if tmp_param[\"name\"] == \"B\":\n",
    "                        tmp_param[\"value\"] = 10\n",
    "\n",
    "            res = optimize_model(\n",
    "                info,\n",
    "                ds_path,\n",
    "                5,  # TODO: increase this number to 50\n",
    "                True,\n",
    "                \"rmse\",\n",
    "                f\"{i}_{n_samples}\",\n",
    "            )\n",
    "\n",
    "            if res is not None:\n",
    "                reg_res[info[\"name\"]][ds_name].append(res)\n",
    "\n",
    "    # break\n",
    "\n",
    "feat_reg_res = {k: dict(v) for k, v in reg_res.items()}"
   ]
  },
  {
   "cell_type": "code",
   "execution_count": 60,
   "metadata": {},
   "outputs": [],
   "source": [
    "feat_reg_res = {k: dict(v) for k, v in reg_res.items()}"
   ]
  },
  {
   "cell_type": "code",
   "execution_count": 61,
   "metadata": {},
   "outputs": [],
   "source": [
    "def pareto_front(\n",
    "    score: np.ndarray, density: np.ndarray\n",
    ") -> tuple[np.ndarray, np.ndarray]:\n",
    "    unique_density = np.unique(density)\n",
    "\n",
    "    pareto_score = []\n",
    "    pareto_density = []\n",
    "\n",
    "    for d in unique_density:\n",
    "        mask = density == d\n",
    "        pareto_score.append(np.min(score[mask]))\n",
    "        pareto_density.append(d)\n",
    "\n",
    "    pareto_score = np.array(pareto_score)\n",
    "    pareto_density = np.array(pareto_density)\n",
    "\n",
    "    args = np.argsort(pareto_density)\n",
    "\n",
    "    return pareto_density[args], pareto_score[args]"
   ]
  },
  {
   "cell_type": "code",
   "execution_count": 66,
   "metadata": {},
   "outputs": [
    {
     "data": {
      "image/png": "[encoded data removed]",
      "text/plain": [
       "<Figure size 9000x1500 with 6 Axes>"
      ]
     },
     "metadata": {},
     "output_type": "display_data"
    }
   ],
   "source": [
    "n_ds = len(LST_DATASETS)\n",
    "\n",
    "sorted_keys = [\n",
    "    \"JOPLEn (L21 Norm)\",\n",
    "    \"JOPLEn (Vor, L21 Norm)\",\n",
    "    \"JOPLEn (Linf1 Norm)\",\n",
    "    \"LASSO\",\n",
    "    \"Random Forest\",\n",
    "    \"Gradient Boosting\",\n",
    "    \"CCM\",\n",
    "    \"HSIC-Lasso\",\n",
    "]\n",
    "\n",
    "fig, axs = plt.subplots(1, n_ds, figsize=(5 * n_ds, 5), sharey=True, dpi=300)\n",
    "\n",
    "for ax, ds in zip(axs, LST_DATASETS):\n",
    "    for k in sorted_keys:\n",
    "        if k not in feat_reg_res:\n",
    "            continue\n",
    "\n",
    "        if ds not in feat_reg_res[k]:\n",
    "            continue\n",
    "\n",
    "        ds_res = feat_reg_res[k][ds]\n",
    "        model_score = np.array(\n",
    "            [v[\"model\"][\"score\"][\"norm_error\"][\"test\"] for v in ds_res]\n",
    "        )\n",
    "        model_density = np.array([v[\"model\"][\"results\"][\"density\"] for v in ds_res])\n",
    "\n",
    "        # print(k, ds)\n",
    "        # print(model_score)\n",
    "        # print(model_density)\n",
    "\n",
    "        pareto_density, pareto_score = pareto_front(model_score, model_density)\n",
    "        ax.plot(pareto_density, pareto_score, label=k, marker=\"o\")\n",
    "\n",
    "        # break\n",
    "\n",
    "    ax.set_title(ds)\n",
    "\n",
    "axs[0].legend()\n",
    "\n",
    "axs[1].set_xlabel(\"Density\")\n",
    "axs[0].set_ylabel(\"Test error\")\n",
    "\n",
    "axs[0].set_ylim(0, 1)\n",
    "\n",
    "plt.show()"
   ]
  },
  {
   "cell_type": "code",
   "execution_count": 63,
   "metadata": {},
   "outputs": [
    {
     "data": {
      "text/html": [
       "<div>\n",
       "<style scoped>\n",
       "    .dataframe tbody tr th:only-of-type {\n",
       "        vertical-align: middle;\n",
       "    }\n",
       "\n",
       "    .dataframe tbody tr th {\n",
       "        vertical-align: top;\n",
       "    }\n",
       "\n",
       "    .dataframe thead th {\n",
       "        text-align: right;\n",
       "    }\n",
       "</style>\n",
       "<table border=\"1\" class=\"dataframe\">\n",
       "  <thead>\n",
       "    <tr style=\"text-align: right;\">\n",
       "      <th></th>\n",
       "      <th>samples</th>\n",
       "      <th>features</th>\n",
       "    </tr>\n",
       "  </thead>\n",
       "  <tbody>\n",
       "    <tr>\n",
       "      <th>boston</th>\n",
       "      <td>353</td>\n",
       "      <td>13</td>\n",
       "    </tr>\n",
       "    <tr>\n",
       "      <th>diabetes</th>\n",
       "      <td>308</td>\n",
       "      <td>10</td>\n",
       "    </tr>\n",
       "    <tr>\n",
       "      <th>riboflavin</th>\n",
       "      <td>49</td>\n",
       "      <td>4088</td>\n",
       "    </tr>\n",
       "    <tr>\n",
       "      <th>pac_dimerization</th>\n",
       "      <td>73</td>\n",
       "      <td>311</td>\n",
       "    </tr>\n",
       "    <tr>\n",
       "      <th>crime</th>\n",
       "      <td>1394</td>\n",
       "      <td>99</td>\n",
       "    </tr>\n",
       "    <tr>\n",
       "      <th>virus</th>\n",
       "      <td>2534</td>\n",
       "      <td>479</td>\n",
       "    </tr>\n",
       "  </tbody>\n",
       "</table>\n",
       "</div>"
      ],
      "text/plain": [
       "                  samples  features\n",
       "boston                353        13\n",
       "diabetes              308        10\n",
       "riboflavin             49      4088\n",
       "pac_dimerization       73       311\n",
       "crime                1394        99\n",
       "virus                2534       479"
      ]
     },
     "execution_count": 63,
     "metadata": {},
     "output_type": "execute_result"
    }
   ],
   "source": [
    "import pandas as pd\n",
    "\n",
    "shape_dict = {}\n",
    "\n",
    "for ds in LST_DATASETS:\n",
    "    ds_path = DS_PATH / ds / \"processed\"\n",
    "    x_train = np.loadtxt(ds_path / \"x_train.csv\", delimiter=\",\")\n",
    "    shape_dict[ds] = x_train.shape\n",
    "\n",
    "shape_dict = pd.DataFrame(\n",
    "    shape_dict, columns=LST_DATASETS, index=[\"samples\", \"features\"]\n",
    ").T\n",
    "shape_dict"
   ]
  },
  {
   "cell_type": "markdown",
   "metadata": {},
   "source": [
    "##### show sparsity pattern"
   ]
  },
  {
   "cell_type": "code",
   "execution_count": 64,
   "metadata": {},
   "outputs": [
    {
     "ename": "TypeError",
     "evalue": "JOPLEn.fit() got an unexpected keyword argument 'lam'",
     "output_type": "error",
     "traceback": [
      "\u001b[0;31m---------------------------------------------------------------------------\u001b[0m",
      "\u001b[0;31mTypeError\u001b[0m                                 Traceback (most recent call last)",
      "Cell \u001b[0;32mIn[64], line 37\u001b[0m\n\u001b[1;32m     27\u001b[0m     x_train \u001b[38;5;241m=\u001b[39m StandardScaler()\u001b[38;5;241m.\u001b[39mfit_transform(x_train)\n\u001b[1;32m     29\u001b[0m     model \u001b[38;5;241m=\u001b[39m JOPLEn(\n\u001b[1;32m     30\u001b[0m         partitioner\u001b[38;5;241m=\u001b[39mLinearForestPartition,\n\u001b[1;32m     31\u001b[0m         n_cells\u001b[38;5;241m=\u001b[39m\u001b[38;5;241m4\u001b[39m,\n\u001b[0;32m   (...)\u001b[0m\n\u001b[1;32m     34\u001b[0m         cell_model\u001b[38;5;241m=\u001b[39mCellModel\u001b[38;5;241m.\u001b[39mlinear,\n\u001b[1;32m     35\u001b[0m     )\n\u001b[0;32m---> 37\u001b[0m     _ \u001b[38;5;241m=\u001b[39m \u001b[43mmodel\u001b[49m\u001b[38;5;241;43m.\u001b[39;49m\u001b[43mfit\u001b[49m\u001b[43m(\u001b[49m\n\u001b[1;32m     38\u001b[0m \u001b[43m        \u001b[49m\u001b[43mx_train\u001b[49m\u001b[43m,\u001b[49m\n\u001b[1;32m     39\u001b[0m \u001b[43m        \u001b[49m\u001b[43my_train\u001b[49m\u001b[43m,\u001b[49m\n\u001b[1;32m     40\u001b[0m \u001b[43m        \u001b[49m\u001b[43mlam\u001b[49m\u001b[38;5;241;43m=\u001b[39;49m\u001b[43ml21_penalties\u001b[49m\u001b[43m[\u001b[49m\u001b[43midx\u001b[49m\u001b[43m]\u001b[49m\u001b[43m,\u001b[49m\n\u001b[1;32m     41\u001b[0m \u001b[43m        \u001b[49m\u001b[38;5;66;43;03m# norm_type=NormType.LINF1,\u001b[39;49;00m\n\u001b[1;32m     42\u001b[0m \u001b[43m        \u001b[49m\u001b[43mnorm_type\u001b[49m\u001b[38;5;241;43m=\u001b[39;49m\u001b[43mNormType\u001b[49m\u001b[38;5;241;43m.\u001b[39;49m\u001b[43mL21\u001b[49m\u001b[43m,\u001b[49m\n\u001b[1;32m     43\u001b[0m \u001b[43m        \u001b[49m\u001b[43mverbose\u001b[49m\u001b[38;5;241;43m=\u001b[39;49m\u001b[38;5;28;43;01mFalse\u001b[39;49;00m\u001b[43m,\u001b[49m\n\u001b[1;32m     44\u001b[0m \u001b[43m    \u001b[49m\u001b[43m)\u001b[49m\n\u001b[1;32m     46\u001b[0m     weights[ds] \u001b[38;5;241m=\u001b[39m model\u001b[38;5;241m.\u001b[39mw\u001b[38;5;241m.\u001b[39mget()\n\u001b[1;32m     48\u001b[0m misc_data_path \u001b[38;5;241m=\u001b[39m Path() \u001b[38;5;241m/\u001b[39m \u001b[38;5;124m\"\u001b[39m\u001b[38;5;124mmisc_data\u001b[39m\u001b[38;5;124m\"\u001b[39m\n",
      "\u001b[0;31mTypeError\u001b[0m: JOPLEn.fit() got an unexpected keyword argument 'lam'"
     ]
    }
   ],
   "source": [
    "l21_penalties = [\n",
    "    0.4,\n",
    "    0.2,\n",
    "    0.1,\n",
    "    0.1,\n",
    "    0.4,\n",
    "    0.2,\n",
    "]\n",
    "\n",
    "linf1_penalties = [\n",
    "    4.0,\n",
    "    2.0,\n",
    "    0.1,\n",
    "    0.8,\n",
    "    2.0,\n",
    "    2.0,\n",
    "]\n",
    "\n",
    "weights = {}\n",
    "\n",
    "for idx, ds in enumerate(LST_DATASETS):\n",
    "    ds_path = DS_PATH / ds / \"processed\"\n",
    "\n",
    "    x_train = np.loadtxt(ds_path / \"x_train.csv\", delimiter=\",\")\n",
    "    y_train = np.loadtxt(ds_path / \"y_train.csv\", delimiter=\",\")\n",
    "\n",
    "    x_train = StandardScaler().fit_transform(x_train)\n",
    "\n",
    "    model = JOPLEn(\n",
    "        partitioner=LinearForestPartition,\n",
    "        n_cells=4,\n",
    "        n_partitions=10,\n",
    "        random_state=0,\n",
    "        cell_model=CellModel.linear,\n",
    "    )\n",
    "\n",
    "    _ = model.fit(\n",
    "        x_train,\n",
    "        y_train,\n",
    "        lam=l21_penalties[idx],\n",
    "        # norm_type=NormType.LINF1,\n",
    "        norm_type=NormType.L21,\n",
    "        verbose=False,\n",
    "    )\n",
    "\n",
    "    weights[ds] = model.w.get()\n",
    "\n",
    "misc_data_path = Path() / \"misc_data\"\n",
    "misc_data_path.mkdir(parents=True, exist_ok=True)\n",
    "\n",
    "np.savetxt(\n",
    "    misc_data_path / \"riboflavin_weights.csv\",\n",
    "    weights[\"riboflavin\"],\n",
    "    delimiter=\",\",\n",
    ")"
   ]
  },
  {
   "cell_type": "code",
   "execution_count": null,
   "metadata": {},
   "outputs": [
    {
     "data": {
      "image/png": "[encoded data removed]",
      "text/plain": [
       "<Figure size 1371.43x480 with 1 Axes>"
      ]
     },
     "metadata": {},
     "output_type": "display_data"
    },
    {
     "data": {
      "image/png": "[encoded data removed]",
      "text/plain": [
       "<Figure size 1600x440 with 1 Axes>"
      ]
     },
     "metadata": {},
     "output_type": "display_data"
    },
    {
     "data": {
      "image/png": "[encoded data removed]",
      "text/plain": [
       "<Figure size 400x1600 with 1 Axes>"
      ]
     },
     "metadata": {},
     "output_type": "display_data"
    },
    {
     "data": {
      "image/png": "[encoded data removed]",
      "text/plain": [
       "<Figure size 400x1600 with 1 Axes>"
      ]
     },
     "metadata": {},
     "output_type": "display_data"
    },
    {
     "data": {
      "image/png": "[encoded data removed]",
      "text/plain": [
       "<Figure size 400x1000 with 1 Axes>"
      ]
     },
     "metadata": {},
     "output_type": "display_data"
    },
    {
     "data": {
      "image/png": "[encoded data removed]",
      "text/plain": [
       "<Figure size 400x1600 with 1 Axes>"
      ]
     },
     "metadata": {},
     "output_type": "display_data"
    }
   ],
   "source": [
    "for i, (name, weight) in enumerate(weights.items()):\n",
    "    plt.matshow(weight, aspect=\"auto\")\n",
    "    plt.xlabel(\"Partitions and cells\")\n",
    "    plt.ylabel(\"Features\")\n",
    "    plt.title(f\"{i}: {name}\")\n",
    "    plt.show()"
   ]
  },
  {
   "cell_type": "markdown",
   "metadata": {},
   "source": [
    "##### Notes\n",
    "\n",
    "~~The methods that perform much better all have refitting after the feature selection.\n",
    "Maybe I should do the same thing with JOPLEn and LASSO.\n",
    "It could be that the feature penalty is significantly impacting performance because of things like shrinkage.~~\n",
    "\n",
    "After doing this refitting, JOPLEn seems to perform much better than before.\n",
    "It seems that the performance of JOPLEn relative to other methods improves as the size of the feature space increases and the number of samples decreases.\n",
    "Maybe this is because of the partitioning scheme.\n",
    "\n",
    "It seems like CCM doesn't perform as well as it should.\n",
    "Maybe this is because it's using kernels for prediction instead of gradient boosting.\n",
    "Maybe I should rerun it with gradient boosting."
   ]
  }
 ],
 "metadata": {
  "kernelspec": {
   "display_name": "Python 3",
   "language": "python",
   "name": "python3"
  },
  "language_info": {
   "codemirror_mode": {
    "name": "ipython",
    "version": 3
   },
   "file_extension": ".py",
   "mimetype": "text/x-python",
   "name": "python",
   "nbconvert_exporter": "python",
   "pygments_lexer": "ipython3",
   "version": "3.11.7"
  }
 },
 "nbformat": 4,
 "nbformat_minor": 2
}
